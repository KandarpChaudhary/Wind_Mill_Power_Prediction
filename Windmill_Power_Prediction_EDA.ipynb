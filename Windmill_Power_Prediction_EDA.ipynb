{
 "cells": [
  {
   "cell_type": "markdown",
   "id": "0d0cefb4",
   "metadata": {},
   "source": [
    "### Problem Statement:\n",
    "\n",
    "It is the year 2022 and we are at the verge of a massive climatic\n",
    "change. With global warming at its peak and fossil fuels inching towards\n",
    "its extinction, it is the need of the hour to step up and take\n",
    "responsibility for our planet. Developing countries all over the world\n",
    "are making a shift towards a cleaner energy source and are looking at\n",
    "ways to expand their global energy source power.\n",
    "\n",
    "Switching to renewable energy sources is a great way to reduce\n",
    "dependency on imported fuels and increase cost efficiency. It is time we\n",
    "move towards a low-carbon future by embracing solar, hydro, geothermal\n",
    "energy and so on, to protect mother nature.\n",
    "\n",
    "An efficient energy source that has been gaining popularity around the\n",
    "world is wind turbines. Wind turbines generate power by capturing the\n",
    "kinetic energy of the wind. Factors such as temperature, wind direction,\n",
    "turbine status, weather, blade length, and so on influence the amount of\n",
    "power generated.\n",
    "\n",
    "<https://www.hackerearth.com/challenges/competitive/hackerearth-machine-learning-challenge-predict-windmill-power/>"
   ]
  },
  {
   "cell_type": "markdown",
   "id": "88db322a",
   "metadata": {},
   "source": [
    "### Objective:\n",
    "\n",
    "The objective is to build a sophisticated Machine Learning model that\n",
    "predicts the power that is generated (in KW/h) based on the various\n",
    "features provided in the dataset. To analyze and implement multiple\n",
    "algorithms and determine which is more appropriate for a problem To get\n",
    "hands-on experience in Machine Learning problems."
   ]
  },
  {
   "cell_type": "markdown",
   "id": "80c12707",
   "metadata": {},
   "source": [
    "### Problem solving approach:\n",
    "\n",
    "1.  Splitting the data into train and test in 80:20 ratio.\n",
    "\n",
    "2.  Questioning the data - Understanding the variables very carefully\n",
    "    and formulating questions/hypothesis. (Note : These are just initial\n",
    "    hypothesis which may or may not seem to be true after the EDA step.)\n",
    "\n",
    "3.  EDA - Exploring the dataset very carefully by doing univariate\n",
    "    analysis and bivariate analysis by choosing appropriate graphs,\n",
    "    charts and descriptive measures. Reporting the surprising elements\n",
    "    (i.e. the one which were believed would be true in step 1 did not\n",
    "    turn out to be true, or a result that was beyond expectation, etc.)\n",
    "\n",
    "4.  Missing value imputation using various methods such as mean,median\n",
    "    or KNN imputation.\n",
    "\n",
    "5.  Feature engineering - (A) Suggesting some possible feature\n",
    "    transformations (like log(X), sqrt(X), X^2, X1\\*X2, etc.) with\n",
    "    reasons. (B) Suggesting some new feature generation techniques\n",
    "    (e.g.: creating dummy variables, or using one-hot encoding, or\n",
    "    transforming an existing feature to a new feature)."
   ]
  },
  {
   "cell_type": "markdown",
   "id": "b293c563",
   "metadata": {},
   "source": [
    "### Attribute Information :\n",
    "\n",
    "| Column Name                    | Meaning                                                                                             |\n",
    "|:---------|:-------------------------------------------------------------------------------------|\n",
    "| tracking_id                    | ID of the Wind Turbine                                                                              |\n",
    "| datetime                       | Date and Time                                                                                       |\n",
    "| wind_speed(m/s)                | Speed of wind in m/s                                                                                |     \n",
    "| atmospheric_temperature(°C)    | Represents the temperature (in degree Celcius) of a town or village that the windmill is present in |     \n",
    "| shaft_temperature(°C)          | Wind Mill shaft temperature in degree Celcius                                                       |     \n",
    "| blades_angle(°)                | Angle of blades in degree                                                                           |     \n",
    "| gearbox_temperature(°C)        | Gear box temperature in degree Celcius                                                              |     \n",
    "| engine_temperature(°C)         | Engine temperature in degree Celcius                                                                |     \n",
    "| motor_torque(N-m)              | Torque of Motor in N.m                                                                              |     \n",
    "| generator_temperature(°C)      | Generator temperature in degree Celcius                                                             |     \n",
    "| atmospheric_pressure(Pascal)   | Atmospheric Pressure in Pascal                                                                      |     \n",
    "| area_temperature(°C)           | Represents the temperature (in degree Celcius) of the area within a 100 m radius of the windmill    |     \n",
    "| windmill_body_temperature(°C)  | Wind Mill body temperature in degree Celcius                                                        |     \n",
    "| wind_direction(°)              | Wind direction in degree                                                                            |     \n",
    "| resistance(ohm)                | Winding resistance in Ohm                                                                           |     \n",
    "| rotor_torque(N-m)              | Rotor torque in N.m                                                                                 |     \n",
    "| turbine_status                 | Turbine Status(AAA, A2, AB, AC, A, ABC, BBB, BA, BB, B2, BCB, BD, B, D)                             |     \n",
    "| cloud_level                    | Cloud Level (Extremely Low, Low, Medium)                                                            |     \n",
    "| blade_length(m)                | Length of blades in m                                                                               |     \n",
    "| blade_breadth(m)               | Breadth of blades in m                                                                              |     \n",
    "| windmill_height(m)             | Height of Wind mill in m                                                                            |     \n",
    "| windmill_generated_power(kW/h) | Power generated by wind mill in kW/h                                                                |     "
   ]
  },
  {
   "cell_type": "markdown",
   "id": "4142e189",
   "metadata": {},
   "source": [
    "- The below code to be used for converting ipynb file to a R-markdown file. This is needed because knn imputation required VIM library of R which is not able to install in jupyter notebook environment.\n",
    "## rmarkdown::convert_ipynb(\"Windmill_Power_Prediction_EDA.ipynb\", \"ABCD.Rmd\")"
   ]
  },
  {
   "cell_type": "markdown",
   "id": "30dad67c",
   "metadata": {},
   "source": [
    "Initial Hypotheses without doing EDA (Answers are written in () after\n",
    "EDA):\n",
    "\n",
    "1.  wind_speed and windmill_generated_power are strongly positively\n",
    "    correlated (Wrong!, r=0.06)\n",
    "\n",
    "2.  rotor_torque and generator_temperature are positively correlated\n",
    "    (True, r = 0.375)\n",
    "\n",
    "3.  windmill_generated_power and blade_length are positively correlated\n",
    "    (Wrong, r=0.013)\n",
    "\n",
    "4.  windmill_height and blade_length are positively correlated (Wrong,\n",
    "    r=0.016)\n",
    "\n",
    "5.  atmospheric_temperature and area_temperature are positively\n",
    "    correlated (Wrong, r=0.07)\n",
    "\n",
    "6.  resistance and windmill_generated_power are negatively correlated\n",
    "    (Wrong, r=0.234)\n",
    "\n",
    "7.  For different turbine_status, distribution of\n",
    "    windmill_generated_power will be different (Wrong, concluded from\n",
    "    side by side boxplots)\n",
    "\n",
    "8.  engine_temperature is positively correlated with gearbox_temperature\n",
    "    (True but very weak correlation, r=0.134)\n",
    "\n",
    "9.  motor_torque and rotor_torque are positively correlated (True,\n",
    "    r=0.392)\n",
    "\n",
    "10. blades_angle and wind_direction are positively correlated (Wrong,\n",
    "    r=-0.024)\n",
    "\n",
    "    r = correlation coefficient."
   ]
  },
  {
   "cell_type": "markdown",
   "id": "305e4548",
   "metadata": {},
   "source": [
    "## 3. Univariate analysis"
   ]
  },
  {
   "cell_type": "code",
   "execution_count": 1,
   "id": "d23bb666",
   "metadata": {
    "vscode": {
     "languageId": "r"
    }
   },
   "outputs": [
    {
     "data": {
      "text/html": [
       "<ol class=list-inline>\n",
       "\t<li>28200</li>\n",
       "\t<li>22</li>\n",
       "</ol>\n"
      ],
      "text/latex": [
       "\\begin{enumerate*}\n",
       "\\item 28200\n",
       "\\item 22\n",
       "\\end{enumerate*}\n"
      ],
      "text/markdown": [
       "1. 28200\n",
       "2. 22\n",
       "\n",
       "\n"
      ],
      "text/plain": [
       "[1] 28200    22"
      ]
     },
     "metadata": {},
     "output_type": "display_data"
    }
   ],
   "source": [
    "# loading the dataset\n",
    "url = \"https://raw.githubusercontent.com/KandarpChaudhary/Wind_Mill_Power_Prediction/main/Wind_Mill_Power_Prediction.csv\"\n",
    "df <- read.csv(url)\n",
    "dim(df) # checking dimensions of the dataset"
   ]
  },
  {
   "cell_type": "code",
   "execution_count": 2,
   "id": "1b9becb0",
   "metadata": {
    "vscode": {
     "languageId": "r"
    }
   },
   "outputs": [
    {
     "data": {
      "text/html": [
       "<ol class=list-inline>\n",
       "\t<li>'tracking_id'</li>\n",
       "\t<li>'datetime'</li>\n",
       "\t<li>'wind_speed.m.s.'</li>\n",
       "\t<li>'atmospheric_temperature.Â.C.'</li>\n",
       "\t<li>'shaft_temperature.Â.C.'</li>\n",
       "\t<li>'blades_angle.Â..'</li>\n",
       "\t<li>'gearbox_temperature.Â.C.'</li>\n",
       "\t<li>'engine_temperature.Â.C.'</li>\n",
       "\t<li>'motor_torque.N.m.'</li>\n",
       "\t<li>'generator_temperature.Â.C.'</li>\n",
       "\t<li>'atmospheric_pressure.Pascal.'</li>\n",
       "\t<li>'area_temperature.Â.C.'</li>\n",
       "\t<li>'windmill_body_temperature.Â.C.'</li>\n",
       "\t<li>'wind_direction.Â..'</li>\n",
       "\t<li>'resistance.ohm.'</li>\n",
       "\t<li>'rotor_torque.N.m.'</li>\n",
       "\t<li>'turbine_status'</li>\n",
       "\t<li>'cloud_level'</li>\n",
       "\t<li>'blade_length.m.'</li>\n",
       "\t<li>'blade_breadth.m.'</li>\n",
       "\t<li>'windmill_height.m.'</li>\n",
       "\t<li>'windmill_generated_power.kW.h.'</li>\n",
       "</ol>\n"
      ],
      "text/latex": [
       "\\begin{enumerate*}\n",
       "\\item 'tracking\\_id'\n",
       "\\item 'datetime'\n",
       "\\item 'wind\\_speed.m.s.'\n",
       "\\item 'atmospheric\\_temperature.Â.C.'\n",
       "\\item 'shaft\\_temperature.Â.C.'\n",
       "\\item 'blades\\_angle.Â..'\n",
       "\\item 'gearbox\\_temperature.Â.C.'\n",
       "\\item 'engine\\_temperature.Â.C.'\n",
       "\\item 'motor\\_torque.N.m.'\n",
       "\\item 'generator\\_temperature.Â.C.'\n",
       "\\item 'atmospheric\\_pressure.Pascal.'\n",
       "\\item 'area\\_temperature.Â.C.'\n",
       "\\item 'windmill\\_body\\_temperature.Â.C.'\n",
       "\\item 'wind\\_direction.Â..'\n",
       "\\item 'resistance.ohm.'\n",
       "\\item 'rotor\\_torque.N.m.'\n",
       "\\item 'turbine\\_status'\n",
       "\\item 'cloud\\_level'\n",
       "\\item 'blade\\_length.m.'\n",
       "\\item 'blade\\_breadth.m.'\n",
       "\\item 'windmill\\_height.m.'\n",
       "\\item 'windmill\\_generated\\_power.kW.h.'\n",
       "\\end{enumerate*}\n"
      ],
      "text/markdown": [
       "1. 'tracking_id'\n",
       "2. 'datetime'\n",
       "3. 'wind_speed.m.s.'\n",
       "4. 'atmospheric_temperature.Â.C.'\n",
       "5. 'shaft_temperature.Â.C.'\n",
       "6. 'blades_angle.Â..'\n",
       "7. 'gearbox_temperature.Â.C.'\n",
       "8. 'engine_temperature.Â.C.'\n",
       "9. 'motor_torque.N.m.'\n",
       "10. 'generator_temperature.Â.C.'\n",
       "11. 'atmospheric_pressure.Pascal.'\n",
       "12. 'area_temperature.Â.C.'\n",
       "13. 'windmill_body_temperature.Â.C.'\n",
       "14. 'wind_direction.Â..'\n",
       "15. 'resistance.ohm.'\n",
       "16. 'rotor_torque.N.m.'\n",
       "17. 'turbine_status'\n",
       "18. 'cloud_level'\n",
       "19. 'blade_length.m.'\n",
       "20. 'blade_breadth.m.'\n",
       "21. 'windmill_height.m.'\n",
       "22. 'windmill_generated_power.kW.h.'\n",
       "\n",
       "\n"
      ],
      "text/plain": [
       " [1] \"tracking_id\"                    \"datetime\"                      \n",
       " [3] \"wind_speed.m.s.\"                \"atmospheric_temperature.Â.C.\"  \n",
       " [5] \"shaft_temperature.Â.C.\"         \"blades_angle.Â..\"              \n",
       " [7] \"gearbox_temperature.Â.C.\"       \"engine_temperature.Â.C.\"       \n",
       " [9] \"motor_torque.N.m.\"              \"generator_temperature.Â.C.\"    \n",
       "[11] \"atmospheric_pressure.Pascal.\"   \"area_temperature.Â.C.\"         \n",
       "[13] \"windmill_body_temperature.Â.C.\" \"wind_direction.Â..\"            \n",
       "[15] \"resistance.ohm.\"                \"rotor_torque.N.m.\"             \n",
       "[17] \"turbine_status\"                 \"cloud_level\"                   \n",
       "[19] \"blade_length.m.\"                \"blade_breadth.m.\"              \n",
       "[21] \"windmill_height.m.\"             \"windmill_generated_power.kW.h.\""
      ]
     },
     "metadata": {},
     "output_type": "display_data"
    }
   ],
   "source": [
    "names(df) #column names of the dataset"
   ]
  },
  {
   "cell_type": "code",
   "execution_count": 3,
   "id": "213394af",
   "metadata": {
    "vscode": {
     "languageId": "r"
    }
   },
   "outputs": [
    {
     "data": {
      "text/html": [
       "'c:/Users/kanda/OneDrive/Documents/Praxis/Term-2/AML/Regression/EDA Final'"
      ],
      "text/latex": [
       "'c:/Users/kanda/OneDrive/Documents/Praxis/Term-2/AML/Regression/EDA Final'"
      ],
      "text/markdown": [
       "'c:/Users/kanda/OneDrive/Documents/Praxis/Term-2/AML/Regression/EDA Final'"
      ],
      "text/plain": [
       "[1] \"c:/Users/kanda/OneDrive/Documents/Praxis/Term-2/AML/Regression/EDA Final\""
      ]
     },
     "metadata": {},
     "output_type": "display_data"
    }
   ],
   "source": [
    "getwd() #checking working directory"
   ]
  },
  {
   "cell_type": "code",
   "execution_count": 4,
   "id": "ad3e6d3d",
   "metadata": {
    "vscode": {
     "languageId": "r"
    }
   },
   "outputs": [
    {
     "data": {
      "text/html": [
       "12850"
      ],
      "text/latex": [
       "12850"
      ],
      "text/markdown": [
       "12850"
      ],
      "text/plain": [
       "[1] 12850"
      ]
     },
     "metadata": {},
     "output_type": "display_data"
    }
   ],
   "source": [
    "#checking how many rows have all no null values in all columns.\n",
    "sum(complete.cases(df))"
   ]
  },
  {
   "cell_type": "code",
   "execution_count": 5,
   "id": "91a501cf",
   "metadata": {
    "vscode": {
     "languageId": "r"
    }
   },
   "outputs": [
    {
     "data": {
      "text/html": [
       "207"
      ],
      "text/latex": [
       "207"
      ],
      "text/markdown": [
       "207"
      ],
      "text/plain": [
       "[1] 207"
      ]
     },
     "metadata": {},
     "output_type": "display_data"
    }
   ],
   "source": [
    "#checking how many missing values are present in our target variable.\n",
    "sum(is.na(df$windmill_generated_power.kW.h.))"
   ]
  },
  {
   "cell_type": "code",
   "execution_count": 6,
   "id": "44ec24e8",
   "metadata": {
    "vscode": {
     "languageId": "r"
    }
   },
   "outputs": [
    {
     "data": {
      "text/html": [
       "27993"
      ],
      "text/latex": [
       "27993"
      ],
      "text/markdown": [
       "27993"
      ],
      "text/plain": [
       "[1] 27993"
      ]
     },
     "metadata": {},
     "output_type": "display_data"
    }
   ],
   "source": [
    "#checking how many values are present in our target variable which are not null.\n",
    "sum(complete.cases(df$windmill_generated_power.kW.h.))"
   ]
  },
  {
   "cell_type": "code",
   "execution_count": 7,
   "id": "9c31a761",
   "metadata": {
    "vscode": {
     "languageId": "r"
    }
   },
   "outputs": [],
   "source": [
    "# We are dropping the rows which have null values in the target variable column and creating a different dataframe\n",
    "df2 = df[complete.cases(df$windmill_generated_power.kW.h.),]"
   ]
  },
  {
   "cell_type": "code",
   "execution_count": 8,
   "id": "145a0b37",
   "metadata": {
    "vscode": {
     "languageId": "r"
    }
   },
   "outputs": [
    {
     "data": {
      "text/html": [
       "<ol class=list-inline>\n",
       "\t<li>27993</li>\n",
       "\t<li>22</li>\n",
       "</ol>\n"
      ],
      "text/latex": [
       "\\begin{enumerate*}\n",
       "\\item 27993\n",
       "\\item 22\n",
       "\\end{enumerate*}\n"
      ],
      "text/markdown": [
       "1. 27993\n",
       "2. 22\n",
       "\n",
       "\n"
      ],
      "text/plain": [
       "[1] 27993    22"
      ]
     },
     "metadata": {},
     "output_type": "display_data"
    }
   ],
   "source": [
    "# Checkig dimensions of dataframe\n",
    "dim(df2)"
   ]
  },
  {
   "cell_type": "code",
   "execution_count": 9,
   "id": "6e7e83e7",
   "metadata": {
    "vscode": {
     "languageId": "r"
    }
   },
   "outputs": [
    {
     "data": {
      "text/html": [
       "<table>\n",
       "<thead><tr><th scope=col>tracking_id</th><th scope=col>datetime</th><th scope=col>wind_speed.m.s.</th><th scope=col>atmospheric_temperature.Â.C.</th><th scope=col>shaft_temperature.Â.C.</th><th scope=col>blades_angle.Â..</th><th scope=col>gearbox_temperature.Â.C.</th><th scope=col>engine_temperature.Â.C.</th><th scope=col>motor_torque.N.m.</th><th scope=col>generator_temperature.Â.C.</th><th scope=col>...</th><th scope=col>windmill_body_temperature.Â.C.</th><th scope=col>wind_direction.Â..</th><th scope=col>resistance.ohm.</th><th scope=col>rotor_torque.N.m.</th><th scope=col>turbine_status</th><th scope=col>cloud_level</th><th scope=col>blade_length.m.</th><th scope=col>blade_breadth.m.</th><th scope=col>windmill_height.m.</th><th scope=col>windmill_generated_power.kW.h.</th></tr></thead>\n",
       "<tbody>\n",
       "\t<tr><td>WM_33725           </td><td>2019-08-04 14:33:20</td><td> 94.82002          </td><td>-99.00000          </td><td> 41.72302          </td><td> -0.9034229        </td><td> 82.41057          </td><td>42.52302           </td><td>2563.1245          </td><td>76.66556           </td><td>...                </td><td>       NA          </td><td>239.8364           </td><td>2730.311           </td><td> 42.08467          </td><td>BA                 </td><td>Medium             </td><td>2.217542           </td><td>0.3140648          </td><td>24.28169           </td><td> 6.766521          </td></tr>\n",
       "\t<tr><td>WM_698             </td><td>2018-11-05 10:13:20</td><td>241.83273          </td><td> 27.76478          </td><td>-99.00000          </td><td>-99.0000000        </td><td> 44.10492          </td><td>46.25887           </td><td>2372.3841          </td><td>78.12980           </td><td>...                </td><td>       NA          </td><td>337.9447           </td><td>1780.207           </td><td>107.88864          </td><td>A2                 </td><td>Medium             </td><td>4.210346           </td><td>0.4484944          </td><td>27.26214           </td><td> 5.966275          </td></tr>\n",
       "\t<tr><td>WM_39146           </td><td>2019-09-14 14:03:20</td><td> 95.48472          </td><td>       NA          </td><td> 41.85547          </td><td> 12.6527635        </td><td> 42.32210          </td><td>42.87855           </td><td>1657.1696          </td><td>67.65447           </td><td>...                </td><td> 45.03320          </td><td>227.8503           </td><td>1666.050           </td><td>-42.93146          </td><td>ABC                </td><td>Medium             </td><td>2.719475           </td><td>0.3023210          </td><td>27.36613           </td><td> 2.874342          </td></tr>\n",
       "\t<tr><td>WM_6757            </td><td>2018-12-25 15:33:20</td><td>238.81942          </td><td>-99.00000          </td><td> 45.44391          </td><td> 15.1153228        </td><td> 44.75964          </td><td>47.28210           </td><td>2888.1341          </td><td>95.38997           </td><td>...                </td><td> 44.82715          </td><td>492.0815           </td><td>1964.503           </td><td> 42.74460          </td><td>ABC                </td><td>                   </td><td>4.857385           </td><td>0.3671399          </td><td>24.28777           </td><td>14.851089          </td></tr>\n",
       "\t<tr><td>WM_21521           </td><td>2019-05-04 03:13:20</td><td> 10.72289          </td><td>       NA          </td><td> 41.98118          </td><td>  1.7156961        </td><td>-17.61646          </td><td>43.46985           </td><td> 781.6954          </td><td>37.42307           </td><td>...                </td><td>-99.00000          </td><td>259.2746           </td><td>1177.516           </td><td> 13.38729          </td><td>AAA                </td><td>Medium             </td><td>      NA           </td><td>0.4533737          </td><td>27.97165           </td><td> 3.519074          </td></tr>\n",
       "</tbody>\n",
       "</table>\n"
      ],
      "text/latex": [
       "\\begin{tabular}{r|llllllllllllllllllllll}\n",
       " tracking\\_id & datetime & wind\\_speed.m.s. & atmospheric\\_temperature.Â.C. & shaft\\_temperature.Â.C. & blades\\_angle.Â.. & gearbox\\_temperature.Â.C. & engine\\_temperature.Â.C. & motor\\_torque.N.m. & generator\\_temperature.Â.C. & ... & windmill\\_body\\_temperature.Â.C. & wind\\_direction.Â.. & resistance.ohm. & rotor\\_torque.N.m. & turbine\\_status & cloud\\_level & blade\\_length.m. & blade\\_breadth.m. & windmill\\_height.m. & windmill\\_generated\\_power.kW.h.\\\\\n",
       "\\hline\n",
       "\t WM\\_33725          & 2019-08-04 14:33:20 &  94.82002           & -99.00000           &  41.72302           &  -0.9034229         &  82.41057           & 42.52302            & 2563.1245           & 76.66556            & ...                 &        NA           & 239.8364            & 2730.311            &  42.08467           & BA                  & Medium              & 2.217542            & 0.3140648           & 24.28169            &  6.766521          \\\\\n",
       "\t WM\\_698            & 2018-11-05 10:13:20 & 241.83273           &  27.76478           & -99.00000           & -99.0000000         &  44.10492           & 46.25887            & 2372.3841           & 78.12980            & ...                 &        NA           & 337.9447            & 1780.207            & 107.88864           & A2                  & Medium              & 4.210346            & 0.4484944           & 27.26214            &  5.966275          \\\\\n",
       "\t WM\\_39146          & 2019-09-14 14:03:20 &  95.48472           &        NA           &  41.85547           &  12.6527635         &  42.32210           & 42.87855            & 1657.1696           & 67.65447            & ...                 &  45.03320           & 227.8503            & 1666.050            & -42.93146           & ABC                 & Medium              & 2.719475            & 0.3023210           & 27.36613            &  2.874342          \\\\\n",
       "\t WM\\_6757           & 2018-12-25 15:33:20 & 238.81942           & -99.00000           &  45.44391           &  15.1153228         &  44.75964           & 47.28210            & 2888.1341           & 95.38997            & ...                 &  44.82715           & 492.0815            & 1964.503            &  42.74460           & ABC                 &                     & 4.857385            & 0.3671399           & 24.28777            & 14.851089          \\\\\n",
       "\t WM\\_21521          & 2019-05-04 03:13:20 &  10.72289           &        NA           &  41.98118           &   1.7156961         & -17.61646           & 43.46985            &  781.6954           & 37.42307            & ...                 & -99.00000           & 259.2746            & 1177.516            &  13.38729           & AAA                 & Medium              &       NA            & 0.4533737           & 27.97165            &  3.519074          \\\\\n",
       "\\end{tabular}\n"
      ],
      "text/markdown": [
       "\n",
       "| tracking_id | datetime | wind_speed.m.s. | atmospheric_temperature.Â.C. | shaft_temperature.Â.C. | blades_angle.Â.. | gearbox_temperature.Â.C. | engine_temperature.Â.C. | motor_torque.N.m. | generator_temperature.Â.C. | ... | windmill_body_temperature.Â.C. | wind_direction.Â.. | resistance.ohm. | rotor_torque.N.m. | turbine_status | cloud_level | blade_length.m. | blade_breadth.m. | windmill_height.m. | windmill_generated_power.kW.h. |\n",
       "|---|---|---|---|---|---|---|---|---|---|---|---|---|---|---|---|---|---|---|---|---|\n",
       "| WM_33725            | 2019-08-04 14:33:20 |  94.82002           | -99.00000           |  41.72302           |  -0.9034229         |  82.41057           | 42.52302            | 2563.1245           | 76.66556            | ...                 |        NA           | 239.8364            | 2730.311            |  42.08467           | BA                  | Medium              | 2.217542            | 0.3140648           | 24.28169            |  6.766521           |\n",
       "| WM_698              | 2018-11-05 10:13:20 | 241.83273           |  27.76478           | -99.00000           | -99.0000000         |  44.10492           | 46.25887            | 2372.3841           | 78.12980            | ...                 |        NA           | 337.9447            | 1780.207            | 107.88864           | A2                  | Medium              | 4.210346            | 0.4484944           | 27.26214            |  5.966275           |\n",
       "| WM_39146            | 2019-09-14 14:03:20 |  95.48472           |        NA           |  41.85547           |  12.6527635         |  42.32210           | 42.87855            | 1657.1696           | 67.65447            | ...                 |  45.03320           | 227.8503            | 1666.050            | -42.93146           | ABC                 | Medium              | 2.719475            | 0.3023210           | 27.36613            |  2.874342           |\n",
       "| WM_6757             | 2018-12-25 15:33:20 | 238.81942           | -99.00000           |  45.44391           |  15.1153228         |  44.75964           | 47.28210            | 2888.1341           | 95.38997            | ...                 |  44.82715           | 492.0815            | 1964.503            |  42.74460           | ABC                 |                     | 4.857385            | 0.3671399           | 24.28777            | 14.851089           |\n",
       "| WM_21521            | 2019-05-04 03:13:20 |  10.72289           |        NA           |  41.98118           |   1.7156961         | -17.61646           | 43.46985            |  781.6954           | 37.42307            | ...                 | -99.00000           | 259.2746            | 1177.516            |  13.38729           | AAA                 | Medium              |       NA            | 0.4533737           | 27.97165            |  3.519074           |\n",
       "\n"
      ],
      "text/plain": [
       "  tracking_id datetime            wind_speed.m.s. atmospheric_temperature.Â.C.\n",
       "1 WM_33725    2019-08-04 14:33:20  94.82002       -99.00000                   \n",
       "2 WM_698      2018-11-05 10:13:20 241.83273        27.76478                   \n",
       "3 WM_39146    2019-09-14 14:03:20  95.48472              NA                   \n",
       "4 WM_6757     2018-12-25 15:33:20 238.81942       -99.00000                   \n",
       "5 WM_21521    2019-05-04 03:13:20  10.72289              NA                   \n",
       "  shaft_temperature.Â.C. blades_angle.Â.. gearbox_temperature.Â.C.\n",
       "1  41.72302               -0.9034229       82.41057               \n",
       "2 -99.00000              -99.0000000       44.10492               \n",
       "3  41.85547               12.6527635       42.32210               \n",
       "4  45.44391               15.1153228       44.75964               \n",
       "5  41.98118                1.7156961      -17.61646               \n",
       "  engine_temperature.Â.C. motor_torque.N.m. generator_temperature.Â.C. ...\n",
       "1 42.52302                2563.1245         76.66556                   ...\n",
       "2 46.25887                2372.3841         78.12980                   ...\n",
       "3 42.87855                1657.1696         67.65447                   ...\n",
       "4 47.28210                2888.1341         95.38997                   ...\n",
       "5 43.46985                 781.6954         37.42307                   ...\n",
       "  windmill_body_temperature.Â.C. wind_direction.Â.. resistance.ohm.\n",
       "1        NA                      239.8364           2730.311       \n",
       "2        NA                      337.9447           1780.207       \n",
       "3  45.03320                      227.8503           1666.050       \n",
       "4  44.82715                      492.0815           1964.503       \n",
       "5 -99.00000                      259.2746           1177.516       \n",
       "  rotor_torque.N.m. turbine_status cloud_level blade_length.m. blade_breadth.m.\n",
       "1  42.08467         BA             Medium      2.217542        0.3140648       \n",
       "2 107.88864         A2             Medium      4.210346        0.4484944       \n",
       "3 -42.93146         ABC            Medium      2.719475        0.3023210       \n",
       "4  42.74460         ABC                        4.857385        0.3671399       \n",
       "5  13.38729         AAA            Medium            NA        0.4533737       \n",
       "  windmill_height.m. windmill_generated_power.kW.h.\n",
       "1 24.28169            6.766521                     \n",
       "2 27.26214            5.966275                     \n",
       "3 27.36613            2.874342                     \n",
       "4 24.28777           14.851089                     \n",
       "5 27.97165            3.519074                     "
      ]
     },
     "metadata": {},
     "output_type": "display_data"
    }
   ],
   "source": [
    "# Checking first 5 rows of the data frame\n",
    "head(df2, 5)"
   ]
  },
  {
   "cell_type": "code",
   "execution_count": 10,
   "id": "a13c94aa",
   "metadata": {
    "vscode": {
     "languageId": "r"
    }
   },
   "outputs": [
    {
     "data": {
      "text/html": [
       "0"
      ],
      "text/latex": [
       "0"
      ],
      "text/markdown": [
       "0"
      ],
      "text/plain": [
       "[1] 0"
      ]
     },
     "metadata": {},
     "output_type": "display_data"
    }
   ],
   "source": [
    "# Confirming whether missing values are present in target variable or not\n",
    "sum(is.na(df2$windmill_generated_power.kW.h.))"
   ]
  },
  {
   "cell_type": "code",
   "execution_count": 11,
   "id": "1b79bce2",
   "metadata": {
    "vscode": {
     "languageId": "r"
    }
   },
   "outputs": [],
   "source": [
    "# Randomly shuffling the dataframe rows\n",
    "set.seed(0) #setting a seed value for reproducibility\n",
    "random_df = df2[sample(1:nrow(df2)), ]"
   ]
  },
  {
   "cell_type": "code",
   "execution_count": 12,
   "id": "4f2240c7",
   "metadata": {
    "vscode": {
     "languageId": "r"
    }
   },
   "outputs": [
    {
     "data": {
      "text/html": [
       "<ol class=list-inline>\n",
       "\t<li>'tracking_id'</li>\n",
       "\t<li>'datetime'</li>\n",
       "\t<li>'speed_wind'</li>\n",
       "\t<li>'atmospheric_temperature'</li>\n",
       "\t<li>'shaft_temperature'</li>\n",
       "\t<li>'blades_angle'</li>\n",
       "\t<li>'gearbox_temperature'</li>\n",
       "\t<li>'engine_temperature'</li>\n",
       "\t<li>'motor_torque'</li>\n",
       "\t<li>'generator_temperature'</li>\n",
       "\t<li>'atmospheric_pressure'</li>\n",
       "\t<li>'area_temperature'</li>\n",
       "\t<li>'body_temperature_windmill'</li>\n",
       "\t<li>'direction_wind'</li>\n",
       "\t<li>'resistance'</li>\n",
       "\t<li>'rotor_torque'</li>\n",
       "\t<li>'turbine_status'</li>\n",
       "\t<li>'cloud_level'</li>\n",
       "\t<li>'blade_length'</li>\n",
       "\t<li>'blade_breadth'</li>\n",
       "\t<li>'height_windmill'</li>\n",
       "\t<li>'windmill_generated_power'</li>\n",
       "</ol>\n"
      ],
      "text/latex": [
       "\\begin{enumerate*}\n",
       "\\item 'tracking\\_id'\n",
       "\\item 'datetime'\n",
       "\\item 'speed\\_wind'\n",
       "\\item 'atmospheric\\_temperature'\n",
       "\\item 'shaft\\_temperature'\n",
       "\\item 'blades\\_angle'\n",
       "\\item 'gearbox\\_temperature'\n",
       "\\item 'engine\\_temperature'\n",
       "\\item 'motor\\_torque'\n",
       "\\item 'generator\\_temperature'\n",
       "\\item 'atmospheric\\_pressure'\n",
       "\\item 'area\\_temperature'\n",
       "\\item 'body\\_temperature\\_windmill'\n",
       "\\item 'direction\\_wind'\n",
       "\\item 'resistance'\n",
       "\\item 'rotor\\_torque'\n",
       "\\item 'turbine\\_status'\n",
       "\\item 'cloud\\_level'\n",
       "\\item 'blade\\_length'\n",
       "\\item 'blade\\_breadth'\n",
       "\\item 'height\\_windmill'\n",
       "\\item 'windmill\\_generated\\_power'\n",
       "\\end{enumerate*}\n"
      ],
      "text/markdown": [
       "1. 'tracking_id'\n",
       "2. 'datetime'\n",
       "3. 'speed_wind'\n",
       "4. 'atmospheric_temperature'\n",
       "5. 'shaft_temperature'\n",
       "6. 'blades_angle'\n",
       "7. 'gearbox_temperature'\n",
       "8. 'engine_temperature'\n",
       "9. 'motor_torque'\n",
       "10. 'generator_temperature'\n",
       "11. 'atmospheric_pressure'\n",
       "12. 'area_temperature'\n",
       "13. 'body_temperature_windmill'\n",
       "14. 'direction_wind'\n",
       "15. 'resistance'\n",
       "16. 'rotor_torque'\n",
       "17. 'turbine_status'\n",
       "18. 'cloud_level'\n",
       "19. 'blade_length'\n",
       "20. 'blade_breadth'\n",
       "21. 'height_windmill'\n",
       "22. 'windmill_generated_power'\n",
       "\n",
       "\n"
      ],
      "text/plain": [
       " [1] \"tracking_id\"               \"datetime\"                 \n",
       " [3] \"speed_wind\"                \"atmospheric_temperature\"  \n",
       " [5] \"shaft_temperature\"         \"blades_angle\"             \n",
       " [7] \"gearbox_temperature\"       \"engine_temperature\"       \n",
       " [9] \"motor_torque\"              \"generator_temperature\"    \n",
       "[11] \"atmospheric_pressure\"      \"area_temperature\"         \n",
       "[13] \"body_temperature_windmill\" \"direction_wind\"           \n",
       "[15] \"resistance\"                \"rotor_torque\"             \n",
       "[17] \"turbine_status\"            \"cloud_level\"              \n",
       "[19] \"blade_length\"              \"blade_breadth\"            \n",
       "[21] \"height_windmill\"           \"windmill_generated_power\" "
      ]
     },
     "metadata": {},
     "output_type": "display_data"
    }
   ],
   "source": [
    "#Changing column names to remove unwanted special characters and white spaces from the current column names\n",
    "colnames(random_df) <- c('tracking_id', 'datetime','speed_wind', 'atmospheric_temperature', 'shaft_temperature',\n",
    "       'blades_angle', 'gearbox_temperature', 'engine_temperature',\n",
    "       'motor_torque', 'generator_temperature', 'atmospheric_pressure',\n",
    "       'area_temperature', 'body_temperature_windmill', 'direction_wind',\n",
    "       'resistance', 'rotor_torque', 'turbine_status', 'cloud_level',\n",
    "       'blade_length', 'blade_breadth', 'height_windmill',\n",
    "       'windmill_generated_power')\n",
    "names(random_df)"
   ]
  },
  {
   "cell_type": "code",
   "execution_count": 13,
   "id": "b947bc73",
   "metadata": {
    "vscode": {
     "languageId": "r"
    }
   },
   "outputs": [
    {
     "data": {
      "text/html": [
       "<table>\n",
       "<thead><tr><th></th><th scope=col>tracking_id</th><th scope=col>datetime</th><th scope=col>speed_wind</th><th scope=col>atmospheric_temperature</th><th scope=col>shaft_temperature</th><th scope=col>blades_angle</th><th scope=col>gearbox_temperature</th><th scope=col>engine_temperature</th><th scope=col>motor_torque</th><th scope=col>generator_temperature</th><th scope=col>...</th><th scope=col>body_temperature_windmill</th><th scope=col>direction_wind</th><th scope=col>resistance</th><th scope=col>rotor_torque</th><th scope=col>turbine_status</th><th scope=col>cloud_level</th><th scope=col>blade_length</th><th scope=col>blade_breadth</th><th scope=col>height_windmill</th><th scope=col>windmill_generated_power</th></tr></thead>\n",
       "<tbody>\n",
       "\t<tr><th scope=row>26192</th><td>WM_24537           </td><td>2019-05-25 12:53:20</td><td>  17.72478         </td><td>       NA          </td><td>-7.188719          </td><td>   0.1414163       </td><td> 40.254733         </td><td>42.43052           </td><td> 822.4819          </td><td>38.47305           </td><td>...                </td><td> 42.70092          </td><td>218.2293           </td><td>1246.371           </td><td>13.20723           </td><td>AB                 </td><td>Low                </td><td>8.300782           </td><td>0.3814347          </td><td>26.53865           </td><td> 5.327000          </td></tr>\n",
       "\t<tr><th scope=row>17516</th><td>WM_11995           </td><td>2019-02-02 12:53:20</td><td>  96.82917         </td><td> 17.55623          </td><td>43.230546          </td><td>  14.3595777       </td><td> 49.450861         </td><td>43.94813           </td><td>2839.8185          </td><td>92.68765           </td><td>...                </td><td> 46.51208          </td><td>313.8371           </td><td>1953.055           </td><td>47.48195           </td><td>BB                 </td><td>Medium             </td><td>3.935231           </td><td>0.4718723          </td><td>24.94531           </td><td>13.769339          </td></tr>\n",
       "\t<tr><th scope=row>24567</th><td>WM_23214           </td><td>2019-05-16 03:43:20</td><td>-136.21533         </td><td> 12.22514          </td><td>41.908392          </td><td> -99.0000000       </td><td> 41.283494         </td><td>42.78060           </td><td> 783.3366          </td><td>38.38925           </td><td>...                </td><td> 42.15207          </td><td>211.4183           </td><td>1213.762           </td><td>75.87272           </td><td>BA                 </td><td>Medium             </td><td>3.634979           </td><td>0.4235379          </td><td>27.17957           </td><td> 4.653317          </td></tr>\n",
       "\t<tr><th scope=row>4803</th><td>WM_2835            </td><td>2018-11-24 16:33:20</td><td>  96.77077         </td><td> 29.38938          </td><td>46.760040          </td><td>  -1.3033806       </td><td>-23.077281         </td><td>45.44861           </td><td>2462.8923          </td><td>75.78548           </td><td>...                </td><td> 46.44784          </td><td>281.9405           </td><td>1793.424           </td><td>39.87404           </td><td>A                  </td><td>Low                </td><td>      NA           </td><td>0.4724430          </td><td>24.51290           </td><td> 6.242050          </td></tr>\n",
       "\t<tr><th scope=row>26949</th><td>WM_38441           </td><td>2019-09-09 04:13:20</td><td>  19.90549         </td><td> 11.66558          </td><td>45.029645          </td><td>-146.2595427       </td><td> 43.095891         </td><td>42.98405           </td><td> 820.0955          </td><td>40.22810           </td><td>...                </td><td> 41.74974          </td><td>265.4704           </td><td>1249.299           </td><td>13.93055           </td><td>AC                 </td><td>Low                </td><td>3.113394           </td><td>0.4779521          </td><td>30.70911           </td><td> 5.640274          </td></tr>\n",
       "\t<tr><th scope=row>13306</th><td>WM_22406           </td><td>2019-05-10 08:43:20</td><td> 431.20274         </td><td>-99.00000          </td><td>43.007841          </td><td>  70.4918064       </td><td> -8.789233         </td><td>40.64892           </td><td>2121.9445          </td><td>67.32433           </td><td>...                </td><td>-99.00000          </td><td>235.5045           </td><td>1682.971           </td><td>34.52433           </td><td>B2                 </td><td>Medium             </td><td>3.566594           </td><td>0.4289816          </td><td>36.41731           </td><td> 3.538150          </td></tr>\n",
       "</tbody>\n",
       "</table>\n"
      ],
      "text/latex": [
       "\\begin{tabular}{r|llllllllllllllllllllll}\n",
       "  & tracking\\_id & datetime & speed\\_wind & atmospheric\\_temperature & shaft\\_temperature & blades\\_angle & gearbox\\_temperature & engine\\_temperature & motor\\_torque & generator\\_temperature & ... & body\\_temperature\\_windmill & direction\\_wind & resistance & rotor\\_torque & turbine\\_status & cloud\\_level & blade\\_length & blade\\_breadth & height\\_windmill & windmill\\_generated\\_power\\\\\n",
       "\\hline\n",
       "\t26192 & WM\\_24537          & 2019-05-25 12:53:20 &   17.72478          &        NA           & -7.188719           &    0.1414163        &  40.254733          & 42.43052            &  822.4819           & 38.47305            & ...                 &  42.70092           & 218.2293            & 1246.371            & 13.20723            & AB                  & Low                 & 8.300782            & 0.3814347           & 26.53865            &  5.327000          \\\\\n",
       "\t17516 & WM\\_11995          & 2019-02-02 12:53:20 &   96.82917          &  17.55623           & 43.230546           &   14.3595777        &  49.450861          & 43.94813            & 2839.8185           & 92.68765            & ...                 &  46.51208           & 313.8371            & 1953.055            & 47.48195            & BB                  & Medium              & 3.935231            & 0.4718723           & 24.94531            & 13.769339          \\\\\n",
       "\t24567 & WM\\_23214          & 2019-05-16 03:43:20 & -136.21533          &  12.22514           & 41.908392           &  -99.0000000        &  41.283494          & 42.78060            &  783.3366           & 38.38925            & ...                 &  42.15207           & 211.4183            & 1213.762            & 75.87272            & BA                  & Medium              & 3.634979            & 0.4235379           & 27.17957            &  4.653317          \\\\\n",
       "\t4803 & WM\\_2835           & 2018-11-24 16:33:20 &   96.77077          &  29.38938           & 46.760040           &   -1.3033806        & -23.077281          & 45.44861            & 2462.8923           & 75.78548            & ...                 &  46.44784           & 281.9405            & 1793.424            & 39.87404            & A                   & Low                 &       NA            & 0.4724430           & 24.51290            &  6.242050          \\\\\n",
       "\t26949 & WM\\_38441          & 2019-09-09 04:13:20 &   19.90549          &  11.66558           & 45.029645           & -146.2595427        &  43.095891          & 42.98405            &  820.0955           & 40.22810            & ...                 &  41.74974           & 265.4704            & 1249.299            & 13.93055            & AC                  & Low                 & 3.113394            & 0.4779521           & 30.70911            &  5.640274          \\\\\n",
       "\t13306 & WM\\_22406          & 2019-05-10 08:43:20 &  431.20274          & -99.00000           & 43.007841           &   70.4918064        &  -8.789233          & 40.64892            & 2121.9445           & 67.32433            & ...                 & -99.00000           & 235.5045            & 1682.971            & 34.52433            & B2                  & Medium              & 3.566594            & 0.4289816           & 36.41731            &  3.538150          \\\\\n",
       "\\end{tabular}\n"
      ],
      "text/markdown": [
       "\n",
       "| <!--/--> | tracking_id | datetime | speed_wind | atmospheric_temperature | shaft_temperature | blades_angle | gearbox_temperature | engine_temperature | motor_torque | generator_temperature | ... | body_temperature_windmill | direction_wind | resistance | rotor_torque | turbine_status | cloud_level | blade_length | blade_breadth | height_windmill | windmill_generated_power |\n",
       "|---|---|---|---|---|---|---|---|---|---|---|---|---|---|---|---|---|---|---|---|---|---|\n",
       "| 26192 | WM_24537            | 2019-05-25 12:53:20 |   17.72478          |        NA           | -7.188719           |    0.1414163        |  40.254733          | 42.43052            |  822.4819           | 38.47305            | ...                 |  42.70092           | 218.2293            | 1246.371            | 13.20723            | AB                  | Low                 | 8.300782            | 0.3814347           | 26.53865            |  5.327000           |\n",
       "| 17516 | WM_11995            | 2019-02-02 12:53:20 |   96.82917          |  17.55623           | 43.230546           |   14.3595777        |  49.450861          | 43.94813            | 2839.8185           | 92.68765            | ...                 |  46.51208           | 313.8371            | 1953.055            | 47.48195            | BB                  | Medium              | 3.935231            | 0.4718723           | 24.94531            | 13.769339           |\n",
       "| 24567 | WM_23214            | 2019-05-16 03:43:20 | -136.21533          |  12.22514           | 41.908392           |  -99.0000000        |  41.283494          | 42.78060            |  783.3366           | 38.38925            | ...                 |  42.15207           | 211.4183            | 1213.762            | 75.87272            | BA                  | Medium              | 3.634979            | 0.4235379           | 27.17957            |  4.653317           |\n",
       "| 4803 | WM_2835             | 2018-11-24 16:33:20 |   96.77077          |  29.38938           | 46.760040           |   -1.3033806        | -23.077281          | 45.44861            | 2462.8923           | 75.78548            | ...                 |  46.44784           | 281.9405            | 1793.424            | 39.87404            | A                   | Low                 |       NA            | 0.4724430           | 24.51290            |  6.242050           |\n",
       "| 26949 | WM_38441            | 2019-09-09 04:13:20 |   19.90549          |  11.66558           | 45.029645           | -146.2595427        |  43.095891          | 42.98405            |  820.0955           | 40.22810            | ...                 |  41.74974           | 265.4704            | 1249.299            | 13.93055            | AC                  | Low                 | 3.113394            | 0.4779521           | 30.70911            |  5.640274           |\n",
       "| 13306 | WM_22406            | 2019-05-10 08:43:20 |  431.20274          | -99.00000           | 43.007841           |   70.4918064        |  -8.789233          | 40.64892            | 2121.9445           | 67.32433            | ...                 | -99.00000           | 235.5045            | 1682.971            | 34.52433            | B2                  | Medium              | 3.566594            | 0.4289816           | 36.41731            |  3.538150           |\n",
       "\n"
      ],
      "text/plain": [
       "      tracking_id datetime            speed_wind atmospheric_temperature\n",
       "26192 WM_24537    2019-05-25 12:53:20   17.72478        NA              \n",
       "17516 WM_11995    2019-02-02 12:53:20   96.82917  17.55623              \n",
       "24567 WM_23214    2019-05-16 03:43:20 -136.21533  12.22514              \n",
       "4803  WM_2835     2018-11-24 16:33:20   96.77077  29.38938              \n",
       "26949 WM_38441    2019-09-09 04:13:20   19.90549  11.66558              \n",
       "13306 WM_22406    2019-05-10 08:43:20  431.20274 -99.00000              \n",
       "      shaft_temperature blades_angle gearbox_temperature engine_temperature\n",
       "26192 -7.188719            0.1414163  40.254733          42.43052          \n",
       "17516 43.230546           14.3595777  49.450861          43.94813          \n",
       "24567 41.908392          -99.0000000  41.283494          42.78060          \n",
       "4803  46.760040           -1.3033806 -23.077281          45.44861          \n",
       "26949 45.029645         -146.2595427  43.095891          42.98405          \n",
       "13306 43.007841           70.4918064  -8.789233          40.64892          \n",
       "      motor_torque generator_temperature ... body_temperature_windmill\n",
       "26192  822.4819    38.47305              ...  42.70092                \n",
       "17516 2839.8185    92.68765              ...  46.51208                \n",
       "24567  783.3366    38.38925              ...  42.15207                \n",
       "4803  2462.8923    75.78548              ...  46.44784                \n",
       "26949  820.0955    40.22810              ...  41.74974                \n",
       "13306 2121.9445    67.32433              ... -99.00000                \n",
       "      direction_wind resistance rotor_torque turbine_status cloud_level\n",
       "26192 218.2293       1246.371   13.20723     AB             Low        \n",
       "17516 313.8371       1953.055   47.48195     BB             Medium     \n",
       "24567 211.4183       1213.762   75.87272     BA             Medium     \n",
       "4803  281.9405       1793.424   39.87404     A              Low        \n",
       "26949 265.4704       1249.299   13.93055     AC             Low        \n",
       "13306 235.5045       1682.971   34.52433     B2             Medium     \n",
       "      blade_length blade_breadth height_windmill windmill_generated_power\n",
       "26192 8.300782     0.3814347     26.53865         5.327000               \n",
       "17516 3.935231     0.4718723     24.94531        13.769339               \n",
       "24567 3.634979     0.4235379     27.17957         4.653317               \n",
       "4803        NA     0.4724430     24.51290         6.242050               \n",
       "26949 3.113394     0.4779521     30.70911         5.640274               \n",
       "13306 3.566594     0.4289816     36.41731         3.538150               "
      ]
     },
     "metadata": {},
     "output_type": "display_data"
    }
   ],
   "source": [
    "# Reviewing the dataframe with changed column names\n",
    "head(random_df,6)"
   ]
  },
  {
   "cell_type": "code",
   "execution_count": 14,
   "id": "68cbdbdc",
   "metadata": {
    "vscode": {
     "languageId": "r"
    }
   },
   "outputs": [],
   "source": [
    "smp_size <- floor(0.80 * nrow(random_df)) #returns the highest integer values which is smaller than the input value"
   ]
  },
  {
   "cell_type": "code",
   "execution_count": 15,
   "id": "63778402",
   "metadata": {
    "vscode": {
     "languageId": "r"
    }
   },
   "outputs": [
    {
     "data": {
      "text/html": [
       "<table>\n",
       "<thead><tr><th></th><th scope=col>tracking_id</th><th scope=col>datetime</th><th scope=col>speed_wind</th><th scope=col>atmospheric_temperature</th><th scope=col>shaft_temperature</th><th scope=col>blades_angle</th><th scope=col>gearbox_temperature</th><th scope=col>engine_temperature</th><th scope=col>motor_torque</th><th scope=col>generator_temperature</th><th scope=col>...</th><th scope=col>body_temperature_windmill</th><th scope=col>direction_wind</th><th scope=col>resistance</th><th scope=col>rotor_torque</th><th scope=col>turbine_status</th><th scope=col>cloud_level</th><th scope=col>blade_length</th><th scope=col>blade_breadth</th><th scope=col>height_windmill</th><th scope=col>windmill_generated_power</th></tr></thead>\n",
       "<tbody>\n",
       "\t<tr><th scope=row>26192</th><td>WM_24537           </td><td>2019-05-25 12:53:20</td><td>  17.72478         </td><td>       NA          </td><td>-7.188719          </td><td>   0.1414163       </td><td> 40.254733         </td><td>42.43052           </td><td> 822.4819          </td><td>38.47305           </td><td>...                </td><td> 42.70092          </td><td>218.2293           </td><td>1246.371           </td><td>13.20723           </td><td>AB                 </td><td>Low                </td><td>8.300782           </td><td>0.3814347          </td><td>26.53865           </td><td> 5.327000          </td></tr>\n",
       "\t<tr><th scope=row>17516</th><td>WM_11995           </td><td>2019-02-02 12:53:20</td><td>  96.82917         </td><td> 17.55623          </td><td>43.230546          </td><td>  14.3595777       </td><td> 49.450861         </td><td>43.94813           </td><td>2839.8185          </td><td>92.68765           </td><td>...                </td><td> 46.51208          </td><td>313.8371           </td><td>1953.055           </td><td>47.48195           </td><td>BB                 </td><td>Medium             </td><td>3.935231           </td><td>0.4718723          </td><td>24.94531           </td><td>13.769339          </td></tr>\n",
       "\t<tr><th scope=row>24567</th><td>WM_23214           </td><td>2019-05-16 03:43:20</td><td>-136.21533         </td><td> 12.22514          </td><td>41.908392          </td><td> -99.0000000       </td><td> 41.283494         </td><td>42.78060           </td><td> 783.3366          </td><td>38.38925           </td><td>...                </td><td> 42.15207          </td><td>211.4183           </td><td>1213.762           </td><td>75.87272           </td><td>BA                 </td><td>Medium             </td><td>3.634979           </td><td>0.4235379          </td><td>27.17957           </td><td> 4.653317          </td></tr>\n",
       "\t<tr><th scope=row>4803</th><td>WM_2835            </td><td>2018-11-24 16:33:20</td><td>  96.77077         </td><td> 29.38938          </td><td>46.760040          </td><td>  -1.3033806       </td><td>-23.077281         </td><td>45.44861           </td><td>2462.8923          </td><td>75.78548           </td><td>...                </td><td> 46.44784          </td><td>281.9405           </td><td>1793.424           </td><td>39.87404           </td><td>A                  </td><td>Low                </td><td>      NA           </td><td>0.4724430          </td><td>24.51290           </td><td> 6.242050          </td></tr>\n",
       "\t<tr><th scope=row>26949</th><td>WM_38441           </td><td>2019-09-09 04:13:20</td><td>  19.90549         </td><td> 11.66558          </td><td>45.029645          </td><td>-146.2595427       </td><td> 43.095891         </td><td>42.98405           </td><td> 820.0955          </td><td>40.22810           </td><td>...                </td><td> 41.74974          </td><td>265.4704           </td><td>1249.299           </td><td>13.93055           </td><td>AC                 </td><td>Low                </td><td>3.113394           </td><td>0.4779521          </td><td>30.70911           </td><td> 5.640274          </td></tr>\n",
       "\t<tr><th scope=row>13306</th><td>WM_22406           </td><td>2019-05-10 08:43:20</td><td> 431.20274         </td><td>-99.00000          </td><td>43.007841          </td><td>  70.4918064       </td><td> -8.789233         </td><td>40.64892           </td><td>2121.9445          </td><td>67.32433           </td><td>...                </td><td>-99.00000          </td><td>235.5045           </td><td>1682.971           </td><td>34.52433           </td><td>B2                 </td><td>Medium             </td><td>3.566594           </td><td>0.4289816          </td><td>36.41731           </td><td> 3.538150          </td></tr>\n",
       "</tbody>\n",
       "</table>\n"
      ],
      "text/latex": [
       "\\begin{tabular}{r|llllllllllllllllllllll}\n",
       "  & tracking\\_id & datetime & speed\\_wind & atmospheric\\_temperature & shaft\\_temperature & blades\\_angle & gearbox\\_temperature & engine\\_temperature & motor\\_torque & generator\\_temperature & ... & body\\_temperature\\_windmill & direction\\_wind & resistance & rotor\\_torque & turbine\\_status & cloud\\_level & blade\\_length & blade\\_breadth & height\\_windmill & windmill\\_generated\\_power\\\\\n",
       "\\hline\n",
       "\t26192 & WM\\_24537          & 2019-05-25 12:53:20 &   17.72478          &        NA           & -7.188719           &    0.1414163        &  40.254733          & 42.43052            &  822.4819           & 38.47305            & ...                 &  42.70092           & 218.2293            & 1246.371            & 13.20723            & AB                  & Low                 & 8.300782            & 0.3814347           & 26.53865            &  5.327000          \\\\\n",
       "\t17516 & WM\\_11995          & 2019-02-02 12:53:20 &   96.82917          &  17.55623           & 43.230546           &   14.3595777        &  49.450861          & 43.94813            & 2839.8185           & 92.68765            & ...                 &  46.51208           & 313.8371            & 1953.055            & 47.48195            & BB                  & Medium              & 3.935231            & 0.4718723           & 24.94531            & 13.769339          \\\\\n",
       "\t24567 & WM\\_23214          & 2019-05-16 03:43:20 & -136.21533          &  12.22514           & 41.908392           &  -99.0000000        &  41.283494          & 42.78060            &  783.3366           & 38.38925            & ...                 &  42.15207           & 211.4183            & 1213.762            & 75.87272            & BA                  & Medium              & 3.634979            & 0.4235379           & 27.17957            &  4.653317          \\\\\n",
       "\t4803 & WM\\_2835           & 2018-11-24 16:33:20 &   96.77077          &  29.38938           & 46.760040           &   -1.3033806        & -23.077281          & 45.44861            & 2462.8923           & 75.78548            & ...                 &  46.44784           & 281.9405            & 1793.424            & 39.87404            & A                   & Low                 &       NA            & 0.4724430           & 24.51290            &  6.242050          \\\\\n",
       "\t26949 & WM\\_38441          & 2019-09-09 04:13:20 &   19.90549          &  11.66558           & 45.029645           & -146.2595427        &  43.095891          & 42.98405            &  820.0955           & 40.22810            & ...                 &  41.74974           & 265.4704            & 1249.299            & 13.93055            & AC                  & Low                 & 3.113394            & 0.4779521           & 30.70911            &  5.640274          \\\\\n",
       "\t13306 & WM\\_22406          & 2019-05-10 08:43:20 &  431.20274          & -99.00000           & 43.007841           &   70.4918064        &  -8.789233          & 40.64892            & 2121.9445           & 67.32433            & ...                 & -99.00000           & 235.5045            & 1682.971            & 34.52433            & B2                  & Medium              & 3.566594            & 0.4289816           & 36.41731            &  3.538150          \\\\\n",
       "\\end{tabular}\n"
      ],
      "text/markdown": [
       "\n",
       "| <!--/--> | tracking_id | datetime | speed_wind | atmospheric_temperature | shaft_temperature | blades_angle | gearbox_temperature | engine_temperature | motor_torque | generator_temperature | ... | body_temperature_windmill | direction_wind | resistance | rotor_torque | turbine_status | cloud_level | blade_length | blade_breadth | height_windmill | windmill_generated_power |\n",
       "|---|---|---|---|---|---|---|---|---|---|---|---|---|---|---|---|---|---|---|---|---|---|\n",
       "| 26192 | WM_24537            | 2019-05-25 12:53:20 |   17.72478          |        NA           | -7.188719           |    0.1414163        |  40.254733          | 42.43052            |  822.4819           | 38.47305            | ...                 |  42.70092           | 218.2293            | 1246.371            | 13.20723            | AB                  | Low                 | 8.300782            | 0.3814347           | 26.53865            |  5.327000           |\n",
       "| 17516 | WM_11995            | 2019-02-02 12:53:20 |   96.82917          |  17.55623           | 43.230546           |   14.3595777        |  49.450861          | 43.94813            | 2839.8185           | 92.68765            | ...                 |  46.51208           | 313.8371            | 1953.055            | 47.48195            | BB                  | Medium              | 3.935231            | 0.4718723           | 24.94531            | 13.769339           |\n",
       "| 24567 | WM_23214            | 2019-05-16 03:43:20 | -136.21533          |  12.22514           | 41.908392           |  -99.0000000        |  41.283494          | 42.78060            |  783.3366           | 38.38925            | ...                 |  42.15207           | 211.4183            | 1213.762            | 75.87272            | BA                  | Medium              | 3.634979            | 0.4235379           | 27.17957            |  4.653317           |\n",
       "| 4803 | WM_2835             | 2018-11-24 16:33:20 |   96.77077          |  29.38938           | 46.760040           |   -1.3033806        | -23.077281          | 45.44861            | 2462.8923           | 75.78548            | ...                 |  46.44784           | 281.9405            | 1793.424            | 39.87404            | A                   | Low                 |       NA            | 0.4724430           | 24.51290            |  6.242050           |\n",
       "| 26949 | WM_38441            | 2019-09-09 04:13:20 |   19.90549          |  11.66558           | 45.029645           | -146.2595427        |  43.095891          | 42.98405            |  820.0955           | 40.22810            | ...                 |  41.74974           | 265.4704            | 1249.299            | 13.93055            | AC                  | Low                 | 3.113394            | 0.4779521           | 30.70911            |  5.640274           |\n",
       "| 13306 | WM_22406            | 2019-05-10 08:43:20 |  431.20274          | -99.00000           | 43.007841           |   70.4918064        |  -8.789233          | 40.64892            | 2121.9445           | 67.32433            | ...                 | -99.00000           | 235.5045            | 1682.971            | 34.52433            | B2                  | Medium              | 3.566594            | 0.4289816           | 36.41731            |  3.538150           |\n",
       "\n"
      ],
      "text/plain": [
       "      tracking_id datetime            speed_wind atmospheric_temperature\n",
       "26192 WM_24537    2019-05-25 12:53:20   17.72478        NA              \n",
       "17516 WM_11995    2019-02-02 12:53:20   96.82917  17.55623              \n",
       "24567 WM_23214    2019-05-16 03:43:20 -136.21533  12.22514              \n",
       "4803  WM_2835     2018-11-24 16:33:20   96.77077  29.38938              \n",
       "26949 WM_38441    2019-09-09 04:13:20   19.90549  11.66558              \n",
       "13306 WM_22406    2019-05-10 08:43:20  431.20274 -99.00000              \n",
       "      shaft_temperature blades_angle gearbox_temperature engine_temperature\n",
       "26192 -7.188719            0.1414163  40.254733          42.43052          \n",
       "17516 43.230546           14.3595777  49.450861          43.94813          \n",
       "24567 41.908392          -99.0000000  41.283494          42.78060          \n",
       "4803  46.760040           -1.3033806 -23.077281          45.44861          \n",
       "26949 45.029645         -146.2595427  43.095891          42.98405          \n",
       "13306 43.007841           70.4918064  -8.789233          40.64892          \n",
       "      motor_torque generator_temperature ... body_temperature_windmill\n",
       "26192  822.4819    38.47305              ...  42.70092                \n",
       "17516 2839.8185    92.68765              ...  46.51208                \n",
       "24567  783.3366    38.38925              ...  42.15207                \n",
       "4803  2462.8923    75.78548              ...  46.44784                \n",
       "26949  820.0955    40.22810              ...  41.74974                \n",
       "13306 2121.9445    67.32433              ... -99.00000                \n",
       "      direction_wind resistance rotor_torque turbine_status cloud_level\n",
       "26192 218.2293       1246.371   13.20723     AB             Low        \n",
       "17516 313.8371       1953.055   47.48195     BB             Medium     \n",
       "24567 211.4183       1213.762   75.87272     BA             Medium     \n",
       "4803  281.9405       1793.424   39.87404     A              Low        \n",
       "26949 265.4704       1249.299   13.93055     AC             Low        \n",
       "13306 235.5045       1682.971   34.52433     B2             Medium     \n",
       "      blade_length blade_breadth height_windmill windmill_generated_power\n",
       "26192 8.300782     0.3814347     26.53865         5.327000               \n",
       "17516 3.935231     0.4718723     24.94531        13.769339               \n",
       "24567 3.634979     0.4235379     27.17957         4.653317               \n",
       "4803        NA     0.4724430     24.51290         6.242050               \n",
       "26949 3.113394     0.4779521     30.70911         5.640274               \n",
       "13306 3.566594     0.4289816     36.41731         3.538150               "
      ]
     },
     "metadata": {},
     "output_type": "display_data"
    }
   ],
   "source": [
    "# Reviewing the dataframe with changed column names\n",
    "head(random_df,6)"
   ]
  },
  {
   "cell_type": "code",
   "execution_count": 16,
   "id": "f715877c",
   "metadata": {
    "vscode": {
     "languageId": "r"
    }
   },
   "outputs": [],
   "source": [
    "smp_size <- floor(0.80 * nrow(random_df)) #returns the highest integer values which is smaller than the input value\n",
    "\n",
    "## splitting dataset into train and test data\n",
    "train <- random_df[c(1:smp_size), ]\n",
    "test <- random_df[-c(1:smp_size), ]"
   ]
  },
  {
   "cell_type": "code",
   "execution_count": 17,
   "id": "9599787d",
   "metadata": {
    "vscode": {
     "languageId": "r"
    }
   },
   "outputs": [
    {
     "data": {
      "text/html": [
       "<table>\n",
       "<thead><tr><th></th><th scope=col>tracking_id</th><th scope=col>datetime</th><th scope=col>speed_wind</th><th scope=col>atmospheric_temperature</th><th scope=col>shaft_temperature</th><th scope=col>blades_angle</th><th scope=col>gearbox_temperature</th><th scope=col>engine_temperature</th><th scope=col>motor_torque</th><th scope=col>generator_temperature</th><th scope=col>...</th><th scope=col>body_temperature_windmill</th><th scope=col>direction_wind</th><th scope=col>resistance</th><th scope=col>rotor_torque</th><th scope=col>turbine_status</th><th scope=col>cloud_level</th><th scope=col>blade_length</th><th scope=col>blade_breadth</th><th scope=col>height_windmill</th><th scope=col>windmill_generated_power</th></tr></thead>\n",
       "<tbody>\n",
       "\t<tr><th scope=row>26192</th><td>WM_24537           </td><td>2019-05-25 12:53:20</td><td>17.72478           </td><td>      NA           </td><td>-7.188719          </td><td> 0.1414163         </td><td>40.25473           </td><td>42.43052           </td><td> 822.4819          </td><td>38.47305           </td><td>...                </td><td>42.70092           </td><td>218.2293           </td><td>1246.371           </td><td>13.20723           </td><td>AB                 </td><td>Low                </td><td>8.300782           </td><td>0.3814347          </td><td>26.53865           </td><td> 5.32700           </td></tr>\n",
       "\t<tr><th scope=row>17516</th><td>WM_11995           </td><td>2019-02-02 12:53:20</td><td>96.82917           </td><td>17.55623           </td><td>43.230546          </td><td>14.3595777         </td><td>49.45086           </td><td>43.94813           </td><td>2839.8185          </td><td>92.68765           </td><td>...                </td><td>46.51208           </td><td>313.8371           </td><td>1953.055           </td><td>47.48195           </td><td>BB                 </td><td>Medium             </td><td>3.935231           </td><td>0.4718723          </td><td>24.94531           </td><td>13.76934           </td></tr>\n",
       "</tbody>\n",
       "</table>\n"
      ],
      "text/latex": [
       "\\begin{tabular}{r|llllllllllllllllllllll}\n",
       "  & tracking\\_id & datetime & speed\\_wind & atmospheric\\_temperature & shaft\\_temperature & blades\\_angle & gearbox\\_temperature & engine\\_temperature & motor\\_torque & generator\\_temperature & ... & body\\_temperature\\_windmill & direction\\_wind & resistance & rotor\\_torque & turbine\\_status & cloud\\_level & blade\\_length & blade\\_breadth & height\\_windmill & windmill\\_generated\\_power\\\\\n",
       "\\hline\n",
       "\t26192 & WM\\_24537          & 2019-05-25 12:53:20 & 17.72478            &       NA            & -7.188719           &  0.1414163          & 40.25473            & 42.43052            &  822.4819           & 38.47305            & ...                 & 42.70092            & 218.2293            & 1246.371            & 13.20723            & AB                  & Low                 & 8.300782            & 0.3814347           & 26.53865            &  5.32700           \\\\\n",
       "\t17516 & WM\\_11995          & 2019-02-02 12:53:20 & 96.82917            & 17.55623            & 43.230546           & 14.3595777          & 49.45086            & 43.94813            & 2839.8185           & 92.68765            & ...                 & 46.51208            & 313.8371            & 1953.055            & 47.48195            & BB                  & Medium              & 3.935231            & 0.4718723           & 24.94531            & 13.76934           \\\\\n",
       "\\end{tabular}\n"
      ],
      "text/markdown": [
       "\n",
       "| <!--/--> | tracking_id | datetime | speed_wind | atmospheric_temperature | shaft_temperature | blades_angle | gearbox_temperature | engine_temperature | motor_torque | generator_temperature | ... | body_temperature_windmill | direction_wind | resistance | rotor_torque | turbine_status | cloud_level | blade_length | blade_breadth | height_windmill | windmill_generated_power |\n",
       "|---|---|---|---|---|---|---|---|---|---|---|---|---|---|---|---|---|---|---|---|---|---|\n",
       "| 26192 | WM_24537            | 2019-05-25 12:53:20 | 17.72478            |       NA            | -7.188719           |  0.1414163          | 40.25473            | 42.43052            |  822.4819           | 38.47305            | ...                 | 42.70092            | 218.2293            | 1246.371            | 13.20723            | AB                  | Low                 | 8.300782            | 0.3814347           | 26.53865            |  5.32700            |\n",
       "| 17516 | WM_11995            | 2019-02-02 12:53:20 | 96.82917            | 17.55623            | 43.230546           | 14.3595777          | 49.45086            | 43.94813            | 2839.8185           | 92.68765            | ...                 | 46.51208            | 313.8371            | 1953.055            | 47.48195            | BB                  | Medium              | 3.935231            | 0.4718723           | 24.94531            | 13.76934            |\n",
       "\n"
      ],
      "text/plain": [
       "      tracking_id datetime            speed_wind atmospheric_temperature\n",
       "26192 WM_24537    2019-05-25 12:53:20 17.72478         NA               \n",
       "17516 WM_11995    2019-02-02 12:53:20 96.82917   17.55623               \n",
       "      shaft_temperature blades_angle gearbox_temperature engine_temperature\n",
       "26192 -7.188719          0.1414163   40.25473            42.43052          \n",
       "17516 43.230546         14.3595777   49.45086            43.94813          \n",
       "      motor_torque generator_temperature ... body_temperature_windmill\n",
       "26192  822.4819    38.47305              ... 42.70092                 \n",
       "17516 2839.8185    92.68765              ... 46.51208                 \n",
       "      direction_wind resistance rotor_torque turbine_status cloud_level\n",
       "26192 218.2293       1246.371   13.20723     AB             Low        \n",
       "17516 313.8371       1953.055   47.48195     BB             Medium     \n",
       "      blade_length blade_breadth height_windmill windmill_generated_power\n",
       "26192 8.300782     0.3814347     26.53865         5.32700                \n",
       "17516 3.935231     0.4718723     24.94531        13.76934                "
      ]
     },
     "metadata": {},
     "output_type": "display_data"
    }
   ],
   "source": [
    "head(train,2)"
   ]
  },
  {
   "cell_type": "code",
   "execution_count": 18,
   "id": "8ad1e0b0",
   "metadata": {
    "vscode": {
     "languageId": "r"
    }
   },
   "outputs": [
    {
     "data": {
      "text/html": [
       "<table>\n",
       "<thead><tr><th></th><th scope=col>tracking_id</th><th scope=col>datetime</th><th scope=col>speed_wind</th><th scope=col>atmospheric_temperature</th><th scope=col>shaft_temperature</th><th scope=col>blades_angle</th><th scope=col>gearbox_temperature</th><th scope=col>engine_temperature</th><th scope=col>motor_torque</th><th scope=col>generator_temperature</th><th scope=col>...</th><th scope=col>body_temperature_windmill</th><th scope=col>direction_wind</th><th scope=col>resistance</th><th scope=col>rotor_torque</th><th scope=col>turbine_status</th><th scope=col>cloud_level</th><th scope=col>blade_length</th><th scope=col>blade_breadth</th><th scope=col>height_windmill</th><th scope=col>windmill_generated_power</th></tr></thead>\n",
       "<tbody>\n",
       "\t<tr><th scope=row>12505</th><td>WM_51              </td><td>2018-10-29 05:33:20</td><td>96.38635           </td><td>      NA           </td><td>14.115891          </td><td>5.9524362          </td><td>-69.51770          </td><td>43.44783           </td><td>2859.880           </td><td>86.73687           </td><td>...                </td><td>-99                </td><td>512.6635           </td><td>1976.228           </td><td>104.68619          </td><td>D                  </td><td>Medium             </td><td>1.216556           </td><td>0.4913661          </td><td>25.36104           </td><td>9.29106            </td></tr>\n",
       "\t<tr><th scope=row>7967</th><td>WM_1441            </td><td>2018-11-11 08:53:20</td><td>95.26949           </td><td>25.83413           </td><td> 5.089377          </td><td>0.7867103          </td><td> 42.01369          </td><td>41.11506           </td><td>2040.684           </td><td>70.16148           </td><td>...                </td><td>-99                </td><td>      NA           </td><td>1698.318           </td><td> 32.66445          </td><td>BA                 </td><td>Medium             </td><td>      NA           </td><td>0.3577590          </td><td>26.54572           </td><td>3.96375            </td></tr>\n",
       "</tbody>\n",
       "</table>\n"
      ],
      "text/latex": [
       "\\begin{tabular}{r|llllllllllllllllllllll}\n",
       "  & tracking\\_id & datetime & speed\\_wind & atmospheric\\_temperature & shaft\\_temperature & blades\\_angle & gearbox\\_temperature & engine\\_temperature & motor\\_torque & generator\\_temperature & ... & body\\_temperature\\_windmill & direction\\_wind & resistance & rotor\\_torque & turbine\\_status & cloud\\_level & blade\\_length & blade\\_breadth & height\\_windmill & windmill\\_generated\\_power\\\\\n",
       "\\hline\n",
       "\t12505 & WM\\_51             & 2018-10-29 05:33:20 & 96.38635            &       NA            & 14.115891           & 5.9524362           & -69.51770           & 43.44783            & 2859.880            & 86.73687            & ...                 & -99                 & 512.6635            & 1976.228            & 104.68619           & D                   & Medium              & 1.216556            & 0.4913661           & 25.36104            & 9.29106            \\\\\n",
       "\t7967 & WM\\_1441           & 2018-11-11 08:53:20 & 95.26949            & 25.83413            &  5.089377           & 0.7867103           &  42.01369           & 41.11506            & 2040.684            & 70.16148            & ...                 & -99                 &       NA            & 1698.318            &  32.66445           & BA                  & Medium              &       NA            & 0.3577590           & 26.54572            & 3.96375            \\\\\n",
       "\\end{tabular}\n"
      ],
      "text/markdown": [
       "\n",
       "| <!--/--> | tracking_id | datetime | speed_wind | atmospheric_temperature | shaft_temperature | blades_angle | gearbox_temperature | engine_temperature | motor_torque | generator_temperature | ... | body_temperature_windmill | direction_wind | resistance | rotor_torque | turbine_status | cloud_level | blade_length | blade_breadth | height_windmill | windmill_generated_power |\n",
       "|---|---|---|---|---|---|---|---|---|---|---|---|---|---|---|---|---|---|---|---|---|---|\n",
       "| 12505 | WM_51               | 2018-10-29 05:33:20 | 96.38635            |       NA            | 14.115891           | 5.9524362           | -69.51770           | 43.44783            | 2859.880            | 86.73687            | ...                 | -99                 | 512.6635            | 1976.228            | 104.68619           | D                   | Medium              | 1.216556            | 0.4913661           | 25.36104            | 9.29106             |\n",
       "| 7967 | WM_1441             | 2018-11-11 08:53:20 | 95.26949            | 25.83413            |  5.089377           | 0.7867103           |  42.01369           | 41.11506            | 2040.684            | 70.16148            | ...                 | -99                 |       NA            | 1698.318            |  32.66445           | BA                  | Medium              |       NA            | 0.3577590           | 26.54572            | 3.96375             |\n",
       "\n"
      ],
      "text/plain": [
       "      tracking_id datetime            speed_wind atmospheric_temperature\n",
       "12505 WM_51       2018-10-29 05:33:20 96.38635         NA               \n",
       "7967  WM_1441     2018-11-11 08:53:20 95.26949   25.83413               \n",
       "      shaft_temperature blades_angle gearbox_temperature engine_temperature\n",
       "12505 14.115891         5.9524362    -69.51770           43.44783          \n",
       "7967   5.089377         0.7867103     42.01369           41.11506          \n",
       "      motor_torque generator_temperature ... body_temperature_windmill\n",
       "12505 2859.880     86.73687              ... -99                      \n",
       "7967  2040.684     70.16148              ... -99                      \n",
       "      direction_wind resistance rotor_torque turbine_status cloud_level\n",
       "12505 512.6635       1976.228   104.68619    D              Medium     \n",
       "7967        NA       1698.318    32.66445    BA             Medium     \n",
       "      blade_length blade_breadth height_windmill windmill_generated_power\n",
       "12505 1.216556     0.4913661     25.36104        9.29106                 \n",
       "7967        NA     0.3577590     26.54572        3.96375                 "
      ]
     },
     "metadata": {},
     "output_type": "display_data"
    }
   ],
   "source": [
    "head(test,2)"
   ]
  },
  {
   "cell_type": "code",
   "execution_count": 19,
   "id": "7c15f8b9",
   "metadata": {
    "vscode": {
     "languageId": "r"
    }
   },
   "outputs": [
    {
     "data": {
      "text/html": [
       "<ol class=list-inline>\n",
       "\t<li>22394</li>\n",
       "\t<li>22</li>\n",
       "</ol>\n"
      ],
      "text/latex": [
       "\\begin{enumerate*}\n",
       "\\item 22394\n",
       "\\item 22\n",
       "\\end{enumerate*}\n"
      ],
      "text/markdown": [
       "1. 22394\n",
       "2. 22\n",
       "\n",
       "\n"
      ],
      "text/plain": [
       "[1] 22394    22"
      ]
     },
     "metadata": {},
     "output_type": "display_data"
    },
    {
     "data": {
      "text/html": [
       "<ol class=list-inline>\n",
       "\t<li>5599</li>\n",
       "\t<li>22</li>\n",
       "</ol>\n"
      ],
      "text/latex": [
       "\\begin{enumerate*}\n",
       "\\item 5599\n",
       "\\item 22\n",
       "\\end{enumerate*}\n"
      ],
      "text/markdown": [
       "1. 5599\n",
       "2. 22\n",
       "\n",
       "\n"
      ],
      "text/plain": [
       "[1] 5599   22"
      ]
     },
     "metadata": {},
     "output_type": "display_data"
    },
    {
     "data": {
      "text/html": [
       "27993"
      ],
      "text/latex": [
       "27993"
      ],
      "text/markdown": [
       "27993"
      ],
      "text/plain": [
       "[1] 27993"
      ]
     },
     "metadata": {},
     "output_type": "display_data"
    }
   ],
   "source": [
    "#Checking dimensions of the dataframes\n",
    "dim(train)\n",
    "dim(test)\n",
    "dim(train)[1] + dim(test)[1]"
   ]
  },
  {
   "cell_type": "code",
   "execution_count": 20,
   "id": "983f73ec",
   "metadata": {
    "vscode": {
     "languageId": "r"
    }
   },
   "outputs": [],
   "source": [
    "# copying training dataset in a dataframe\n",
    "df_train <- train\n",
    "# Copying test dataset in a dataframe\n",
    "df_test <- test"
   ]
  },
  {
   "cell_type": "code",
   "execution_count": 21,
   "id": "6d0f8f46",
   "metadata": {
    "vscode": {
     "languageId": "r"
    }
   },
   "outputs": [
    {
     "data": {
      "text/html": [
       "<ol class=list-inline>\n",
       "\t<li>'tracking_id'</li>\n",
       "\t<li>'datetime'</li>\n",
       "\t<li>'speed_wind'</li>\n",
       "\t<li>'atmospheric_temperature'</li>\n",
       "\t<li>'shaft_temperature'</li>\n",
       "\t<li>'blades_angle'</li>\n",
       "\t<li>'gearbox_temperature'</li>\n",
       "\t<li>'engine_temperature'</li>\n",
       "\t<li>'motor_torque'</li>\n",
       "\t<li>'generator_temperature'</li>\n",
       "\t<li>'atmospheric_pressure'</li>\n",
       "\t<li>'area_temperature'</li>\n",
       "\t<li>'body_temperature_windmill'</li>\n",
       "\t<li>'direction_wind'</li>\n",
       "\t<li>'resistance'</li>\n",
       "\t<li>'rotor_torque'</li>\n",
       "\t<li>'turbine_status'</li>\n",
       "\t<li>'cloud_level'</li>\n",
       "\t<li>'blade_length'</li>\n",
       "\t<li>'blade_breadth'</li>\n",
       "\t<li>'height_windmill'</li>\n",
       "\t<li>'windmill_generated_power'</li>\n",
       "</ol>\n"
      ],
      "text/latex": [
       "\\begin{enumerate*}\n",
       "\\item 'tracking\\_id'\n",
       "\\item 'datetime'\n",
       "\\item 'speed\\_wind'\n",
       "\\item 'atmospheric\\_temperature'\n",
       "\\item 'shaft\\_temperature'\n",
       "\\item 'blades\\_angle'\n",
       "\\item 'gearbox\\_temperature'\n",
       "\\item 'engine\\_temperature'\n",
       "\\item 'motor\\_torque'\n",
       "\\item 'generator\\_temperature'\n",
       "\\item 'atmospheric\\_pressure'\n",
       "\\item 'area\\_temperature'\n",
       "\\item 'body\\_temperature\\_windmill'\n",
       "\\item 'direction\\_wind'\n",
       "\\item 'resistance'\n",
       "\\item 'rotor\\_torque'\n",
       "\\item 'turbine\\_status'\n",
       "\\item 'cloud\\_level'\n",
       "\\item 'blade\\_length'\n",
       "\\item 'blade\\_breadth'\n",
       "\\item 'height\\_windmill'\n",
       "\\item 'windmill\\_generated\\_power'\n",
       "\\end{enumerate*}\n"
      ],
      "text/markdown": [
       "1. 'tracking_id'\n",
       "2. 'datetime'\n",
       "3. 'speed_wind'\n",
       "4. 'atmospheric_temperature'\n",
       "5. 'shaft_temperature'\n",
       "6. 'blades_angle'\n",
       "7. 'gearbox_temperature'\n",
       "8. 'engine_temperature'\n",
       "9. 'motor_torque'\n",
       "10. 'generator_temperature'\n",
       "11. 'atmospheric_pressure'\n",
       "12. 'area_temperature'\n",
       "13. 'body_temperature_windmill'\n",
       "14. 'direction_wind'\n",
       "15. 'resistance'\n",
       "16. 'rotor_torque'\n",
       "17. 'turbine_status'\n",
       "18. 'cloud_level'\n",
       "19. 'blade_length'\n",
       "20. 'blade_breadth'\n",
       "21. 'height_windmill'\n",
       "22. 'windmill_generated_power'\n",
       "\n",
       "\n"
      ],
      "text/plain": [
       " [1] \"tracking_id\"               \"datetime\"                 \n",
       " [3] \"speed_wind\"                \"atmospheric_temperature\"  \n",
       " [5] \"shaft_temperature\"         \"blades_angle\"             \n",
       " [7] \"gearbox_temperature\"       \"engine_temperature\"       \n",
       " [9] \"motor_torque\"              \"generator_temperature\"    \n",
       "[11] \"atmospheric_pressure\"      \"area_temperature\"         \n",
       "[13] \"body_temperature_windmill\" \"direction_wind\"           \n",
       "[15] \"resistance\"                \"rotor_torque\"             \n",
       "[17] \"turbine_status\"            \"cloud_level\"              \n",
       "[19] \"blade_length\"              \"blade_breadth\"            \n",
       "[21] \"height_windmill\"           \"windmill_generated_power\" "
      ]
     },
     "metadata": {},
     "output_type": "display_data"
    }
   ],
   "source": [
    "# Displaying column names\n",
    "cols <- c(names(df_train))\n",
    "cols"
   ]
  },
  {
   "cell_type": "code",
   "execution_count": 22,
   "id": "ba8e8ee4",
   "metadata": {
    "vscode": {
     "languageId": "r"
    }
   },
   "outputs": [
    {
     "data": {
      "text/html": [
       "<table>\n",
       "<thead><tr><th></th><th scope=col>speed_wind</th><th scope=col>atmospheric_temperature</th><th scope=col>shaft_temperature</th><th scope=col>blades_angle</th><th scope=col>gearbox_temperature</th><th scope=col>engine_temperature</th><th scope=col>motor_torque</th><th scope=col>generator_temperature</th><th scope=col>atmospheric_pressure</th><th scope=col>area_temperature</th><th scope=col>body_temperature_windmill</th><th scope=col>direction_wind</th><th scope=col>resistance</th><th scope=col>rotor_torque</th><th scope=col>blade_length</th><th scope=col>blade_breadth</th><th scope=col>height_windmill</th><th scope=col>windmill_generated_power</th></tr></thead>\n",
       "<tbody>\n",
       "\t<tr><th scope=row>speed_wind</th><td> 1.000</td><td> 0.060</td><td> 0.035</td><td> 0.002</td><td> 0.017</td><td> 0.154</td><td> 0.380</td><td> 0.433</td><td>-0.130</td><td> 0.211</td><td> 0.025</td><td> 0.047</td><td> 0.227</td><td> 0.149</td><td>-0.012</td><td> 0.009</td><td>-0.011</td><td> 0.063</td></tr>\n",
       "\t<tr><th scope=row>atmospheric_temperature</th><td> 0.060</td><td> 1.000</td><td> 0.020</td><td> 0.008</td><td>-0.012</td><td> 0.054</td><td> 0.086</td><td> 0.112</td><td>-0.026</td><td> 0.076</td><td>-0.002</td><td> 0.010</td><td> 0.050</td><td> 0.044</td><td> 0.014</td><td> 0.002</td><td>-0.007</td><td>-0.002</td></tr>\n",
       "\t<tr><th scope=row>shaft_temperature</th><td> 0.035</td><td> 0.020</td><td> 1.000</td><td>-0.027</td><td> 0.038</td><td> 0.217</td><td> 0.074</td><td> 0.078</td><td>-0.028</td><td> 0.083</td><td> 0.029</td><td> 0.031</td><td> 0.043</td><td> 0.033</td><td> 0.017</td><td> 0.000</td><td>-0.020</td><td> 0.041</td></tr>\n",
       "\t<tr><th scope=row>blades_angle</th><td> 0.002</td><td> 0.008</td><td>-0.027</td><td> 1.000</td><td>-0.033</td><td>-0.063</td><td>-0.148</td><td>-0.037</td><td>-0.001</td><td>-0.072</td><td>-0.007</td><td>-0.043</td><td>-0.029</td><td>-0.054</td><td>-0.022</td><td>-0.072</td><td>-0.004</td><td>-0.169</td></tr>\n",
       "\t<tr><th scope=row>gearbox_temperature</th><td> 0.017</td><td>-0.012</td><td> 0.038</td><td>-0.033</td><td> 1.000</td><td> 0.155</td><td> 0.055</td><td> 0.054</td><td>-0.003</td><td> 0.058</td><td> 0.018</td><td> 0.027</td><td> 0.029</td><td> 0.023</td><td>-0.010</td><td> 0.009</td><td> 0.014</td><td> 0.064</td></tr>\n",
       "\t<tr><th scope=row>engine_temperature</th><td> 0.154</td><td> 0.054</td><td> 0.217</td><td>-0.063</td><td> 0.155</td><td> 1.000</td><td> 0.356</td><td> 0.366</td><td>-0.071</td><td> 0.325</td><td> 0.095</td><td> 0.135</td><td> 0.201</td><td> 0.145</td><td>-0.011</td><td> 0.016</td><td>-0.016</td><td> 0.244</td></tr>\n",
       "\t<tr><th scope=row>motor_torque</th><td> 0.380</td><td> 0.086</td><td> 0.074</td><td>-0.148</td><td> 0.055</td><td> 0.356</td><td> 1.000</td><td> 0.927</td><td>-0.223</td><td> 0.475</td><td> 0.031</td><td> 0.214</td><td> 0.488</td><td> 0.399</td><td> 0.004</td><td> 0.068</td><td>-0.008</td><td> 0.517</td></tr>\n",
       "\t<tr><th scope=row>generator_temperature</th><td> 0.433</td><td> 0.112</td><td> 0.078</td><td>-0.037</td><td> 0.054</td><td> 0.366</td><td> 0.927</td><td> 1.000</td><td>-0.249</td><td> 0.525</td><td> 0.037</td><td> 0.206</td><td> 0.520</td><td> 0.378</td><td> 0.001</td><td> 0.022</td><td>-0.009</td><td> 0.383</td></tr>\n",
       "\t<tr><th scope=row>atmospheric_pressure</th><td>-0.130</td><td>-0.026</td><td>-0.028</td><td>-0.001</td><td>-0.003</td><td>-0.071</td><td>-0.223</td><td>-0.249</td><td> 1.000</td><td>-0.093</td><td>-0.015</td><td>-0.023</td><td>-0.134</td><td>-0.100</td><td>-0.001</td><td>-0.007</td><td> 0.011</td><td>-0.018</td></tr>\n",
       "\t<tr><th scope=row>area_temperature</th><td> 0.211</td><td> 0.076</td><td> 0.083</td><td>-0.072</td><td> 0.058</td><td> 0.325</td><td> 0.475</td><td> 0.525</td><td>-0.093</td><td> 1.000</td><td> 0.054</td><td> 0.192</td><td> 0.254</td><td> 0.193</td><td> 0.000</td><td> 0.034</td><td>-0.015</td><td> 0.346</td></tr>\n",
       "\t<tr><th scope=row>body_temperature_windmill</th><td> 0.025</td><td>-0.002</td><td> 0.029</td><td>-0.007</td><td> 0.018</td><td> 0.095</td><td> 0.031</td><td> 0.037</td><td>-0.015</td><td> 0.054</td><td> 1.000</td><td> 0.006</td><td> 0.025</td><td> 0.006</td><td>-0.019</td><td> 0.007</td><td> 0.003</td><td> 0.002</td></tr>\n",
       "\t<tr><th scope=row>direction_wind</th><td> 0.047</td><td> 0.010</td><td> 0.031</td><td>-0.043</td><td> 0.027</td><td> 0.135</td><td> 0.214</td><td> 0.206</td><td>-0.023</td><td> 0.192</td><td> 0.006</td><td> 1.000</td><td> 0.091</td><td> 0.080</td><td> 0.009</td><td> 0.029</td><td> 0.004</td><td> 0.369</td></tr>\n",
       "\t<tr><th scope=row>resistance</th><td> 0.227</td><td> 0.050</td><td> 0.043</td><td>-0.029</td><td> 0.029</td><td> 0.201</td><td> 0.488</td><td> 0.520</td><td>-0.134</td><td> 0.254</td><td> 0.025</td><td> 0.091</td><td> 1.000</td><td> 0.193</td><td>-0.003</td><td> 0.003</td><td> 0.005</td><td> 0.217</td></tr>\n",
       "\t<tr><th scope=row>rotor_torque</th><td> 0.149</td><td> 0.044</td><td> 0.033</td><td>-0.054</td><td> 0.023</td><td> 0.145</td><td> 0.399</td><td> 0.378</td><td>-0.100</td><td> 0.193</td><td> 0.006</td><td> 0.080</td><td> 0.193</td><td> 1.000</td><td> 0.001</td><td> 0.038</td><td> 0.007</td><td> 0.201</td></tr>\n",
       "\t<tr><th scope=row>blade_length</th><td>-0.012</td><td> 0.014</td><td> 0.017</td><td>-0.022</td><td>-0.010</td><td>-0.011</td><td> 0.004</td><td> 0.001</td><td>-0.001</td><td> 0.000</td><td>-0.019</td><td> 0.009</td><td>-0.003</td><td> 0.001</td><td> 1.000</td><td> 0.009</td><td> 0.025</td><td> 0.027</td></tr>\n",
       "\t<tr><th scope=row>blade_breadth</th><td> 0.009</td><td> 0.002</td><td> 0.000</td><td>-0.072</td><td> 0.009</td><td> 0.016</td><td> 0.068</td><td> 0.022</td><td>-0.007</td><td> 0.034</td><td> 0.007</td><td> 0.029</td><td> 0.003</td><td> 0.038</td><td> 0.009</td><td> 1.000</td><td> 0.033</td><td> 0.106</td></tr>\n",
       "\t<tr><th scope=row>height_windmill</th><td>-0.011</td><td>-0.007</td><td>-0.020</td><td>-0.004</td><td> 0.014</td><td>-0.016</td><td>-0.008</td><td>-0.009</td><td> 0.011</td><td>-0.015</td><td> 0.003</td><td> 0.004</td><td> 0.005</td><td> 0.007</td><td> 0.025</td><td> 0.033</td><td> 1.000</td><td> 0.002</td></tr>\n",
       "\t<tr><th scope=row>windmill_generated_power</th><td> 0.063</td><td>-0.002</td><td> 0.041</td><td>-0.169</td><td> 0.064</td><td> 0.244</td><td> 0.517</td><td> 0.383</td><td>-0.018</td><td> 0.346</td><td> 0.002</td><td> 0.369</td><td> 0.217</td><td> 0.201</td><td> 0.027</td><td> 0.106</td><td> 0.002</td><td> 1.000</td></tr>\n",
       "</tbody>\n",
       "</table>\n"
      ],
      "text/latex": [
       "\\begin{tabular}{r|llllllllllllllllll}\n",
       "  & speed\\_wind & atmospheric\\_temperature & shaft\\_temperature & blades\\_angle & gearbox\\_temperature & engine\\_temperature & motor\\_torque & generator\\_temperature & atmospheric\\_pressure & area\\_temperature & body\\_temperature\\_windmill & direction\\_wind & resistance & rotor\\_torque & blade\\_length & blade\\_breadth & height\\_windmill & windmill\\_generated\\_power\\\\\n",
       "\\hline\n",
       "\tspeed\\_wind &  1.000 &  0.060 &  0.035 &  0.002 &  0.017 &  0.154 &  0.380 &  0.433 & -0.130 &  0.211 &  0.025 &  0.047 &  0.227 &  0.149 & -0.012 &  0.009 & -0.011 &  0.063\\\\\n",
       "\tatmospheric\\_temperature &  0.060 &  1.000 &  0.020 &  0.008 & -0.012 &  0.054 &  0.086 &  0.112 & -0.026 &  0.076 & -0.002 &  0.010 &  0.050 &  0.044 &  0.014 &  0.002 & -0.007 & -0.002\\\\\n",
       "\tshaft\\_temperature &  0.035 &  0.020 &  1.000 & -0.027 &  0.038 &  0.217 &  0.074 &  0.078 & -0.028 &  0.083 &  0.029 &  0.031 &  0.043 &  0.033 &  0.017 &  0.000 & -0.020 &  0.041\\\\\n",
       "\tblades\\_angle &  0.002 &  0.008 & -0.027 &  1.000 & -0.033 & -0.063 & -0.148 & -0.037 & -0.001 & -0.072 & -0.007 & -0.043 & -0.029 & -0.054 & -0.022 & -0.072 & -0.004 & -0.169\\\\\n",
       "\tgearbox\\_temperature &  0.017 & -0.012 &  0.038 & -0.033 &  1.000 &  0.155 &  0.055 &  0.054 & -0.003 &  0.058 &  0.018 &  0.027 &  0.029 &  0.023 & -0.010 &  0.009 &  0.014 &  0.064\\\\\n",
       "\tengine\\_temperature &  0.154 &  0.054 &  0.217 & -0.063 &  0.155 &  1.000 &  0.356 &  0.366 & -0.071 &  0.325 &  0.095 &  0.135 &  0.201 &  0.145 & -0.011 &  0.016 & -0.016 &  0.244\\\\\n",
       "\tmotor\\_torque &  0.380 &  0.086 &  0.074 & -0.148 &  0.055 &  0.356 &  1.000 &  0.927 & -0.223 &  0.475 &  0.031 &  0.214 &  0.488 &  0.399 &  0.004 &  0.068 & -0.008 &  0.517\\\\\n",
       "\tgenerator\\_temperature &  0.433 &  0.112 &  0.078 & -0.037 &  0.054 &  0.366 &  0.927 &  1.000 & -0.249 &  0.525 &  0.037 &  0.206 &  0.520 &  0.378 &  0.001 &  0.022 & -0.009 &  0.383\\\\\n",
       "\tatmospheric\\_pressure & -0.130 & -0.026 & -0.028 & -0.001 & -0.003 & -0.071 & -0.223 & -0.249 &  1.000 & -0.093 & -0.015 & -0.023 & -0.134 & -0.100 & -0.001 & -0.007 &  0.011 & -0.018\\\\\n",
       "\tarea\\_temperature &  0.211 &  0.076 &  0.083 & -0.072 &  0.058 &  0.325 &  0.475 &  0.525 & -0.093 &  1.000 &  0.054 &  0.192 &  0.254 &  0.193 &  0.000 &  0.034 & -0.015 &  0.346\\\\\n",
       "\tbody\\_temperature\\_windmill &  0.025 & -0.002 &  0.029 & -0.007 &  0.018 &  0.095 &  0.031 &  0.037 & -0.015 &  0.054 &  1.000 &  0.006 &  0.025 &  0.006 & -0.019 &  0.007 &  0.003 &  0.002\\\\\n",
       "\tdirection\\_wind &  0.047 &  0.010 &  0.031 & -0.043 &  0.027 &  0.135 &  0.214 &  0.206 & -0.023 &  0.192 &  0.006 &  1.000 &  0.091 &  0.080 &  0.009 &  0.029 &  0.004 &  0.369\\\\\n",
       "\tresistance &  0.227 &  0.050 &  0.043 & -0.029 &  0.029 &  0.201 &  0.488 &  0.520 & -0.134 &  0.254 &  0.025 &  0.091 &  1.000 &  0.193 & -0.003 &  0.003 &  0.005 &  0.217\\\\\n",
       "\trotor\\_torque &  0.149 &  0.044 &  0.033 & -0.054 &  0.023 &  0.145 &  0.399 &  0.378 & -0.100 &  0.193 &  0.006 &  0.080 &  0.193 &  1.000 &  0.001 &  0.038 &  0.007 &  0.201\\\\\n",
       "\tblade\\_length & -0.012 &  0.014 &  0.017 & -0.022 & -0.010 & -0.011 &  0.004 &  0.001 & -0.001 &  0.000 & -0.019 &  0.009 & -0.003 &  0.001 &  1.000 &  0.009 &  0.025 &  0.027\\\\\n",
       "\tblade\\_breadth &  0.009 &  0.002 &  0.000 & -0.072 &  0.009 &  0.016 &  0.068 &  0.022 & -0.007 &  0.034 &  0.007 &  0.029 &  0.003 &  0.038 &  0.009 &  1.000 &  0.033 &  0.106\\\\\n",
       "\theight\\_windmill & -0.011 & -0.007 & -0.020 & -0.004 &  0.014 & -0.016 & -0.008 & -0.009 &  0.011 & -0.015 &  0.003 &  0.004 &  0.005 &  0.007 &  0.025 &  0.033 &  1.000 &  0.002\\\\\n",
       "\twindmill\\_generated\\_power &  0.063 & -0.002 &  0.041 & -0.169 &  0.064 &  0.244 &  0.517 &  0.383 & -0.018 &  0.346 &  0.002 &  0.369 &  0.217 &  0.201 &  0.027 &  0.106 &  0.002 &  1.000\\\\\n",
       "\\end{tabular}\n"
      ],
      "text/markdown": [
       "\n",
       "| <!--/--> | speed_wind | atmospheric_temperature | shaft_temperature | blades_angle | gearbox_temperature | engine_temperature | motor_torque | generator_temperature | atmospheric_pressure | area_temperature | body_temperature_windmill | direction_wind | resistance | rotor_torque | blade_length | blade_breadth | height_windmill | windmill_generated_power |\n",
       "|---|---|---|---|---|---|---|---|---|---|---|---|---|---|---|---|---|---|---|\n",
       "| speed_wind |  1.000 |  0.060 |  0.035 |  0.002 |  0.017 |  0.154 |  0.380 |  0.433 | -0.130 |  0.211 |  0.025 |  0.047 |  0.227 |  0.149 | -0.012 |  0.009 | -0.011 |  0.063 |\n",
       "| atmospheric_temperature |  0.060 |  1.000 |  0.020 |  0.008 | -0.012 |  0.054 |  0.086 |  0.112 | -0.026 |  0.076 | -0.002 |  0.010 |  0.050 |  0.044 |  0.014 |  0.002 | -0.007 | -0.002 |\n",
       "| shaft_temperature |  0.035 |  0.020 |  1.000 | -0.027 |  0.038 |  0.217 |  0.074 |  0.078 | -0.028 |  0.083 |  0.029 |  0.031 |  0.043 |  0.033 |  0.017 |  0.000 | -0.020 |  0.041 |\n",
       "| blades_angle |  0.002 |  0.008 | -0.027 |  1.000 | -0.033 | -0.063 | -0.148 | -0.037 | -0.001 | -0.072 | -0.007 | -0.043 | -0.029 | -0.054 | -0.022 | -0.072 | -0.004 | -0.169 |\n",
       "| gearbox_temperature |  0.017 | -0.012 |  0.038 | -0.033 |  1.000 |  0.155 |  0.055 |  0.054 | -0.003 |  0.058 |  0.018 |  0.027 |  0.029 |  0.023 | -0.010 |  0.009 |  0.014 |  0.064 |\n",
       "| engine_temperature |  0.154 |  0.054 |  0.217 | -0.063 |  0.155 |  1.000 |  0.356 |  0.366 | -0.071 |  0.325 |  0.095 |  0.135 |  0.201 |  0.145 | -0.011 |  0.016 | -0.016 |  0.244 |\n",
       "| motor_torque |  0.380 |  0.086 |  0.074 | -0.148 |  0.055 |  0.356 |  1.000 |  0.927 | -0.223 |  0.475 |  0.031 |  0.214 |  0.488 |  0.399 |  0.004 |  0.068 | -0.008 |  0.517 |\n",
       "| generator_temperature |  0.433 |  0.112 |  0.078 | -0.037 |  0.054 |  0.366 |  0.927 |  1.000 | -0.249 |  0.525 |  0.037 |  0.206 |  0.520 |  0.378 |  0.001 |  0.022 | -0.009 |  0.383 |\n",
       "| atmospheric_pressure | -0.130 | -0.026 | -0.028 | -0.001 | -0.003 | -0.071 | -0.223 | -0.249 |  1.000 | -0.093 | -0.015 | -0.023 | -0.134 | -0.100 | -0.001 | -0.007 |  0.011 | -0.018 |\n",
       "| area_temperature |  0.211 |  0.076 |  0.083 | -0.072 |  0.058 |  0.325 |  0.475 |  0.525 | -0.093 |  1.000 |  0.054 |  0.192 |  0.254 |  0.193 |  0.000 |  0.034 | -0.015 |  0.346 |\n",
       "| body_temperature_windmill |  0.025 | -0.002 |  0.029 | -0.007 |  0.018 |  0.095 |  0.031 |  0.037 | -0.015 |  0.054 |  1.000 |  0.006 |  0.025 |  0.006 | -0.019 |  0.007 |  0.003 |  0.002 |\n",
       "| direction_wind |  0.047 |  0.010 |  0.031 | -0.043 |  0.027 |  0.135 |  0.214 |  0.206 | -0.023 |  0.192 |  0.006 |  1.000 |  0.091 |  0.080 |  0.009 |  0.029 |  0.004 |  0.369 |\n",
       "| resistance |  0.227 |  0.050 |  0.043 | -0.029 |  0.029 |  0.201 |  0.488 |  0.520 | -0.134 |  0.254 |  0.025 |  0.091 |  1.000 |  0.193 | -0.003 |  0.003 |  0.005 |  0.217 |\n",
       "| rotor_torque |  0.149 |  0.044 |  0.033 | -0.054 |  0.023 |  0.145 |  0.399 |  0.378 | -0.100 |  0.193 |  0.006 |  0.080 |  0.193 |  1.000 |  0.001 |  0.038 |  0.007 |  0.201 |\n",
       "| blade_length | -0.012 |  0.014 |  0.017 | -0.022 | -0.010 | -0.011 |  0.004 |  0.001 | -0.001 |  0.000 | -0.019 |  0.009 | -0.003 |  0.001 |  1.000 |  0.009 |  0.025 |  0.027 |\n",
       "| blade_breadth |  0.009 |  0.002 |  0.000 | -0.072 |  0.009 |  0.016 |  0.068 |  0.022 | -0.007 |  0.034 |  0.007 |  0.029 |  0.003 |  0.038 |  0.009 |  1.000 |  0.033 |  0.106 |\n",
       "| height_windmill | -0.011 | -0.007 | -0.020 | -0.004 |  0.014 | -0.016 | -0.008 | -0.009 |  0.011 | -0.015 |  0.003 |  0.004 |  0.005 |  0.007 |  0.025 |  0.033 |  1.000 |  0.002 |\n",
       "| windmill_generated_power |  0.063 | -0.002 |  0.041 | -0.169 |  0.064 |  0.244 |  0.517 |  0.383 | -0.018 |  0.346 |  0.002 |  0.369 |  0.217 |  0.201 |  0.027 |  0.106 |  0.002 |  1.000 |\n",
       "\n"
      ],
      "text/plain": [
       "                          speed_wind atmospheric_temperature shaft_temperature\n",
       "speed_wind                 1.000      0.060                   0.035           \n",
       "atmospheric_temperature    0.060      1.000                   0.020           \n",
       "shaft_temperature          0.035      0.020                   1.000           \n",
       "blades_angle               0.002      0.008                  -0.027           \n",
       "gearbox_temperature        0.017     -0.012                   0.038           \n",
       "engine_temperature         0.154      0.054                   0.217           \n",
       "motor_torque               0.380      0.086                   0.074           \n",
       "generator_temperature      0.433      0.112                   0.078           \n",
       "atmospheric_pressure      -0.130     -0.026                  -0.028           \n",
       "area_temperature           0.211      0.076                   0.083           \n",
       "body_temperature_windmill  0.025     -0.002                   0.029           \n",
       "direction_wind             0.047      0.010                   0.031           \n",
       "resistance                 0.227      0.050                   0.043           \n",
       "rotor_torque               0.149      0.044                   0.033           \n",
       "blade_length              -0.012      0.014                   0.017           \n",
       "blade_breadth              0.009      0.002                   0.000           \n",
       "height_windmill           -0.011     -0.007                  -0.020           \n",
       "windmill_generated_power   0.063     -0.002                   0.041           \n",
       "                          blades_angle gearbox_temperature engine_temperature\n",
       "speed_wind                 0.002        0.017               0.154            \n",
       "atmospheric_temperature    0.008       -0.012               0.054            \n",
       "shaft_temperature         -0.027        0.038               0.217            \n",
       "blades_angle               1.000       -0.033              -0.063            \n",
       "gearbox_temperature       -0.033        1.000               0.155            \n",
       "engine_temperature        -0.063        0.155               1.000            \n",
       "motor_torque              -0.148        0.055               0.356            \n",
       "generator_temperature     -0.037        0.054               0.366            \n",
       "atmospheric_pressure      -0.001       -0.003              -0.071            \n",
       "area_temperature          -0.072        0.058               0.325            \n",
       "body_temperature_windmill -0.007        0.018               0.095            \n",
       "direction_wind            -0.043        0.027               0.135            \n",
       "resistance                -0.029        0.029               0.201            \n",
       "rotor_torque              -0.054        0.023               0.145            \n",
       "blade_length              -0.022       -0.010              -0.011            \n",
       "blade_breadth             -0.072        0.009               0.016            \n",
       "height_windmill           -0.004        0.014              -0.016            \n",
       "windmill_generated_power  -0.169        0.064               0.244            \n",
       "                          motor_torque generator_temperature\n",
       "speed_wind                 0.380        0.433               \n",
       "atmospheric_temperature    0.086        0.112               \n",
       "shaft_temperature          0.074        0.078               \n",
       "blades_angle              -0.148       -0.037               \n",
       "gearbox_temperature        0.055        0.054               \n",
       "engine_temperature         0.356        0.366               \n",
       "motor_torque               1.000        0.927               \n",
       "generator_temperature      0.927        1.000               \n",
       "atmospheric_pressure      -0.223       -0.249               \n",
       "area_temperature           0.475        0.525               \n",
       "body_temperature_windmill  0.031        0.037               \n",
       "direction_wind             0.214        0.206               \n",
       "resistance                 0.488        0.520               \n",
       "rotor_torque               0.399        0.378               \n",
       "blade_length               0.004        0.001               \n",
       "blade_breadth              0.068        0.022               \n",
       "height_windmill           -0.008       -0.009               \n",
       "windmill_generated_power   0.517        0.383               \n",
       "                          atmospheric_pressure area_temperature\n",
       "speed_wind                -0.130                0.211          \n",
       "atmospheric_temperature   -0.026                0.076          \n",
       "shaft_temperature         -0.028                0.083          \n",
       "blades_angle              -0.001               -0.072          \n",
       "gearbox_temperature       -0.003                0.058          \n",
       "engine_temperature        -0.071                0.325          \n",
       "motor_torque              -0.223                0.475          \n",
       "generator_temperature     -0.249                0.525          \n",
       "atmospheric_pressure       1.000               -0.093          \n",
       "area_temperature          -0.093                1.000          \n",
       "body_temperature_windmill -0.015                0.054          \n",
       "direction_wind            -0.023                0.192          \n",
       "resistance                -0.134                0.254          \n",
       "rotor_torque              -0.100                0.193          \n",
       "blade_length              -0.001                0.000          \n",
       "blade_breadth             -0.007                0.034          \n",
       "height_windmill            0.011               -0.015          \n",
       "windmill_generated_power  -0.018                0.346          \n",
       "                          body_temperature_windmill direction_wind resistance\n",
       "speed_wind                 0.025                     0.047          0.227    \n",
       "atmospheric_temperature   -0.002                     0.010          0.050    \n",
       "shaft_temperature          0.029                     0.031          0.043    \n",
       "blades_angle              -0.007                    -0.043         -0.029    \n",
       "gearbox_temperature        0.018                     0.027          0.029    \n",
       "engine_temperature         0.095                     0.135          0.201    \n",
       "motor_torque               0.031                     0.214          0.488    \n",
       "generator_temperature      0.037                     0.206          0.520    \n",
       "atmospheric_pressure      -0.015                    -0.023         -0.134    \n",
       "area_temperature           0.054                     0.192          0.254    \n",
       "body_temperature_windmill  1.000                     0.006          0.025    \n",
       "direction_wind             0.006                     1.000          0.091    \n",
       "resistance                 0.025                     0.091          1.000    \n",
       "rotor_torque               0.006                     0.080          0.193    \n",
       "blade_length              -0.019                     0.009         -0.003    \n",
       "blade_breadth              0.007                     0.029          0.003    \n",
       "height_windmill            0.003                     0.004          0.005    \n",
       "windmill_generated_power   0.002                     0.369          0.217    \n",
       "                          rotor_torque blade_length blade_breadth\n",
       "speed_wind                 0.149       -0.012        0.009       \n",
       "atmospheric_temperature    0.044        0.014        0.002       \n",
       "shaft_temperature          0.033        0.017        0.000       \n",
       "blades_angle              -0.054       -0.022       -0.072       \n",
       "gearbox_temperature        0.023       -0.010        0.009       \n",
       "engine_temperature         0.145       -0.011        0.016       \n",
       "motor_torque               0.399        0.004        0.068       \n",
       "generator_temperature      0.378        0.001        0.022       \n",
       "atmospheric_pressure      -0.100       -0.001       -0.007       \n",
       "area_temperature           0.193        0.000        0.034       \n",
       "body_temperature_windmill  0.006       -0.019        0.007       \n",
       "direction_wind             0.080        0.009        0.029       \n",
       "resistance                 0.193       -0.003        0.003       \n",
       "rotor_torque               1.000        0.001        0.038       \n",
       "blade_length               0.001        1.000        0.009       \n",
       "blade_breadth              0.038        0.009        1.000       \n",
       "height_windmill            0.007        0.025        0.033       \n",
       "windmill_generated_power   0.201        0.027        0.106       \n",
       "                          height_windmill windmill_generated_power\n",
       "speed_wind                -0.011           0.063                  \n",
       "atmospheric_temperature   -0.007          -0.002                  \n",
       "shaft_temperature         -0.020           0.041                  \n",
       "blades_angle              -0.004          -0.169                  \n",
       "gearbox_temperature        0.014           0.064                  \n",
       "engine_temperature        -0.016           0.244                  \n",
       "motor_torque              -0.008           0.517                  \n",
       "generator_temperature     -0.009           0.383                  \n",
       "atmospheric_pressure       0.011          -0.018                  \n",
       "area_temperature          -0.015           0.346                  \n",
       "body_temperature_windmill  0.003           0.002                  \n",
       "direction_wind             0.004           0.369                  \n",
       "resistance                 0.005           0.217                  \n",
       "rotor_torque               0.007           0.201                  \n",
       "blade_length               0.025           0.027                  \n",
       "blade_breadth              0.033           0.106                  \n",
       "height_windmill            1.000           0.002                  \n",
       "windmill_generated_power   0.002           1.000                  "
      ]
     },
     "metadata": {},
     "output_type": "display_data"
    }
   ],
   "source": [
    "round(cor(df_train[,c(3,4,5,6,7,8,9,10,11,12,13,14,15,16,19,20,21,22)], use = \"complete.obs\"),3) #correlation matrix"
   ]
  },
  {
   "cell_type": "code",
   "execution_count": 23,
   "id": "b4d62fbc",
   "metadata": {
    "vscode": {
     "languageId": "r"
    }
   },
   "outputs": [
    {
     "data": {
      "image/png": "[encoded data removed]",
      "text/plain": [
       "Plot with title \"Boxplot of speed_wind\""
      ]
     },
     "metadata": {},
     "output_type": "display_data"
    },
    {
     "data": {
      "image/png": "[encoded data removed]",
      "text/plain": [
       "Plot with title \"Boxplot of atmospheric_temperature\""
      ]
     },
     "metadata": {},
     "output_type": "display_data"
    },
    {
     "data": {
      "image/png": "[encoded data removed]",
      "text/plain": [
       "Plot with title \"Boxplot of shaft_temperature\""
      ]
     },
     "metadata": {},
     "output_type": "display_data"
    },
    {
     "data": {
      "image/png": "[encoded data removed]",
      "text/plain": [
       "Plot with title \"Boxplot of blades_angle\""
      ]
     },
     "metadata": {},
     "output_type": "display_data"
    },
    {
     "data": {
      "image/png": "[encoded data removed]",
      "text/plain": [
       "Plot with title \"Boxplot of gearbox_temperature\""
      ]
     },
     "metadata": {},
     "output_type": "display_data"
    },
    {
     "data": {
      "image/png": "[encoded data removed]",
      "text/plain": [
       "Plot with title \"Boxplot of engine_temperature\""
      ]
     },
     "metadata": {},
     "output_type": "display_data"
    },
    {
     "data": {
      "image/png": "[encoded data removed]",
      "text/plain": [
       "Plot with title \"Boxplot of motor_torque\""
      ]
     },
     "metadata": {},
     "output_type": "display_data"
    },
    {
     "data": {
      "image/png": "[encoded data removed]",
      "text/plain": [
       "Plot with title \"Boxplot of generator_temperature\""
      ]
     },
     "metadata": {},
     "output_type": "display_data"
    },
    {
     "data": {
      "image/png": "[encoded data removed]",
      "text/plain": [
       "Plot with title \"Boxplot of atmospheric_pressure\""
      ]
     },
     "metadata": {},
     "output_type": "display_data"
    },
    {
     "data": {
      "image/png": "[encoded data removed]",
      "text/plain": [
       "Plot with title \"Boxplot of area_temperature\""
      ]
     },
     "metadata": {},
     "output_type": "display_data"
    },
    {
     "data": {
      "image/png": "[encoded data removed]",
      "text/plain": [
       "Plot with title \"Boxplot of body_temperature_windmill\""
      ]
     },
     "metadata": {},
     "output_type": "display_data"
    },
    {
     "data": {
      "image/png": "[encoded data removed]",
      "text/plain": [
       "Plot with title \"Boxplot of direction_wind\""
      ]
     },
     "metadata": {},
     "output_type": "display_data"
    },
    {
     "data": {
      "image/png": "[encoded data removed]",
      "text/plain": [
       "Plot with title \"Boxplot of resistance\""
      ]
     },
     "metadata": {},
     "output_type": "display_data"
    },
    {
     "data": {
      "image/png": "[encoded data removed]",
      "text/plain": [
       "Plot with title \"Boxplot of rotor_torque\""
      ]
     },
     "metadata": {},
     "output_type": "display_data"
    },
    {
     "data": {
      "image/png": "[encoded data removed]",
      "text/plain": [
       "Plot with title \"Boxplot of blade_length\""
      ]
     },
     "metadata": {},
     "output_type": "display_data"
    },
    {
     "data": {
      "image/png": "[encoded data removed]",
      "text/plain": [
       "Plot with title \"Boxplot of blade_breadth\""
      ]
     },
     "metadata": {},
     "output_type": "display_data"
    },
    {
     "data": {
      "image/png": "[encoded data removed]",
      "text/plain": [
       "Plot with title \"Boxplot of height_windmill\""
      ]
     },
     "metadata": {},
     "output_type": "display_data"
    },
    {
     "data": {
      "image/png": "[encoded data removed]",
      "text/plain": [
       "Plot with title \"Boxplot of windmill_generated_power\""
      ]
     },
     "metadata": {},
     "output_type": "display_data"
    }
   ],
   "source": [
    "# Plotting histogram and box plot for numerical features\n",
    "for (i in names(df_train[,c(3,4,5,6,7,8,9,10,11,12,13,14,15,16,19,20,21,22)])) \n",
    "  {\n",
    "    par(mfrow = c(2, 1)) #partitioning plotting area into two parts such that box plot is below histogram.\n",
    "    hist(df_train[,i],\n",
    "         xlab = i,\n",
    "         ylab = \"Number of Windmills\",\n",
    "         main = paste(\"Histogram of\", i, sep =\" \") ,\n",
    "         col = \"lightblue\",\n",
    "         border = \"black\")\n",
    "    \n",
    "    boxplot(df_train[,i],\n",
    "        xlab = i, horizontal = T,\n",
    "        main = paste(\"Boxplot of\", i, sep =\" \"),\n",
    "        col = \"blue\",\n",
    "        border = \"black\")\n",
    "  }"
   ]
  },
  {
   "cell_type": "markdown",
   "id": "7708abc6",
   "metadata": {},
   "source": [
    "-   Target variable windmill_generated_power has right skewed\n",
    "    distribution.\n",
    "-   Resistance is having negative values which is not practical, we will\n",
    "    convert them to positive values.\n",
    "-   Area_temperature is having left skewed distribution\n",
    "-   Wind_speed is having very high values and also in negative, as we\n",
    "    have wind_direction variable we will convert Wind_speed to an\n",
    "    absolute values.\n",
    "-   Atmospheric_temperature is having alot of values near -100, this\n",
    "    could be an error in observation or null values could have been\n",
    "    represented by this value because lowest temperature ever recorded\n",
    "    on the surface of the Earth is -89.2°C since 1912. Similar case is\n",
    "    there for shaft_temperature and windmill_body_temperature as well.\n",
    "-   Atmospheric_pressure is having negative values, which is practically\n",
    "    not possible, so we will need to treat these before further\n",
    "    analysis.\n",
    "-   Gearbox_temperature are very extreme on the negative side, we might\n",
    "    need to treat them before further analysis.\n",
    "-   Wind_speed variable is having unit m/s and by this unit, it’s\n",
    "    highest value of approx 600m/s corrosponds to 2160 km/h, which is\n",
    "    extremely high and is much higher than even the speed of class 5\n",
    "    hurricane(\\>70m/s). So we will scale these values down to get\n",
    "    practical values."
   ]
  },
  {
   "cell_type": "code",
   "execution_count": 24,
   "id": "c5f226f7",
   "metadata": {
    "scrolled": true,
    "vscode": {
     "languageId": "r"
    }
   },
   "outputs": [
    {
     "data": {
      "image/png": "[encoded data removed]",
      "text/plain": [
       "Plot with title \"Barplot of cloud_level\""
      ]
     },
     "metadata": {},
     "output_type": "display_data"
    }
   ],
   "source": [
    "# Plotting bar plot for categorical features\n",
    "par(mfrow = c(2, 1))\n",
    "for (i in names(df_train[,c(17,18)])) \n",
    "  {\n",
    "    barplot(table(df_train[,i]),col = \"orange\", \n",
    "            xlab = i,\n",
    "            ylab = \"Number of Windmills\",\n",
    "            main = paste(\"Barplot of\", i, sep =\" \") ,)\n",
    "  }"
   ]
  },
  {
   "cell_type": "markdown",
   "id": "62a62d2e",
   "metadata": {},
   "source": [
    "-   For all turbine status values almost same values of observations are\n",
    "    there.\n",
    "-   There are very few number of observations available for extremely\n",
    "    low cloud level."
   ]
  },
  {
   "cell_type": "code",
   "execution_count": 25,
   "id": "1326326d",
   "metadata": {
    "vscode": {
     "languageId": "r"
    }
   },
   "outputs": [
    {
     "data": {
      "text/plain": [
       "   tracking_id                   datetime       speed_wind     \n",
       " WM_1    :    1   2018-10-28 20:53:20:    1   Min.   :-496.21  \n",
       " WM_10   :    1   2018-10-28 21:03:20:    1   1st Qu.:  21.13  \n",
       " WM_1000 :    1   2018-10-28 21:33:20:    1   Median :  93.31  \n",
       " WM_10000:    1   2018-10-28 21:53:20:    1   Mean   :  69.36  \n",
       " WM_10001:    1   2018-10-28 22:23:20:    1   3rd Qu.:  95.29  \n",
       " WM_10002:    1   2018-10-28 23:03:20:    1   Max.   : 601.46  \n",
       " (Other) :22388   (Other)            :22388   NA's   :209      \n",
       " atmospheric_temperature shaft_temperature  blades_angle      \n",
       " Min.   :-99.0000        Min.   :-99.00    Min.   :-146.2595  \n",
       " 1st Qu.:  7.7688        1st Qu.: 41.65    1st Qu.:  -1.1974  \n",
       " Median : 16.1421        Median : 43.68    Median :  -0.4883  \n",
       " Mean   :  0.0374        Mean   : 40.21    Mean   :  -9.5606  \n",
       " 3rd Qu.: 23.6833        3rd Qu.: 45.69    3rd Qu.:   5.6891  \n",
       " Max.   : 80.2174        Max.   :169.82    Max.   : 165.1694  \n",
       " NA's   :2712            NA's   :1         NA's   :173        \n",
       " gearbox_temperature engine_temperature  motor_torque    generator_temperature\n",
       " Min.   :-201.17     Min.   : 3.167     Min.   : 500.0   Min.   :33.89        \n",
       " 1st Qu.:  40.55     1st Qu.:41.911     1st Qu.: 872.5   1st Qu.:41.26        \n",
       " Median :  43.23     Median :43.519     Median :2033.3   Median :70.78        \n",
       " Mean   :  41.12     Mean   :42.598     Mean   :1713.5   Mean   :65.13        \n",
       " 3rd Qu.:  45.91     3rd Qu.:45.180     3rd Qu.:2464.4   3rd Qu.:79.00        \n",
       " Max.   : 999.00     Max.   :50.000     Max.   :3000.0   Max.   :99.73        \n",
       "                     NA's   :9          NA's   :20       NA's   :9            \n",
       " atmospheric_pressure area_temperature body_temperature_windmill\n",
       " Min.   :-1021642     Min.   :-30.00   Min.   :-999.00          \n",
       " 1st Qu.:   16793     1st Qu.: 27.34   1st Qu.:  40.44          \n",
       " Median :   18208     Median : 32.61   Median :  42.78          \n",
       " Mean   :   53480     Mean   : 32.74   Mean   :  20.72          \n",
       " 3rd Qu.:  118112     3rd Qu.: 38.21   3rd Qu.:  44.50          \n",
       " Max.   : 1272552     Max.   : 54.85   Max.   : 160.29          \n",
       " NA's   :2152                          NA's   :1893             \n",
       " direction_wind    resistance      rotor_torque     turbine_status \n",
       " Min.   :  0.0   Min.   :-825.2   Min.   :-136.73   BB     : 1560  \n",
       " 1st Qu.:238.0   1st Qu.:1267.2   1st Qu.:  13.77   AAA    : 1549  \n",
       " Median :271.1   Median :1677.8   Median :  33.09   A      : 1547  \n",
       " Mean   :306.0   Mean   :1573.4   Mean   :  25.86   D      : 1547  \n",
       " 3rd Qu.:398.7   3rd Qu.:1826.8   3rd Qu.:  41.60   B2     : 1521  \n",
       " Max.   :570.0   Max.   :4693.5   Max.   : 236.88   BCB    : 1514  \n",
       " NA's   :4023    NA's   :1        NA's   :454       (Other):13156  \n",
       "        cloud_level     blade_length     blade_breadth    height_windmill \n",
       "              :  219   Min.   :-99.000   Min.   :0.2001   Min.   :-30.30  \n",
       " Extremely Low:  249   1st Qu.:  2.540   1st Qu.:0.3475   1st Qu.: 24.46  \n",
       " Low          :11075   Median :  3.454   Median :0.3988   Median : 25.97  \n",
       " Medium       :10851   Mean   :  2.279   Mean   :0.3974   Mean   : 25.95  \n",
       "                       3rd Qu.:  4.354   3rd Qu.:0.4497   3rd Qu.: 27.49  \n",
       "                       Max.   : 16.393   Max.   :0.5000   Max.   : 78.35  \n",
       "                       NA's   :4021                       NA's   :441     \n",
       " windmill_generated_power\n",
       " Min.   : 0.9623         \n",
       " 1st Qu.: 4.0538         \n",
       " Median : 5.7567         \n",
       " Mean   : 6.1301         \n",
       " 3rd Qu.: 7.9558         \n",
       " Max.   :20.1754         \n",
       "                         "
      ]
     },
     "metadata": {},
     "output_type": "display_data"
    }
   ],
   "source": [
    "#checking distribution summary of all variables\n",
    "summary(df_train)"
   ]
  },
  {
   "cell_type": "code",
   "execution_count": 26,
   "id": "c13ff448",
   "metadata": {
    "vscode": {
     "languageId": "r"
    }
   },
   "outputs": [
    {
     "data": {
      "text/html": [
       "2712"
      ],
      "text/latex": [
       "2712"
      ],
      "text/markdown": [
       "2712"
      ],
      "text/plain": [
       "[1] 2712"
      ]
     },
     "metadata": {},
     "output_type": "display_data"
    }
   ],
   "source": [
    "nrow(df_train[(df_train$atmospheric_temperature == -999), ])"
   ]
  },
  {
   "cell_type": "code",
   "execution_count": 27,
   "id": "b8fe36a4",
   "metadata": {
    "vscode": {
     "languageId": "r"
    }
   },
   "outputs": [
    {
     "data": {
      "text/html": [
       "2712"
      ],
      "text/latex": [
       "2712"
      ],
      "text/markdown": [
       "2712"
      ],
      "text/plain": [
       "[1] 2712"
      ]
     },
     "metadata": {},
     "output_type": "display_data"
    }
   ],
   "source": [
    "sum(is.na(df_train$atmospheric_temperature))"
   ]
  },
  {
   "cell_type": "markdown",
   "id": "218056a3",
   "metadata": {},
   "source": [
    "Even though, the minimum temperature of atmospheric_temperature column\n",
    "is -99, when we check number of rows containing -999 value in\n",
    "atmospheric_temperature column, the output is showing 2712, which is the\n",
    "exact number of missing values in that column. so to identify number of\n",
    "rows containing -99 value in atmospheric_temperature, we need to\n",
    "subtract missing values from the output we obtain."
   ]
  },
  {
   "cell_type": "code",
   "execution_count": 28,
   "id": "3e4059a8",
   "metadata": {
    "vscode": {
     "languageId": "r"
    }
   },
   "outputs": [
    {
     "data": {
      "text/html": [
       "3194"
      ],
      "text/latex": [
       "3194"
      ],
      "text/markdown": [
       "3194"
      ],
      "text/plain": [
       "[1] 3194"
      ]
     },
     "metadata": {},
     "output_type": "display_data"
    }
   ],
   "source": [
    "nrow(df_train[(df_train$atmospheric_temperature == -99), ]) - sum(is.na(df_train$atmospheric_temperature))"
   ]
  },
  {
   "cell_type": "code",
   "execution_count": 29,
   "id": "e9c07c2e",
   "metadata": {
    "vscode": {
     "languageId": "r"
    }
   },
   "outputs": [
    {
     "name": "stderr",
     "output_type": "stream",
     "text": [
      "Warning message in bxp(list(stats = structure(c(-77.3109300109521, 23.9433397429835, :\n",
      "\"some notches went outside hinges ('box'): maybe set notch=FALSE\"Warning message in bxp(list(stats = structure(c(-91.5131046705393, 19.4664154181873, :\n",
      "\"some notches went outside hinges ('box'): maybe set notch=FALSE\""
     ]
    },
    {
     "data": {
      "image/png": "[encoded data removed]",
      "text/plain": [
       "Plot with title \"Boxplot of speed_wind\""
      ]
     },
     "metadata": {},
     "output_type": "display_data"
    },
    {
     "data": {
      "image/png": "[encoded data removed]",
      "text/plain": [
       "Plot with title \"Boxplot of atmospheric_temperature\""
      ]
     },
     "metadata": {},
     "output_type": "display_data"
    },
    {
     "name": "stderr",
     "output_type": "stream",
     "text": [
      "Warning message in bxp(list(stats = structure(c(-1.39289518647763, -1.20761206543162, :\n",
      "\"some notches went outside hinges ('box'): maybe set notch=FALSE\""
     ]
    },
    {
     "data": {
      "image/png": "[encoded data removed]",
      "text/plain": [
       "Plot with title \"Boxplot of shaft_temperature\""
      ]
     },
     "metadata": {},
     "output_type": "display_data"
    },
    {
     "data": {
      "image/png": "[encoded data removed]",
      "text/plain": [
       "Plot with title \"Boxplot of blades_angle\""
      ]
     },
     "metadata": {},
     "output_type": "display_data"
    },
    {
     "data": {
      "image/png": "[encoded data removed]",
      "text/plain": [
       "Plot with title \"Boxplot of gearbox_temperature\""
      ]
     },
     "metadata": {},
     "output_type": "display_data"
    },
    {
     "name": "stderr",
     "output_type": "stream",
     "text": [
      "Warning message in bxp(list(stats = structure(c(500, 887.650156293573, 2055.95196405909, :\n",
      "\"some notches went outside hinges ('box'): maybe set notch=FALSE\""
     ]
    },
    {
     "data": {
      "image/png": "[encoded data removed]",
      "text/plain": [
       "Plot with title \"Boxplot of engine_temperature\""
      ]
     },
     "metadata": {},
     "output_type": "display_data"
    },
    {
     "name": "stderr",
     "output_type": "stream",
     "text": [
      "Warning message in bxp(list(stats = structure(c(34.1242713776421, 41.7084878723263, :\n",
      "\"some notches went outside hinges ('box'): maybe set notch=FALSE\""
     ]
    },
    {
     "data": {
      "image/png": "[encoded data removed]",
      "text/plain": [
       "Plot with title \"Boxplot of motor_torque\""
      ]
     },
     "metadata": {},
     "output_type": "display_data"
    },
    {
     "name": "stderr",
     "output_type": "stream",
     "text": [
      "Warning message in bxp(list(stats = structure(c(-97967.1831200864, 16699.6066632798, :\n",
      "\"some notches went outside hinges ('box'): maybe set notch=FALSE\"Warning message in bxp(list(stats = structure(c(-136390.207459243, 16846.7856328468, :\n",
      "\"some notches went outside hinges ('box'): maybe set notch=FALSE\""
     ]
    },
    {
     "data": {
      "image/png": "[encoded data removed]",
      "text/plain": [
       "Plot with title \"Boxplot of generator_temperature\""
      ]
     },
     "metadata": {},
     "output_type": "display_data"
    },
    {
     "data": {
      "image/png": "[encoded data removed]",
      "text/plain": [
       "Plot with title \"Boxplot of atmospheric_pressure\""
      ]
     },
     "metadata": {},
     "output_type": "display_data"
    },
    {
     "name": "stderr",
     "output_type": "stream",
     "text": [
      "Warning message in bxp(list(stats = structure(c(-32.9567673664373, 12.7786067359187, :\n",
      "\"some notches went outside hinges ('box'): maybe set notch=FALSE\""
     ]
    },
    {
     "data": {
      "image/png": "[encoded data removed]",
      "text/plain": [
       "Plot with title \"Boxplot of area_temperature\""
      ]
     },
     "metadata": {},
     "output_type": "display_data"
    },
    {
     "data": {
      "image/png": "[encoded data removed]",
      "text/plain": [
       "Plot with title \"Boxplot of body_temperature_windmill\""
      ]
     },
     "metadata": {},
     "output_type": "display_data"
    },
    {
     "name": "stderr",
     "output_type": "stream",
     "text": [
      "Warning message in bxp(list(stats = structure(c(563.197913842015, 1264.99495294873, :\n",
      "\"some notches went outside hinges ('box'): maybe set notch=FALSE\""
     ]
    },
    {
     "data": {
      "image/png": "[encoded data removed]",
      "text/plain": [
       "Plot with title \"Boxplot of direction_wind\""
      ]
     },
     "metadata": {},
     "output_type": "display_data"
    },
    {
     "name": "stderr",
     "output_type": "stream",
     "text": [
      "Warning message in bxp(list(stats = structure(c(-24.944765103462, 13.6747973787531, :\n",
      "\"some notches went outside hinges ('box'): maybe set notch=FALSE\""
     ]
    },
    {
     "data": {
      "image/png": "[encoded data removed]",
      "text/plain": [
       "Plot with title \"Boxplot of resistance\""
      ]
     },
     "metadata": {},
     "output_type": "display_data"
    },
    {
     "data": {
      "image/png": "[encoded data removed]",
      "text/plain": [
       "Plot with title \"Boxplot of rotor_torque\""
      ]
     },
     "metadata": {},
     "output_type": "display_data"
    },
    {
     "data": {
      "image/png": "[encoded data removed]",
      "text/plain": [
       "Plot with title \"Boxplot of blade_length\""
      ]
     },
     "metadata": {},
     "output_type": "display_data"
    },
    {
     "data": {
      "image/png": "[encoded data removed]",
      "text/plain": [
       "Plot with title \"Boxplot of blade_breadth\""
      ]
     },
     "metadata": {},
     "output_type": "display_data"
    },
    {
     "data": {
      "image/png": "[encoded data removed]",
      "text/plain": [
       "Plot with title \"Boxplot of height_windmill\""
      ]
     },
     "metadata": {},
     "output_type": "display_data"
    },
    {
     "data": {
      "image/png": "[encoded data removed]",
      "text/plain": [
       "Plot with title \"Boxplot of windmill_generated_power\""
      ]
     },
     "metadata": {},
     "output_type": "display_data"
    }
   ],
   "source": [
    "for (i in names(df_train[,c(3,4,5,6,7,8,9,10,11,12,13,14,15,16,19,20,21,22)])) \n",
    "  {\n",
    "   par(mfrow = c(2, 1))\n",
    "   boxplot(df_train[,i] ~ df_train$cloud_level,\n",
    "        ylab = i,  xlab = \"cloud_level\", horizontal = F, notch = T,\n",
    "        main = paste(\"Boxplot of\", i, sep =\" \"),\n",
    "        col = \"blue\",\n",
    "        border = \"black\")\n",
    "    \n",
    "    boxplot(df_train[,i]~ df_train$turbine_status,\n",
    "        ylab = i,  xlab = \"turbine_status\", horizontal = F, notch = T,\n",
    "        main = paste(\"Boxplot of\", i, sep =\" \"),\n",
    "        col = \"orange\",\n",
    "        border = \"black\")\n",
    "  }"
   ]
  },
  {
   "cell_type": "markdown",
   "id": "27249972",
   "metadata": {},
   "source": [
    "Few observations from Side by side boxplots:\n",
    "- Median of motor_torque is comparatively less when cloud_level is Extremely Low. \n",
    "- Median of windmill_generated_power is comparatively less when cloud_level is Extremely Low.\n",
    "- Median of blade_bredth is comparatively less when cloud_level is Extremely Low, but this logically is not very useful information as cloud level cannot change the blade_bredth.\n",
    "- Median of blade_angle is comparatively high when cloud_level is Extremely Low, but this logically is not very useful information as cloud level cannot change the blade_angle.\n",
    "- The difference in distribution for extremely low cloud level can be due to very few number of observations available for extremely low cloud level.\n",
    "- We will be removing turbine status column from our training data as we could not find any description with regards to its different values and also it has no effect on the of windmill power generated as seen in the side by side box plots."
   ]
  },
  {
   "cell_type": "code",
   "execution_count": 30,
   "id": "f72ae196",
   "metadata": {
    "vscode": {
     "languageId": "r"
    }
   },
   "outputs": [
    {
     "data": {
      "text/html": [
       "3194"
      ],
      "text/latex": [
       "3194"
      ],
      "text/markdown": [
       "3194"
      ],
      "text/plain": [
       "[1] 3194"
      ]
     },
     "metadata": {},
     "output_type": "display_data"
    },
    {
     "data": {
      "text/html": [
       "2712"
      ],
      "text/latex": [
       "2712"
      ],
      "text/markdown": [
       "2712"
      ],
      "text/plain": [
       "[1] 2712"
      ]
     },
     "metadata": {},
     "output_type": "display_data"
    }
   ],
   "source": [
    "nrow(df_train[df_train$atmospheric_temperature == -99.00,]) - nrow(df_train[is.na(df_train$atmospheric_temperature),])\n",
    "nrow(df_train[is.na(df_train$atmospheric_temperature),])"
   ]
  },
  {
   "cell_type": "code",
   "execution_count": 31,
   "id": "7c2f6df9",
   "metadata": {
    "vscode": {
     "languageId": "r"
    }
   },
   "outputs": [
    {
     "data": {
      "text/html": [
       "0"
      ],
      "text/latex": [
       "0"
      ],
      "text/markdown": [
       "0"
      ],
      "text/plain": [
       "[1] 0"
      ]
     },
     "metadata": {},
     "output_type": "display_data"
    }
   ],
   "source": [
    "#replacing the null values with -99\n",
    "df_train$atmospheric_temperature[is.na(df_train$atmospheric_temperature)] = -99.00\n",
    "sum(is.na(df_train$atmospheric_temperature))"
   ]
  },
  {
   "cell_type": "code",
   "execution_count": 32,
   "id": "af3ef58b",
   "metadata": {
    "vscode": {
     "languageId": "r"
    }
   },
   "outputs": [
    {
     "data": {
      "text/html": [
       "0.413800225246824"
      ],
      "text/latex": [
       "0.413800225246824"
      ],
      "text/markdown": [
       "0.413800225246824"
      ],
      "text/plain": [
       "[1] 0.4138002"
      ]
     },
     "metadata": {},
     "output_type": "display_data"
    },
    {
     "data": {
      "text/html": [
       "<table>\n",
       "<thead><tr><th></th><th scope=col>speed_wind</th><th scope=col>atmospheric_temperature</th><th scope=col>shaft_temperature</th><th scope=col>blades_angle</th><th scope=col>gearbox_temperature</th><th scope=col>engine_temperature</th><th scope=col>motor_torque</th><th scope=col>generator_temperature</th><th scope=col>atmospheric_pressure</th><th scope=col>area_temperature</th><th scope=col>body_temperature_windmill</th><th scope=col>direction_wind</th><th scope=col>resistance</th><th scope=col>rotor_torque</th><th scope=col>blade_length</th><th scope=col>blade_breadth</th><th scope=col>height_windmill</th><th scope=col>windmill_generated_power</th></tr></thead>\n",
       "<tbody>\n",
       "\t<tr><th scope=row>speed_wind</th><td> 1.000</td><td> 0.298</td><td> 0.033</td><td>-0.002</td><td> 0.017</td><td> 0.148</td><td> 0.378</td><td> 0.431</td><td>-0.133</td><td> 0.213</td><td> 0.026</td><td> 0.046</td><td> 0.231</td><td> 0.153</td><td>-0.010</td><td> 0.008</td><td>-0.013</td><td> 0.065</td></tr>\n",
       "\t<tr><th scope=row>atmospheric_temperature</th><td> 0.298</td><td> 1.000</td><td> 0.062</td><td> 0.035</td><td> 0.036</td><td> 0.327</td><td> 0.497</td><td> 0.615</td><td>-0.168</td><td> 0.437</td><td> 0.062</td><td> 0.022</td><td> 0.303</td><td> 0.203</td><td>-0.007</td><td> 0.012</td><td>-0.012</td><td> 0.003</td></tr>\n",
       "\t<tr><th scope=row>shaft_temperature</th><td> 0.033</td><td> 0.062</td><td> 1.000</td><td>-0.023</td><td> 0.040</td><td> 0.223</td><td> 0.070</td><td> 0.072</td><td>-0.025</td><td> 0.078</td><td> 0.027</td><td> 0.026</td><td> 0.036</td><td> 0.028</td><td> 0.014</td><td> 0.005</td><td>-0.019</td><td> 0.041</td></tr>\n",
       "\t<tr><th scope=row>blades_angle</th><td>-0.002</td><td> 0.035</td><td>-0.023</td><td> 1.000</td><td>-0.026</td><td>-0.059</td><td>-0.152</td><td>-0.041</td><td>-0.006</td><td>-0.069</td><td>-0.004</td><td>-0.040</td><td>-0.035</td><td>-0.057</td><td>-0.017</td><td>-0.071</td><td>-0.002</td><td>-0.174</td></tr>\n",
       "\t<tr><th scope=row>gearbox_temperature</th><td> 0.017</td><td> 0.036</td><td> 0.040</td><td>-0.026</td><td> 1.000</td><td> 0.157</td><td> 0.056</td><td> 0.055</td><td>-0.007</td><td> 0.053</td><td> 0.017</td><td> 0.027</td><td> 0.024</td><td> 0.028</td><td>-0.019</td><td> 0.007</td><td> 0.021</td><td> 0.055</td></tr>\n",
       "\t<tr><th scope=row>engine_temperature</th><td> 0.148</td><td> 0.327</td><td> 0.223</td><td>-0.059</td><td> 0.157</td><td> 1.000</td><td> 0.358</td><td> 0.369</td><td>-0.080</td><td> 0.326</td><td> 0.096</td><td> 0.136</td><td> 0.202</td><td> 0.149</td><td>-0.015</td><td> 0.023</td><td>-0.016</td><td> 0.244</td></tr>\n",
       "\t<tr><th scope=row>motor_torque</th><td> 0.378</td><td> 0.497</td><td> 0.070</td><td>-0.152</td><td> 0.056</td><td> 0.358</td><td> 1.000</td><td> 0.927</td><td>-0.227</td><td> 0.472</td><td> 0.031</td><td> 0.217</td><td> 0.489</td><td> 0.404</td><td>-0.001</td><td> 0.069</td><td>-0.002</td><td> 0.517</td></tr>\n",
       "\t<tr><th scope=row>generator_temperature</th><td> 0.431</td><td> 0.615</td><td> 0.072</td><td>-0.041</td><td> 0.055</td><td> 0.369</td><td> 0.927</td><td> 1.000</td><td>-0.253</td><td> 0.523</td><td> 0.038</td><td> 0.208</td><td> 0.519</td><td> 0.383</td><td>-0.005</td><td> 0.029</td><td>-0.006</td><td> 0.384</td></tr>\n",
       "\t<tr><th scope=row>atmospheric_pressure</th><td>-0.133</td><td>-0.168</td><td>-0.025</td><td>-0.006</td><td>-0.007</td><td>-0.080</td><td>-0.227</td><td>-0.253</td><td> 1.000</td><td>-0.094</td><td>-0.014</td><td>-0.020</td><td>-0.139</td><td>-0.111</td><td> 0.006</td><td>-0.011</td><td> 0.005</td><td>-0.019</td></tr>\n",
       "\t<tr><th scope=row>area_temperature</th><td> 0.213</td><td> 0.437</td><td> 0.078</td><td>-0.069</td><td> 0.053</td><td> 0.326</td><td> 0.472</td><td> 0.523</td><td>-0.094</td><td> 1.000</td><td> 0.053</td><td> 0.195</td><td> 0.255</td><td> 0.198</td><td>-0.006</td><td> 0.038</td><td>-0.009</td><td> 0.338</td></tr>\n",
       "\t<tr><th scope=row>body_temperature_windmill</th><td> 0.026</td><td> 0.062</td><td> 0.027</td><td>-0.004</td><td> 0.017</td><td> 0.096</td><td> 0.031</td><td> 0.038</td><td>-0.014</td><td> 0.053</td><td> 1.000</td><td> 0.011</td><td> 0.024</td><td> 0.003</td><td>-0.019</td><td> 0.012</td><td> 0.009</td><td> 0.004</td></tr>\n",
       "\t<tr><th scope=row>direction_wind</th><td> 0.046</td><td> 0.022</td><td> 0.026</td><td>-0.040</td><td> 0.027</td><td> 0.136</td><td> 0.217</td><td> 0.208</td><td>-0.020</td><td> 0.195</td><td> 0.011</td><td> 1.000</td><td> 0.091</td><td> 0.087</td><td> 0.021</td><td> 0.022</td><td> 0.005</td><td> 0.378</td></tr>\n",
       "\t<tr><th scope=row>resistance</th><td> 0.231</td><td> 0.303</td><td> 0.036</td><td>-0.035</td><td> 0.024</td><td> 0.202</td><td> 0.489</td><td> 0.519</td><td>-0.139</td><td> 0.255</td><td> 0.024</td><td> 0.091</td><td> 1.000</td><td> 0.195</td><td>-0.005</td><td> 0.008</td><td> 0.007</td><td> 0.221</td></tr>\n",
       "\t<tr><th scope=row>rotor_torque</th><td> 0.153</td><td> 0.203</td><td> 0.028</td><td>-0.057</td><td> 0.028</td><td> 0.149</td><td> 0.404</td><td> 0.383</td><td>-0.111</td><td> 0.198</td><td> 0.003</td><td> 0.087</td><td> 0.195</td><td> 1.000</td><td>-0.003</td><td> 0.039</td><td> 0.007</td><td> 0.205</td></tr>\n",
       "\t<tr><th scope=row>blade_length</th><td>-0.010</td><td>-0.007</td><td> 0.014</td><td>-0.017</td><td>-0.019</td><td>-0.015</td><td>-0.001</td><td>-0.005</td><td> 0.006</td><td>-0.006</td><td>-0.019</td><td> 0.021</td><td>-0.005</td><td>-0.003</td><td> 1.000</td><td> 0.009</td><td> 0.027</td><td> 0.021</td></tr>\n",
       "\t<tr><th scope=row>blade_breadth</th><td> 0.008</td><td> 0.012</td><td> 0.005</td><td>-0.071</td><td> 0.007</td><td> 0.023</td><td> 0.069</td><td> 0.029</td><td>-0.011</td><td> 0.038</td><td> 0.012</td><td> 0.022</td><td> 0.008</td><td> 0.039</td><td> 0.009</td><td> 1.000</td><td> 0.034</td><td> 0.096</td></tr>\n",
       "\t<tr><th scope=row>height_windmill</th><td>-0.013</td><td>-0.012</td><td>-0.019</td><td>-0.002</td><td> 0.021</td><td>-0.016</td><td>-0.002</td><td>-0.006</td><td> 0.005</td><td>-0.009</td><td> 0.009</td><td> 0.005</td><td> 0.007</td><td> 0.007</td><td> 0.027</td><td> 0.034</td><td> 1.000</td><td> 0.006</td></tr>\n",
       "\t<tr><th scope=row>windmill_generated_power</th><td> 0.065</td><td> 0.003</td><td> 0.041</td><td>-0.174</td><td> 0.055</td><td> 0.244</td><td> 0.517</td><td> 0.384</td><td>-0.019</td><td> 0.338</td><td> 0.004</td><td> 0.378</td><td> 0.221</td><td> 0.205</td><td> 0.021</td><td> 0.096</td><td> 0.006</td><td> 1.000</td></tr>\n",
       "</tbody>\n",
       "</table>\n"
      ],
      "text/latex": [
       "\\begin{tabular}{r|llllllllllllllllll}\n",
       "  & speed\\_wind & atmospheric\\_temperature & shaft\\_temperature & blades\\_angle & gearbox\\_temperature & engine\\_temperature & motor\\_torque & generator\\_temperature & atmospheric\\_pressure & area\\_temperature & body\\_temperature\\_windmill & direction\\_wind & resistance & rotor\\_torque & blade\\_length & blade\\_breadth & height\\_windmill & windmill\\_generated\\_power\\\\\n",
       "\\hline\n",
       "\tspeed\\_wind &  1.000 &  0.298 &  0.033 & -0.002 &  0.017 &  0.148 &  0.378 &  0.431 & -0.133 &  0.213 &  0.026 &  0.046 &  0.231 &  0.153 & -0.010 &  0.008 & -0.013 &  0.065\\\\\n",
       "\tatmospheric\\_temperature &  0.298 &  1.000 &  0.062 &  0.035 &  0.036 &  0.327 &  0.497 &  0.615 & -0.168 &  0.437 &  0.062 &  0.022 &  0.303 &  0.203 & -0.007 &  0.012 & -0.012 &  0.003\\\\\n",
       "\tshaft\\_temperature &  0.033 &  0.062 &  1.000 & -0.023 &  0.040 &  0.223 &  0.070 &  0.072 & -0.025 &  0.078 &  0.027 &  0.026 &  0.036 &  0.028 &  0.014 &  0.005 & -0.019 &  0.041\\\\\n",
       "\tblades\\_angle & -0.002 &  0.035 & -0.023 &  1.000 & -0.026 & -0.059 & -0.152 & -0.041 & -0.006 & -0.069 & -0.004 & -0.040 & -0.035 & -0.057 & -0.017 & -0.071 & -0.002 & -0.174\\\\\n",
       "\tgearbox\\_temperature &  0.017 &  0.036 &  0.040 & -0.026 &  1.000 &  0.157 &  0.056 &  0.055 & -0.007 &  0.053 &  0.017 &  0.027 &  0.024 &  0.028 & -0.019 &  0.007 &  0.021 &  0.055\\\\\n",
       "\tengine\\_temperature &  0.148 &  0.327 &  0.223 & -0.059 &  0.157 &  1.000 &  0.358 &  0.369 & -0.080 &  0.326 &  0.096 &  0.136 &  0.202 &  0.149 & -0.015 &  0.023 & -0.016 &  0.244\\\\\n",
       "\tmotor\\_torque &  0.378 &  0.497 &  0.070 & -0.152 &  0.056 &  0.358 &  1.000 &  0.927 & -0.227 &  0.472 &  0.031 &  0.217 &  0.489 &  0.404 & -0.001 &  0.069 & -0.002 &  0.517\\\\\n",
       "\tgenerator\\_temperature &  0.431 &  0.615 &  0.072 & -0.041 &  0.055 &  0.369 &  0.927 &  1.000 & -0.253 &  0.523 &  0.038 &  0.208 &  0.519 &  0.383 & -0.005 &  0.029 & -0.006 &  0.384\\\\\n",
       "\tatmospheric\\_pressure & -0.133 & -0.168 & -0.025 & -0.006 & -0.007 & -0.080 & -0.227 & -0.253 &  1.000 & -0.094 & -0.014 & -0.020 & -0.139 & -0.111 &  0.006 & -0.011 &  0.005 & -0.019\\\\\n",
       "\tarea\\_temperature &  0.213 &  0.437 &  0.078 & -0.069 &  0.053 &  0.326 &  0.472 &  0.523 & -0.094 &  1.000 &  0.053 &  0.195 &  0.255 &  0.198 & -0.006 &  0.038 & -0.009 &  0.338\\\\\n",
       "\tbody\\_temperature\\_windmill &  0.026 &  0.062 &  0.027 & -0.004 &  0.017 &  0.096 &  0.031 &  0.038 & -0.014 &  0.053 &  1.000 &  0.011 &  0.024 &  0.003 & -0.019 &  0.012 &  0.009 &  0.004\\\\\n",
       "\tdirection\\_wind &  0.046 &  0.022 &  0.026 & -0.040 &  0.027 &  0.136 &  0.217 &  0.208 & -0.020 &  0.195 &  0.011 &  1.000 &  0.091 &  0.087 &  0.021 &  0.022 &  0.005 &  0.378\\\\\n",
       "\tresistance &  0.231 &  0.303 &  0.036 & -0.035 &  0.024 &  0.202 &  0.489 &  0.519 & -0.139 &  0.255 &  0.024 &  0.091 &  1.000 &  0.195 & -0.005 &  0.008 &  0.007 &  0.221\\\\\n",
       "\trotor\\_torque &  0.153 &  0.203 &  0.028 & -0.057 &  0.028 &  0.149 &  0.404 &  0.383 & -0.111 &  0.198 &  0.003 &  0.087 &  0.195 &  1.000 & -0.003 &  0.039 &  0.007 &  0.205\\\\\n",
       "\tblade\\_length & -0.010 & -0.007 &  0.014 & -0.017 & -0.019 & -0.015 & -0.001 & -0.005 &  0.006 & -0.006 & -0.019 &  0.021 & -0.005 & -0.003 &  1.000 &  0.009 &  0.027 &  0.021\\\\\n",
       "\tblade\\_breadth &  0.008 &  0.012 &  0.005 & -0.071 &  0.007 &  0.023 &  0.069 &  0.029 & -0.011 &  0.038 &  0.012 &  0.022 &  0.008 &  0.039 &  0.009 &  1.000 &  0.034 &  0.096\\\\\n",
       "\theight\\_windmill & -0.013 & -0.012 & -0.019 & -0.002 &  0.021 & -0.016 & -0.002 & -0.006 &  0.005 & -0.009 &  0.009 &  0.005 &  0.007 &  0.007 &  0.027 &  0.034 &  1.000 &  0.006\\\\\n",
       "\twindmill\\_generated\\_power &  0.065 &  0.003 &  0.041 & -0.174 &  0.055 &  0.244 &  0.517 &  0.384 & -0.019 &  0.338 &  0.004 &  0.378 &  0.221 &  0.205 &  0.021 &  0.096 &  0.006 &  1.000\\\\\n",
       "\\end{tabular}\n"
      ],
      "text/markdown": [
       "\n",
       "| <!--/--> | speed_wind | atmospheric_temperature | shaft_temperature | blades_angle | gearbox_temperature | engine_temperature | motor_torque | generator_temperature | atmospheric_pressure | area_temperature | body_temperature_windmill | direction_wind | resistance | rotor_torque | blade_length | blade_breadth | height_windmill | windmill_generated_power |\n",
       "|---|---|---|---|---|---|---|---|---|---|---|---|---|---|---|---|---|---|---|\n",
       "| speed_wind |  1.000 |  0.298 |  0.033 | -0.002 |  0.017 |  0.148 |  0.378 |  0.431 | -0.133 |  0.213 |  0.026 |  0.046 |  0.231 |  0.153 | -0.010 |  0.008 | -0.013 |  0.065 |\n",
       "| atmospheric_temperature |  0.298 |  1.000 |  0.062 |  0.035 |  0.036 |  0.327 |  0.497 |  0.615 | -0.168 |  0.437 |  0.062 |  0.022 |  0.303 |  0.203 | -0.007 |  0.012 | -0.012 |  0.003 |\n",
       "| shaft_temperature |  0.033 |  0.062 |  1.000 | -0.023 |  0.040 |  0.223 |  0.070 |  0.072 | -0.025 |  0.078 |  0.027 |  0.026 |  0.036 |  0.028 |  0.014 |  0.005 | -0.019 |  0.041 |\n",
       "| blades_angle | -0.002 |  0.035 | -0.023 |  1.000 | -0.026 | -0.059 | -0.152 | -0.041 | -0.006 | -0.069 | -0.004 | -0.040 | -0.035 | -0.057 | -0.017 | -0.071 | -0.002 | -0.174 |\n",
       "| gearbox_temperature |  0.017 |  0.036 |  0.040 | -0.026 |  1.000 |  0.157 |  0.056 |  0.055 | -0.007 |  0.053 |  0.017 |  0.027 |  0.024 |  0.028 | -0.019 |  0.007 |  0.021 |  0.055 |\n",
       "| engine_temperature |  0.148 |  0.327 |  0.223 | -0.059 |  0.157 |  1.000 |  0.358 |  0.369 | -0.080 |  0.326 |  0.096 |  0.136 |  0.202 |  0.149 | -0.015 |  0.023 | -0.016 |  0.244 |\n",
       "| motor_torque |  0.378 |  0.497 |  0.070 | -0.152 |  0.056 |  0.358 |  1.000 |  0.927 | -0.227 |  0.472 |  0.031 |  0.217 |  0.489 |  0.404 | -0.001 |  0.069 | -0.002 |  0.517 |\n",
       "| generator_temperature |  0.431 |  0.615 |  0.072 | -0.041 |  0.055 |  0.369 |  0.927 |  1.000 | -0.253 |  0.523 |  0.038 |  0.208 |  0.519 |  0.383 | -0.005 |  0.029 | -0.006 |  0.384 |\n",
       "| atmospheric_pressure | -0.133 | -0.168 | -0.025 | -0.006 | -0.007 | -0.080 | -0.227 | -0.253 |  1.000 | -0.094 | -0.014 | -0.020 | -0.139 | -0.111 |  0.006 | -0.011 |  0.005 | -0.019 |\n",
       "| area_temperature |  0.213 |  0.437 |  0.078 | -0.069 |  0.053 |  0.326 |  0.472 |  0.523 | -0.094 |  1.000 |  0.053 |  0.195 |  0.255 |  0.198 | -0.006 |  0.038 | -0.009 |  0.338 |\n",
       "| body_temperature_windmill |  0.026 |  0.062 |  0.027 | -0.004 |  0.017 |  0.096 |  0.031 |  0.038 | -0.014 |  0.053 |  1.000 |  0.011 |  0.024 |  0.003 | -0.019 |  0.012 |  0.009 |  0.004 |\n",
       "| direction_wind |  0.046 |  0.022 |  0.026 | -0.040 |  0.027 |  0.136 |  0.217 |  0.208 | -0.020 |  0.195 |  0.011 |  1.000 |  0.091 |  0.087 |  0.021 |  0.022 |  0.005 |  0.378 |\n",
       "| resistance |  0.231 |  0.303 |  0.036 | -0.035 |  0.024 |  0.202 |  0.489 |  0.519 | -0.139 |  0.255 |  0.024 |  0.091 |  1.000 |  0.195 | -0.005 |  0.008 |  0.007 |  0.221 |\n",
       "| rotor_torque |  0.153 |  0.203 |  0.028 | -0.057 |  0.028 |  0.149 |  0.404 |  0.383 | -0.111 |  0.198 |  0.003 |  0.087 |  0.195 |  1.000 | -0.003 |  0.039 |  0.007 |  0.205 |\n",
       "| blade_length | -0.010 | -0.007 |  0.014 | -0.017 | -0.019 | -0.015 | -0.001 | -0.005 |  0.006 | -0.006 | -0.019 |  0.021 | -0.005 | -0.003 |  1.000 |  0.009 |  0.027 |  0.021 |\n",
       "| blade_breadth |  0.008 |  0.012 |  0.005 | -0.071 |  0.007 |  0.023 |  0.069 |  0.029 | -0.011 |  0.038 |  0.012 |  0.022 |  0.008 |  0.039 |  0.009 |  1.000 |  0.034 |  0.096 |\n",
       "| height_windmill | -0.013 | -0.012 | -0.019 | -0.002 |  0.021 | -0.016 | -0.002 | -0.006 |  0.005 | -0.009 |  0.009 |  0.005 |  0.007 |  0.007 |  0.027 |  0.034 |  1.000 |  0.006 |\n",
       "| windmill_generated_power |  0.065 |  0.003 |  0.041 | -0.174 |  0.055 |  0.244 |  0.517 |  0.384 | -0.019 |  0.338 |  0.004 |  0.378 |  0.221 |  0.205 |  0.021 |  0.096 |  0.006 |  1.000 |\n",
       "\n"
      ],
      "text/plain": [
       "                          speed_wind atmospheric_temperature shaft_temperature\n",
       "speed_wind                 1.000      0.298                   0.033           \n",
       "atmospheric_temperature    0.298      1.000                   0.062           \n",
       "shaft_temperature          0.033      0.062                   1.000           \n",
       "blades_angle              -0.002      0.035                  -0.023           \n",
       "gearbox_temperature        0.017      0.036                   0.040           \n",
       "engine_temperature         0.148      0.327                   0.223           \n",
       "motor_torque               0.378      0.497                   0.070           \n",
       "generator_temperature      0.431      0.615                   0.072           \n",
       "atmospheric_pressure      -0.133     -0.168                  -0.025           \n",
       "area_temperature           0.213      0.437                   0.078           \n",
       "body_temperature_windmill  0.026      0.062                   0.027           \n",
       "direction_wind             0.046      0.022                   0.026           \n",
       "resistance                 0.231      0.303                   0.036           \n",
       "rotor_torque               0.153      0.203                   0.028           \n",
       "blade_length              -0.010     -0.007                   0.014           \n",
       "blade_breadth              0.008      0.012                   0.005           \n",
       "height_windmill           -0.013     -0.012                  -0.019           \n",
       "windmill_generated_power   0.065      0.003                   0.041           \n",
       "                          blades_angle gearbox_temperature engine_temperature\n",
       "speed_wind                -0.002        0.017               0.148            \n",
       "atmospheric_temperature    0.035        0.036               0.327            \n",
       "shaft_temperature         -0.023        0.040               0.223            \n",
       "blades_angle               1.000       -0.026              -0.059            \n",
       "gearbox_temperature       -0.026        1.000               0.157            \n",
       "engine_temperature        -0.059        0.157               1.000            \n",
       "motor_torque              -0.152        0.056               0.358            \n",
       "generator_temperature     -0.041        0.055               0.369            \n",
       "atmospheric_pressure      -0.006       -0.007              -0.080            \n",
       "area_temperature          -0.069        0.053               0.326            \n",
       "body_temperature_windmill -0.004        0.017               0.096            \n",
       "direction_wind            -0.040        0.027               0.136            \n",
       "resistance                -0.035        0.024               0.202            \n",
       "rotor_torque              -0.057        0.028               0.149            \n",
       "blade_length              -0.017       -0.019              -0.015            \n",
       "blade_breadth             -0.071        0.007               0.023            \n",
       "height_windmill           -0.002        0.021              -0.016            \n",
       "windmill_generated_power  -0.174        0.055               0.244            \n",
       "                          motor_torque generator_temperature\n",
       "speed_wind                 0.378        0.431               \n",
       "atmospheric_temperature    0.497        0.615               \n",
       "shaft_temperature          0.070        0.072               \n",
       "blades_angle              -0.152       -0.041               \n",
       "gearbox_temperature        0.056        0.055               \n",
       "engine_temperature         0.358        0.369               \n",
       "motor_torque               1.000        0.927               \n",
       "generator_temperature      0.927        1.000               \n",
       "atmospheric_pressure      -0.227       -0.253               \n",
       "area_temperature           0.472        0.523               \n",
       "body_temperature_windmill  0.031        0.038               \n",
       "direction_wind             0.217        0.208               \n",
       "resistance                 0.489        0.519               \n",
       "rotor_torque               0.404        0.383               \n",
       "blade_length              -0.001       -0.005               \n",
       "blade_breadth              0.069        0.029               \n",
       "height_windmill           -0.002       -0.006               \n",
       "windmill_generated_power   0.517        0.384               \n",
       "                          atmospheric_pressure area_temperature\n",
       "speed_wind                -0.133                0.213          \n",
       "atmospheric_temperature   -0.168                0.437          \n",
       "shaft_temperature         -0.025                0.078          \n",
       "blades_angle              -0.006               -0.069          \n",
       "gearbox_temperature       -0.007                0.053          \n",
       "engine_temperature        -0.080                0.326          \n",
       "motor_torque              -0.227                0.472          \n",
       "generator_temperature     -0.253                0.523          \n",
       "atmospheric_pressure       1.000               -0.094          \n",
       "area_temperature          -0.094                1.000          \n",
       "body_temperature_windmill -0.014                0.053          \n",
       "direction_wind            -0.020                0.195          \n",
       "resistance                -0.139                0.255          \n",
       "rotor_torque              -0.111                0.198          \n",
       "blade_length               0.006               -0.006          \n",
       "blade_breadth             -0.011                0.038          \n",
       "height_windmill            0.005               -0.009          \n",
       "windmill_generated_power  -0.019                0.338          \n",
       "                          body_temperature_windmill direction_wind resistance\n",
       "speed_wind                 0.026                     0.046          0.231    \n",
       "atmospheric_temperature    0.062                     0.022          0.303    \n",
       "shaft_temperature          0.027                     0.026          0.036    \n",
       "blades_angle              -0.004                    -0.040         -0.035    \n",
       "gearbox_temperature        0.017                     0.027          0.024    \n",
       "engine_temperature         0.096                     0.136          0.202    \n",
       "motor_torque               0.031                     0.217          0.489    \n",
       "generator_temperature      0.038                     0.208          0.519    \n",
       "atmospheric_pressure      -0.014                    -0.020         -0.139    \n",
       "area_temperature           0.053                     0.195          0.255    \n",
       "body_temperature_windmill  1.000                     0.011          0.024    \n",
       "direction_wind             0.011                     1.000          0.091    \n",
       "resistance                 0.024                     0.091          1.000    \n",
       "rotor_torque               0.003                     0.087          0.195    \n",
       "blade_length              -0.019                     0.021         -0.005    \n",
       "blade_breadth              0.012                     0.022          0.008    \n",
       "height_windmill            0.009                     0.005          0.007    \n",
       "windmill_generated_power   0.004                     0.378          0.221    \n",
       "                          rotor_torque blade_length blade_breadth\n",
       "speed_wind                 0.153       -0.010        0.008       \n",
       "atmospheric_temperature    0.203       -0.007        0.012       \n",
       "shaft_temperature          0.028        0.014        0.005       \n",
       "blades_angle              -0.057       -0.017       -0.071       \n",
       "gearbox_temperature        0.028       -0.019        0.007       \n",
       "engine_temperature         0.149       -0.015        0.023       \n",
       "motor_torque               0.404       -0.001        0.069       \n",
       "generator_temperature      0.383       -0.005        0.029       \n",
       "atmospheric_pressure      -0.111        0.006       -0.011       \n",
       "area_temperature           0.198       -0.006        0.038       \n",
       "body_temperature_windmill  0.003       -0.019        0.012       \n",
       "direction_wind             0.087        0.021        0.022       \n",
       "resistance                 0.195       -0.005        0.008       \n",
       "rotor_torque               1.000       -0.003        0.039       \n",
       "blade_length              -0.003        1.000        0.009       \n",
       "blade_breadth              0.039        0.009        1.000       \n",
       "height_windmill            0.007        0.027        0.034       \n",
       "windmill_generated_power   0.205        0.021        0.096       \n",
       "                          height_windmill windmill_generated_power\n",
       "speed_wind                -0.013           0.065                  \n",
       "atmospheric_temperature   -0.012           0.003                  \n",
       "shaft_temperature         -0.019           0.041                  \n",
       "blades_angle              -0.002          -0.174                  \n",
       "gearbox_temperature        0.021           0.055                  \n",
       "engine_temperature        -0.016           0.244                  \n",
       "motor_torque              -0.002           0.517                  \n",
       "generator_temperature     -0.006           0.384                  \n",
       "atmospheric_pressure       0.005          -0.019                  \n",
       "area_temperature          -0.009           0.338                  \n",
       "body_temperature_windmill  0.009           0.004                  \n",
       "direction_wind             0.005           0.378                  \n",
       "resistance                 0.007           0.221                  \n",
       "rotor_torque               0.007           0.205                  \n",
       "blade_length               0.027           0.021                  \n",
       "blade_breadth              0.034           0.096                  \n",
       "height_windmill            1.000           0.006                  \n",
       "windmill_generated_power   0.006           1.000                  "
      ]
     },
     "metadata": {},
     "output_type": "display_data"
    }
   ],
   "source": [
    "df_train_1 = subset(df_train, atmospheric_temperature > -99) #null values -99 removed\n",
    "cor(df_train_1$atmospheric_temperature, df_train_1$area_temperature)\n",
    "round(cor(df_train_1[,c(3,4,5,6,7,8,9,10,11,12,13,14,15,16,19,20,21,22)], use = \"complete.obs\"),3)"
   ]
  },
  {
   "cell_type": "markdown",
   "id": "d0b12928",
   "metadata": {},
   "source": [
    "- generator_temperature, area_temperature wil be used in KNN to do missing value imputation of atmospheric_temperature as they have high correlation."
   ]
  },
  {
   "cell_type": "code",
   "execution_count": 33,
   "id": "de796ce4",
   "metadata": {
    "vscode": {
     "languageId": "r"
    }
   },
   "outputs": [
    {
     "data": {
      "text/html": [
       "0"
      ],
      "text/latex": [
       "0"
      ],
      "text/markdown": [
       "0"
      ],
      "text/plain": [
       "[1] 0"
      ]
     },
     "metadata": {},
     "output_type": "display_data"
    },
    {
     "data": {
      "text/html": [
       "<table>\n",
       "<thead><tr><th></th><th scope=col>speed_wind</th><th scope=col>atmospheric_temperature</th><th scope=col>shaft_temperature</th><th scope=col>blades_angle</th><th scope=col>gearbox_temperature</th><th scope=col>engine_temperature</th><th scope=col>motor_torque</th><th scope=col>generator_temperature</th><th scope=col>atmospheric_pressure</th><th scope=col>area_temperature</th><th scope=col>body_temperature_windmill</th><th scope=col>direction_wind</th><th scope=col>resistance</th><th scope=col>rotor_torque</th><th scope=col>blade_length</th><th scope=col>blade_breadth</th><th scope=col>height_windmill</th><th scope=col>windmill_generated_power</th></tr></thead>\n",
       "<tbody>\n",
       "\t<tr><th scope=row>speed_wind</th><td> 1.000</td><td> 0.040</td><td> 0.044</td><td> 0.003</td><td> 0.014</td><td> 0.161</td><td> 0.375</td><td> 0.430</td><td>-0.130</td><td> 0.216</td><td> 0.029</td><td> 0.045</td><td> 0.222</td><td> 0.150</td><td> 0.019</td><td> 0.001</td><td>-0.015</td><td> 0.059</td></tr>\n",
       "\t<tr><th scope=row>atmospheric_temperature</th><td> 0.040</td><td> 1.000</td><td> 0.007</td><td>-0.001</td><td>-0.008</td><td> 0.039</td><td> 0.053</td><td> 0.070</td><td>-0.017</td><td> 0.057</td><td> 0.004</td><td> 0.008</td><td> 0.016</td><td> 0.031</td><td> 0.022</td><td>-0.004</td><td> 0.001</td><td> 0.008</td></tr>\n",
       "\t<tr><th scope=row>shaft_temperature</th><td> 0.044</td><td> 0.007</td><td> 1.000</td><td>-0.024</td><td> 0.041</td><td> 0.221</td><td> 0.075</td><td> 0.078</td><td>-0.025</td><td> 0.081</td><td> 0.029</td><td> 0.027</td><td> 0.039</td><td> 0.031</td><td> 0.011</td><td> 0.006</td><td>-0.018</td><td> 0.041</td></tr>\n",
       "\t<tr><th scope=row>blades_angle</th><td> 0.003</td><td>-0.001</td><td>-0.024</td><td> 1.000</td><td>-0.031</td><td>-0.068</td><td>-0.149</td><td>-0.037</td><td>-0.001</td><td>-0.079</td><td>-0.009</td><td>-0.034</td><td>-0.029</td><td>-0.055</td><td>-0.043</td><td>-0.070</td><td>-0.002</td><td>-0.170</td></tr>\n",
       "\t<tr><th scope=row>gearbox_temperature</th><td> 0.014</td><td>-0.008</td><td> 0.041</td><td>-0.031</td><td> 1.000</td><td> 0.150</td><td> 0.048</td><td> 0.046</td><td>-0.007</td><td> 0.052</td><td> 0.012</td><td> 0.024</td><td> 0.021</td><td> 0.021</td><td> 0.017</td><td> 0.018</td><td> 0.020</td><td> 0.061</td></tr>\n",
       "\t<tr><th scope=row>engine_temperature</th><td> 0.161</td><td> 0.039</td><td> 0.221</td><td>-0.068</td><td> 0.150</td><td> 1.000</td><td> 0.359</td><td> 0.369</td><td>-0.071</td><td> 0.325</td><td> 0.096</td><td> 0.136</td><td> 0.202</td><td> 0.144</td><td> 0.010</td><td> 0.017</td><td>-0.018</td><td> 0.244</td></tr>\n",
       "\t<tr><th scope=row>motor_torque</th><td> 0.375</td><td> 0.053</td><td> 0.075</td><td>-0.149</td><td> 0.048</td><td> 0.359</td><td> 1.000</td><td> 0.925</td><td>-0.215</td><td> 0.476</td><td> 0.030</td><td> 0.214</td><td> 0.485</td><td> 0.399</td><td> 0.034</td><td> 0.063</td><td>-0.017</td><td> 0.519</td></tr>\n",
       "\t<tr><th scope=row>generator_temperature</th><td> 0.430</td><td> 0.070</td><td> 0.078</td><td>-0.037</td><td> 0.046</td><td> 0.369</td><td> 0.925</td><td> 1.000</td><td>-0.242</td><td> 0.527</td><td> 0.038</td><td> 0.208</td><td> 0.517</td><td> 0.377</td><td> 0.021</td><td> 0.017</td><td>-0.019</td><td> 0.382</td></tr>\n",
       "\t<tr><th scope=row>atmospheric_pressure</th><td>-0.130</td><td>-0.017</td><td>-0.025</td><td>-0.001</td><td>-0.007</td><td>-0.071</td><td>-0.215</td><td>-0.242</td><td> 1.000</td><td>-0.088</td><td>-0.009</td><td>-0.025</td><td>-0.128</td><td>-0.101</td><td>-0.001</td><td>-0.002</td><td> 0.021</td><td>-0.009</td></tr>\n",
       "\t<tr><th scope=row>area_temperature</th><td> 0.216</td><td> 0.057</td><td> 0.081</td><td>-0.079</td><td> 0.052</td><td> 0.325</td><td> 0.476</td><td> 0.527</td><td>-0.088</td><td> 1.000</td><td> 0.053</td><td> 0.193</td><td> 0.258</td><td> 0.190</td><td> 0.019</td><td> 0.025</td><td>-0.014</td><td> 0.341</td></tr>\n",
       "\t<tr><th scope=row>body_temperature_windmill</th><td> 0.029</td><td> 0.004</td><td> 0.029</td><td>-0.009</td><td> 0.012</td><td> 0.096</td><td> 0.030</td><td> 0.038</td><td>-0.009</td><td> 0.053</td><td> 1.000</td><td> 0.011</td><td> 0.033</td><td> 0.015</td><td>-0.007</td><td> 0.004</td><td>-0.001</td><td> 0.001</td></tr>\n",
       "\t<tr><th scope=row>direction_wind</th><td> 0.045</td><td> 0.008</td><td> 0.027</td><td>-0.034</td><td> 0.024</td><td> 0.136</td><td> 0.214</td><td> 0.208</td><td>-0.025</td><td> 0.193</td><td> 0.011</td><td> 1.000</td><td> 0.094</td><td> 0.079</td><td> 0.019</td><td> 0.022</td><td> 0.000</td><td> 0.368</td></tr>\n",
       "\t<tr><th scope=row>resistance</th><td> 0.222</td><td> 0.016</td><td> 0.039</td><td>-0.029</td><td> 0.021</td><td> 0.202</td><td> 0.485</td><td> 0.517</td><td>-0.128</td><td> 0.258</td><td> 0.033</td><td> 0.094</td><td> 1.000</td><td> 0.185</td><td> 0.017</td><td> 0.001</td><td> 0.000</td><td> 0.220</td></tr>\n",
       "\t<tr><th scope=row>rotor_torque</th><td> 0.150</td><td> 0.031</td><td> 0.031</td><td>-0.055</td><td> 0.021</td><td> 0.144</td><td> 0.399</td><td> 0.377</td><td>-0.101</td><td> 0.190</td><td> 0.015</td><td> 0.079</td><td> 0.185</td><td> 1.000</td><td> 0.010</td><td> 0.039</td><td> 0.002</td><td> 0.197</td></tr>\n",
       "\t<tr><th scope=row>blade_length</th><td> 0.019</td><td> 0.022</td><td> 0.011</td><td>-0.043</td><td> 0.017</td><td> 0.010</td><td> 0.034</td><td> 0.021</td><td>-0.001</td><td> 0.019</td><td>-0.007</td><td> 0.019</td><td> 0.017</td><td> 0.010</td><td> 1.000</td><td> 0.061</td><td> 0.002</td><td> 0.054</td></tr>\n",
       "\t<tr><th scope=row>blade_breadth</th><td> 0.001</td><td>-0.004</td><td> 0.006</td><td>-0.070</td><td> 0.018</td><td> 0.017</td><td> 0.063</td><td> 0.017</td><td>-0.002</td><td> 0.025</td><td> 0.004</td><td> 0.022</td><td> 0.001</td><td> 0.039</td><td> 0.061</td><td> 1.000</td><td> 0.030</td><td> 0.104</td></tr>\n",
       "\t<tr><th scope=row>height_windmill</th><td>-0.015</td><td> 0.001</td><td>-0.018</td><td>-0.002</td><td> 0.020</td><td>-0.018</td><td>-0.017</td><td>-0.019</td><td> 0.021</td><td>-0.014</td><td>-0.001</td><td> 0.000</td><td> 0.000</td><td> 0.002</td><td> 0.002</td><td> 0.030</td><td> 1.000</td><td> 0.000</td></tr>\n",
       "\t<tr><th scope=row>windmill_generated_power</th><td> 0.059</td><td> 0.008</td><td> 0.041</td><td>-0.170</td><td> 0.061</td><td> 0.244</td><td> 0.519</td><td> 0.382</td><td>-0.009</td><td> 0.341</td><td> 0.001</td><td> 0.368</td><td> 0.220</td><td> 0.197</td><td> 0.054</td><td> 0.104</td><td> 0.000</td><td> 1.000</td></tr>\n",
       "</tbody>\n",
       "</table>\n"
      ],
      "text/latex": [
       "\\begin{tabular}{r|llllllllllllllllll}\n",
       "  & speed\\_wind & atmospheric\\_temperature & shaft\\_temperature & blades\\_angle & gearbox\\_temperature & engine\\_temperature & motor\\_torque & generator\\_temperature & atmospheric\\_pressure & area\\_temperature & body\\_temperature\\_windmill & direction\\_wind & resistance & rotor\\_torque & blade\\_length & blade\\_breadth & height\\_windmill & windmill\\_generated\\_power\\\\\n",
       "\\hline\n",
       "\tspeed\\_wind &  1.000 &  0.040 &  0.044 &  0.003 &  0.014 &  0.161 &  0.375 &  0.430 & -0.130 &  0.216 &  0.029 &  0.045 &  0.222 &  0.150 &  0.019 &  0.001 & -0.015 &  0.059\\\\\n",
       "\tatmospheric\\_temperature &  0.040 &  1.000 &  0.007 & -0.001 & -0.008 &  0.039 &  0.053 &  0.070 & -0.017 &  0.057 &  0.004 &  0.008 &  0.016 &  0.031 &  0.022 & -0.004 &  0.001 &  0.008\\\\\n",
       "\tshaft\\_temperature &  0.044 &  0.007 &  1.000 & -0.024 &  0.041 &  0.221 &  0.075 &  0.078 & -0.025 &  0.081 &  0.029 &  0.027 &  0.039 &  0.031 &  0.011 &  0.006 & -0.018 &  0.041\\\\\n",
       "\tblades\\_angle &  0.003 & -0.001 & -0.024 &  1.000 & -0.031 & -0.068 & -0.149 & -0.037 & -0.001 & -0.079 & -0.009 & -0.034 & -0.029 & -0.055 & -0.043 & -0.070 & -0.002 & -0.170\\\\\n",
       "\tgearbox\\_temperature &  0.014 & -0.008 &  0.041 & -0.031 &  1.000 &  0.150 &  0.048 &  0.046 & -0.007 &  0.052 &  0.012 &  0.024 &  0.021 &  0.021 &  0.017 &  0.018 &  0.020 &  0.061\\\\\n",
       "\tengine\\_temperature &  0.161 &  0.039 &  0.221 & -0.068 &  0.150 &  1.000 &  0.359 &  0.369 & -0.071 &  0.325 &  0.096 &  0.136 &  0.202 &  0.144 &  0.010 &  0.017 & -0.018 &  0.244\\\\\n",
       "\tmotor\\_torque &  0.375 &  0.053 &  0.075 & -0.149 &  0.048 &  0.359 &  1.000 &  0.925 & -0.215 &  0.476 &  0.030 &  0.214 &  0.485 &  0.399 &  0.034 &  0.063 & -0.017 &  0.519\\\\\n",
       "\tgenerator\\_temperature &  0.430 &  0.070 &  0.078 & -0.037 &  0.046 &  0.369 &  0.925 &  1.000 & -0.242 &  0.527 &  0.038 &  0.208 &  0.517 &  0.377 &  0.021 &  0.017 & -0.019 &  0.382\\\\\n",
       "\tatmospheric\\_pressure & -0.130 & -0.017 & -0.025 & -0.001 & -0.007 & -0.071 & -0.215 & -0.242 &  1.000 & -0.088 & -0.009 & -0.025 & -0.128 & -0.101 & -0.001 & -0.002 &  0.021 & -0.009\\\\\n",
       "\tarea\\_temperature &  0.216 &  0.057 &  0.081 & -0.079 &  0.052 &  0.325 &  0.476 &  0.527 & -0.088 &  1.000 &  0.053 &  0.193 &  0.258 &  0.190 &  0.019 &  0.025 & -0.014 &  0.341\\\\\n",
       "\tbody\\_temperature\\_windmill &  0.029 &  0.004 &  0.029 & -0.009 &  0.012 &  0.096 &  0.030 &  0.038 & -0.009 &  0.053 &  1.000 &  0.011 &  0.033 &  0.015 & -0.007 &  0.004 & -0.001 &  0.001\\\\\n",
       "\tdirection\\_wind &  0.045 &  0.008 &  0.027 & -0.034 &  0.024 &  0.136 &  0.214 &  0.208 & -0.025 &  0.193 &  0.011 &  1.000 &  0.094 &  0.079 &  0.019 &  0.022 &  0.000 &  0.368\\\\\n",
       "\tresistance &  0.222 &  0.016 &  0.039 & -0.029 &  0.021 &  0.202 &  0.485 &  0.517 & -0.128 &  0.258 &  0.033 &  0.094 &  1.000 &  0.185 &  0.017 &  0.001 &  0.000 &  0.220\\\\\n",
       "\trotor\\_torque &  0.150 &  0.031 &  0.031 & -0.055 &  0.021 &  0.144 &  0.399 &  0.377 & -0.101 &  0.190 &  0.015 &  0.079 &  0.185 &  1.000 &  0.010 &  0.039 &  0.002 &  0.197\\\\\n",
       "\tblade\\_length &  0.019 &  0.022 &  0.011 & -0.043 &  0.017 &  0.010 &  0.034 &  0.021 & -0.001 &  0.019 & -0.007 &  0.019 &  0.017 &  0.010 &  1.000 &  0.061 &  0.002 &  0.054\\\\\n",
       "\tblade\\_breadth &  0.001 & -0.004 &  0.006 & -0.070 &  0.018 &  0.017 &  0.063 &  0.017 & -0.002 &  0.025 &  0.004 &  0.022 &  0.001 &  0.039 &  0.061 &  1.000 &  0.030 &  0.104\\\\\n",
       "\theight\\_windmill & -0.015 &  0.001 & -0.018 & -0.002 &  0.020 & -0.018 & -0.017 & -0.019 &  0.021 & -0.014 & -0.001 &  0.000 &  0.000 &  0.002 &  0.002 &  0.030 &  1.000 &  0.000\\\\\n",
       "\twindmill\\_generated\\_power &  0.059 &  0.008 &  0.041 & -0.170 &  0.061 &  0.244 &  0.519 &  0.382 & -0.009 &  0.341 &  0.001 &  0.368 &  0.220 &  0.197 &  0.054 &  0.104 &  0.000 &  1.000\\\\\n",
       "\\end{tabular}\n"
      ],
      "text/markdown": [
       "\n",
       "| <!--/--> | speed_wind | atmospheric_temperature | shaft_temperature | blades_angle | gearbox_temperature | engine_temperature | motor_torque | generator_temperature | atmospheric_pressure | area_temperature | body_temperature_windmill | direction_wind | resistance | rotor_torque | blade_length | blade_breadth | height_windmill | windmill_generated_power |\n",
       "|---|---|---|---|---|---|---|---|---|---|---|---|---|---|---|---|---|---|---|\n",
       "| speed_wind |  1.000 |  0.040 |  0.044 |  0.003 |  0.014 |  0.161 |  0.375 |  0.430 | -0.130 |  0.216 |  0.029 |  0.045 |  0.222 |  0.150 |  0.019 |  0.001 | -0.015 |  0.059 |\n",
       "| atmospheric_temperature |  0.040 |  1.000 |  0.007 | -0.001 | -0.008 |  0.039 |  0.053 |  0.070 | -0.017 |  0.057 |  0.004 |  0.008 |  0.016 |  0.031 |  0.022 | -0.004 |  0.001 |  0.008 |\n",
       "| shaft_temperature |  0.044 |  0.007 |  1.000 | -0.024 |  0.041 |  0.221 |  0.075 |  0.078 | -0.025 |  0.081 |  0.029 |  0.027 |  0.039 |  0.031 |  0.011 |  0.006 | -0.018 |  0.041 |\n",
       "| blades_angle |  0.003 | -0.001 | -0.024 |  1.000 | -0.031 | -0.068 | -0.149 | -0.037 | -0.001 | -0.079 | -0.009 | -0.034 | -0.029 | -0.055 | -0.043 | -0.070 | -0.002 | -0.170 |\n",
       "| gearbox_temperature |  0.014 | -0.008 |  0.041 | -0.031 |  1.000 |  0.150 |  0.048 |  0.046 | -0.007 |  0.052 |  0.012 |  0.024 |  0.021 |  0.021 |  0.017 |  0.018 |  0.020 |  0.061 |\n",
       "| engine_temperature |  0.161 |  0.039 |  0.221 | -0.068 |  0.150 |  1.000 |  0.359 |  0.369 | -0.071 |  0.325 |  0.096 |  0.136 |  0.202 |  0.144 |  0.010 |  0.017 | -0.018 |  0.244 |\n",
       "| motor_torque |  0.375 |  0.053 |  0.075 | -0.149 |  0.048 |  0.359 |  1.000 |  0.925 | -0.215 |  0.476 |  0.030 |  0.214 |  0.485 |  0.399 |  0.034 |  0.063 | -0.017 |  0.519 |\n",
       "| generator_temperature |  0.430 |  0.070 |  0.078 | -0.037 |  0.046 |  0.369 |  0.925 |  1.000 | -0.242 |  0.527 |  0.038 |  0.208 |  0.517 |  0.377 |  0.021 |  0.017 | -0.019 |  0.382 |\n",
       "| atmospheric_pressure | -0.130 | -0.017 | -0.025 | -0.001 | -0.007 | -0.071 | -0.215 | -0.242 |  1.000 | -0.088 | -0.009 | -0.025 | -0.128 | -0.101 | -0.001 | -0.002 |  0.021 | -0.009 |\n",
       "| area_temperature |  0.216 |  0.057 |  0.081 | -0.079 |  0.052 |  0.325 |  0.476 |  0.527 | -0.088 |  1.000 |  0.053 |  0.193 |  0.258 |  0.190 |  0.019 |  0.025 | -0.014 |  0.341 |\n",
       "| body_temperature_windmill |  0.029 |  0.004 |  0.029 | -0.009 |  0.012 |  0.096 |  0.030 |  0.038 | -0.009 |  0.053 |  1.000 |  0.011 |  0.033 |  0.015 | -0.007 |  0.004 | -0.001 |  0.001 |\n",
       "| direction_wind |  0.045 |  0.008 |  0.027 | -0.034 |  0.024 |  0.136 |  0.214 |  0.208 | -0.025 |  0.193 |  0.011 |  1.000 |  0.094 |  0.079 |  0.019 |  0.022 |  0.000 |  0.368 |\n",
       "| resistance |  0.222 |  0.016 |  0.039 | -0.029 |  0.021 |  0.202 |  0.485 |  0.517 | -0.128 |  0.258 |  0.033 |  0.094 |  1.000 |  0.185 |  0.017 |  0.001 |  0.000 |  0.220 |\n",
       "| rotor_torque |  0.150 |  0.031 |  0.031 | -0.055 |  0.021 |  0.144 |  0.399 |  0.377 | -0.101 |  0.190 |  0.015 |  0.079 |  0.185 |  1.000 |  0.010 |  0.039 |  0.002 |  0.197 |\n",
       "| blade_length |  0.019 |  0.022 |  0.011 | -0.043 |  0.017 |  0.010 |  0.034 |  0.021 | -0.001 |  0.019 | -0.007 |  0.019 |  0.017 |  0.010 |  1.000 |  0.061 |  0.002 |  0.054 |\n",
       "| blade_breadth |  0.001 | -0.004 |  0.006 | -0.070 |  0.018 |  0.017 |  0.063 |  0.017 | -0.002 |  0.025 |  0.004 |  0.022 |  0.001 |  0.039 |  0.061 |  1.000 |  0.030 |  0.104 |\n",
       "| height_windmill | -0.015 |  0.001 | -0.018 | -0.002 |  0.020 | -0.018 | -0.017 | -0.019 |  0.021 | -0.014 | -0.001 |  0.000 |  0.000 |  0.002 |  0.002 |  0.030 |  1.000 |  0.000 |\n",
       "| windmill_generated_power |  0.059 |  0.008 |  0.041 | -0.170 |  0.061 |  0.244 |  0.519 |  0.382 | -0.009 |  0.341 |  0.001 |  0.368 |  0.220 |  0.197 |  0.054 |  0.104 |  0.000 |  1.000 |\n",
       "\n"
      ],
      "text/plain": [
       "                          speed_wind atmospheric_temperature shaft_temperature\n",
       "speed_wind                 1.000      0.040                   0.044           \n",
       "atmospheric_temperature    0.040      1.000                   0.007           \n",
       "shaft_temperature          0.044      0.007                   1.000           \n",
       "blades_angle               0.003     -0.001                  -0.024           \n",
       "gearbox_temperature        0.014     -0.008                   0.041           \n",
       "engine_temperature         0.161      0.039                   0.221           \n",
       "motor_torque               0.375      0.053                   0.075           \n",
       "generator_temperature      0.430      0.070                   0.078           \n",
       "atmospheric_pressure      -0.130     -0.017                  -0.025           \n",
       "area_temperature           0.216      0.057                   0.081           \n",
       "body_temperature_windmill  0.029      0.004                   0.029           \n",
       "direction_wind             0.045      0.008                   0.027           \n",
       "resistance                 0.222      0.016                   0.039           \n",
       "rotor_torque               0.150      0.031                   0.031           \n",
       "blade_length               0.019      0.022                   0.011           \n",
       "blade_breadth              0.001     -0.004                   0.006           \n",
       "height_windmill           -0.015      0.001                  -0.018           \n",
       "windmill_generated_power   0.059      0.008                   0.041           \n",
       "                          blades_angle gearbox_temperature engine_temperature\n",
       "speed_wind                 0.003        0.014               0.161            \n",
       "atmospheric_temperature   -0.001       -0.008               0.039            \n",
       "shaft_temperature         -0.024        0.041               0.221            \n",
       "blades_angle               1.000       -0.031              -0.068            \n",
       "gearbox_temperature       -0.031        1.000               0.150            \n",
       "engine_temperature        -0.068        0.150               1.000            \n",
       "motor_torque              -0.149        0.048               0.359            \n",
       "generator_temperature     -0.037        0.046               0.369            \n",
       "atmospheric_pressure      -0.001       -0.007              -0.071            \n",
       "area_temperature          -0.079        0.052               0.325            \n",
       "body_temperature_windmill -0.009        0.012               0.096            \n",
       "direction_wind            -0.034        0.024               0.136            \n",
       "resistance                -0.029        0.021               0.202            \n",
       "rotor_torque              -0.055        0.021               0.144            \n",
       "blade_length              -0.043        0.017               0.010            \n",
       "blade_breadth             -0.070        0.018               0.017            \n",
       "height_windmill           -0.002        0.020              -0.018            \n",
       "windmill_generated_power  -0.170        0.061               0.244            \n",
       "                          motor_torque generator_temperature\n",
       "speed_wind                 0.375        0.430               \n",
       "atmospheric_temperature    0.053        0.070               \n",
       "shaft_temperature          0.075        0.078               \n",
       "blades_angle              -0.149       -0.037               \n",
       "gearbox_temperature        0.048        0.046               \n",
       "engine_temperature         0.359        0.369               \n",
       "motor_torque               1.000        0.925               \n",
       "generator_temperature      0.925        1.000               \n",
       "atmospheric_pressure      -0.215       -0.242               \n",
       "area_temperature           0.476        0.527               \n",
       "body_temperature_windmill  0.030        0.038               \n",
       "direction_wind             0.214        0.208               \n",
       "resistance                 0.485        0.517               \n",
       "rotor_torque               0.399        0.377               \n",
       "blade_length               0.034        0.021               \n",
       "blade_breadth              0.063        0.017               \n",
       "height_windmill           -0.017       -0.019               \n",
       "windmill_generated_power   0.519        0.382               \n",
       "                          atmospheric_pressure area_temperature\n",
       "speed_wind                -0.130                0.216          \n",
       "atmospheric_temperature   -0.017                0.057          \n",
       "shaft_temperature         -0.025                0.081          \n",
       "blades_angle              -0.001               -0.079          \n",
       "gearbox_temperature       -0.007                0.052          \n",
       "engine_temperature        -0.071                0.325          \n",
       "motor_torque              -0.215                0.476          \n",
       "generator_temperature     -0.242                0.527          \n",
       "atmospheric_pressure       1.000               -0.088          \n",
       "area_temperature          -0.088                1.000          \n",
       "body_temperature_windmill -0.009                0.053          \n",
       "direction_wind            -0.025                0.193          \n",
       "resistance                -0.128                0.258          \n",
       "rotor_torque              -0.101                0.190          \n",
       "blade_length              -0.001                0.019          \n",
       "blade_breadth             -0.002                0.025          \n",
       "height_windmill            0.021               -0.014          \n",
       "windmill_generated_power  -0.009                0.341          \n",
       "                          body_temperature_windmill direction_wind resistance\n",
       "speed_wind                 0.029                     0.045          0.222    \n",
       "atmospheric_temperature    0.004                     0.008          0.016    \n",
       "shaft_temperature          0.029                     0.027          0.039    \n",
       "blades_angle              -0.009                    -0.034         -0.029    \n",
       "gearbox_temperature        0.012                     0.024          0.021    \n",
       "engine_temperature         0.096                     0.136          0.202    \n",
       "motor_torque               0.030                     0.214          0.485    \n",
       "generator_temperature      0.038                     0.208          0.517    \n",
       "atmospheric_pressure      -0.009                    -0.025         -0.128    \n",
       "area_temperature           0.053                     0.193          0.258    \n",
       "body_temperature_windmill  1.000                     0.011          0.033    \n",
       "direction_wind             0.011                     1.000          0.094    \n",
       "resistance                 0.033                     0.094          1.000    \n",
       "rotor_torque               0.015                     0.079          0.185    \n",
       "blade_length              -0.007                     0.019          0.017    \n",
       "blade_breadth              0.004                     0.022          0.001    \n",
       "height_windmill           -0.001                     0.000          0.000    \n",
       "windmill_generated_power   0.001                     0.368          0.220    \n",
       "                          rotor_torque blade_length blade_breadth\n",
       "speed_wind                 0.150        0.019        0.001       \n",
       "atmospheric_temperature    0.031        0.022       -0.004       \n",
       "shaft_temperature          0.031        0.011        0.006       \n",
       "blades_angle              -0.055       -0.043       -0.070       \n",
       "gearbox_temperature        0.021        0.017        0.018       \n",
       "engine_temperature         0.144        0.010        0.017       \n",
       "motor_torque               0.399        0.034        0.063       \n",
       "generator_temperature      0.377        0.021        0.017       \n",
       "atmospheric_pressure      -0.101       -0.001       -0.002       \n",
       "area_temperature           0.190        0.019        0.025       \n",
       "body_temperature_windmill  0.015       -0.007        0.004       \n",
       "direction_wind             0.079        0.019        0.022       \n",
       "resistance                 0.185        0.017        0.001       \n",
       "rotor_torque               1.000        0.010        0.039       \n",
       "blade_length               0.010        1.000        0.061       \n",
       "blade_breadth              0.039        0.061        1.000       \n",
       "height_windmill            0.002        0.002        0.030       \n",
       "windmill_generated_power   0.197        0.054        0.104       \n",
       "                          height_windmill windmill_generated_power\n",
       "speed_wind                -0.015           0.059                  \n",
       "atmospheric_temperature    0.001           0.008                  \n",
       "shaft_temperature         -0.018           0.041                  \n",
       "blades_angle              -0.002          -0.170                  \n",
       "gearbox_temperature        0.020           0.061                  \n",
       "engine_temperature        -0.018           0.244                  \n",
       "motor_torque              -0.017           0.519                  \n",
       "generator_temperature     -0.019           0.382                  \n",
       "atmospheric_pressure       0.021          -0.009                  \n",
       "area_temperature          -0.014           0.341                  \n",
       "body_temperature_windmill -0.001           0.001                  \n",
       "direction_wind             0.000           0.368                  \n",
       "resistance                 0.000           0.220                  \n",
       "rotor_torque               0.002           0.197                  \n",
       "blade_length               0.002           0.054                  \n",
       "blade_breadth              0.030           0.104                  \n",
       "height_windmill            1.000           0.000                  \n",
       "windmill_generated_power   0.000           1.000                  "
      ]
     },
     "metadata": {},
     "output_type": "display_data"
    }
   ],
   "source": [
    "#here we are replacing all the null values in the blade length with -99\n",
    "df_train$blade_length[is.na(df_train$blade_length)] = -99\n",
    "nrow(df_train[is.na(df_train$blade_length),])\n",
    "df_train_2 = subset(df_train, blade_length > 0.75) #null values & -99 removed and length greater 0.75 only kept for finding correlation\n",
    "round(cor(df_train_2[,c(3,4,5,6,7,8,9,10,11,12,13,14,15,16,19,20,21,22)], use = \"complete.obs\"),3)"
   ]
  },
  {
   "cell_type": "markdown",
   "id": "621b2efb",
   "metadata": {},
   "source": [
    "- We will impute the varible blade length with median in the df_train in all the values of blade length \\< 0.75 or null values. impute the varible body_temperature_windmill with median."
   ]
  },
  {
   "cell_type": "code",
   "execution_count": 34,
   "id": "898371f9",
   "metadata": {
    "vscode": {
     "languageId": "r"
    }
   },
   "outputs": [
    {
     "data": {
      "text/html": [
       "<table>\n",
       "<thead><tr><th></th><th scope=col>tracking_id</th><th scope=col>datetime</th><th scope=col>speed_wind</th><th scope=col>atmospheric_temperature</th><th scope=col>shaft_temperature</th><th scope=col>blades_angle</th><th scope=col>gearbox_temperature</th><th scope=col>engine_temperature</th><th scope=col>motor_torque</th><th scope=col>generator_temperature</th><th scope=col>...</th><th scope=col>body_temperature_windmill</th><th scope=col>direction_wind</th><th scope=col>resistance</th><th scope=col>rotor_torque</th><th scope=col>turbine_status</th><th scope=col>cloud_level</th><th scope=col>blade_length</th><th scope=col>blade_breadth</th><th scope=col>height_windmill</th><th scope=col>windmill_generated_power</th></tr></thead>\n",
       "<tbody>\n",
       "\t<tr><th scope=row>26192</th><td>WM_24537           </td><td>2019-05-25 12:53:20</td><td>  17.72478         </td><td>-99.00000          </td><td>-7.188719          </td><td>   0.1414163       </td><td> 40.25473          </td><td>42.43052           </td><td> 822.4819          </td><td>38.47305           </td><td>...                </td><td>42.70092           </td><td>218.2293           </td><td>1246.371           </td><td>13.20723           </td><td>AB                 </td><td>Low                </td><td>  8.300782         </td><td>0.3814347          </td><td>26.53865           </td><td> 5.327000          </td></tr>\n",
       "\t<tr><th scope=row>17516</th><td>WM_11995           </td><td>2019-02-02 12:53:20</td><td>  96.82917         </td><td> 17.55623          </td><td>43.230546          </td><td>  14.3595777       </td><td> 49.45086          </td><td>43.94813           </td><td>2839.8185          </td><td>92.68765           </td><td>...                </td><td>46.51208           </td><td>313.8371           </td><td>1953.055           </td><td>47.48195           </td><td>BB                 </td><td>Medium             </td><td>  3.935231         </td><td>0.4718723          </td><td>24.94531           </td><td>13.769339          </td></tr>\n",
       "\t<tr><th scope=row>24567</th><td>WM_23214           </td><td>2019-05-16 03:43:20</td><td>-136.21533         </td><td> 12.22514          </td><td>41.908392          </td><td> -99.0000000       </td><td> 41.28349          </td><td>42.78060           </td><td> 783.3366          </td><td>38.38925           </td><td>...                </td><td>42.15207           </td><td>211.4183           </td><td>1213.762           </td><td>75.87272           </td><td>BA                 </td><td>Medium             </td><td>  3.634979         </td><td>0.4235379          </td><td>27.17957           </td><td> 4.653317          </td></tr>\n",
       "\t<tr><th scope=row>4803</th><td>WM_2835            </td><td>2018-11-24 16:33:20</td><td>  96.77077         </td><td> 29.38938          </td><td>46.760040          </td><td>  -1.3033806       </td><td>-23.07728          </td><td>45.44861           </td><td>2462.8923          </td><td>75.78548           </td><td>...                </td><td>46.44784           </td><td>281.9405           </td><td>1793.424           </td><td>39.87404           </td><td>A                  </td><td>Low                </td><td>-99.000000         </td><td>0.4724430          </td><td>24.51290           </td><td> 6.242050          </td></tr>\n",
       "\t<tr><th scope=row>26949</th><td>WM_38441           </td><td>2019-09-09 04:13:20</td><td>  19.90549         </td><td> 11.66558          </td><td>45.029645          </td><td>-146.2595427       </td><td> 43.09589          </td><td>42.98405           </td><td> 820.0955          </td><td>40.22810           </td><td>...                </td><td>41.74974           </td><td>265.4704           </td><td>1249.299           </td><td>13.93055           </td><td>AC                 </td><td>Low                </td><td>  3.113394         </td><td>0.4779521          </td><td>30.70911           </td><td> 5.640274          </td></tr>\n",
       "</tbody>\n",
       "</table>\n"
      ],
      "text/latex": [
       "\\begin{tabular}{r|llllllllllllllllllllll}\n",
       "  & tracking\\_id & datetime & speed\\_wind & atmospheric\\_temperature & shaft\\_temperature & blades\\_angle & gearbox\\_temperature & engine\\_temperature & motor\\_torque & generator\\_temperature & ... & body\\_temperature\\_windmill & direction\\_wind & resistance & rotor\\_torque & turbine\\_status & cloud\\_level & blade\\_length & blade\\_breadth & height\\_windmill & windmill\\_generated\\_power\\\\\n",
       "\\hline\n",
       "\t26192 & WM\\_24537          & 2019-05-25 12:53:20 &   17.72478          & -99.00000           & -7.188719           &    0.1414163        &  40.25473           & 42.43052            &  822.4819           & 38.47305            & ...                 & 42.70092            & 218.2293            & 1246.371            & 13.20723            & AB                  & Low                 &   8.300782          & 0.3814347           & 26.53865            &  5.327000          \\\\\n",
       "\t17516 & WM\\_11995          & 2019-02-02 12:53:20 &   96.82917          &  17.55623           & 43.230546           &   14.3595777        &  49.45086           & 43.94813            & 2839.8185           & 92.68765            & ...                 & 46.51208            & 313.8371            & 1953.055            & 47.48195            & BB                  & Medium              &   3.935231          & 0.4718723           & 24.94531            & 13.769339          \\\\\n",
       "\t24567 & WM\\_23214          & 2019-05-16 03:43:20 & -136.21533          &  12.22514           & 41.908392           &  -99.0000000        &  41.28349           & 42.78060            &  783.3366           & 38.38925            & ...                 & 42.15207            & 211.4183            & 1213.762            & 75.87272            & BA                  & Medium              &   3.634979          & 0.4235379           & 27.17957            &  4.653317          \\\\\n",
       "\t4803 & WM\\_2835           & 2018-11-24 16:33:20 &   96.77077          &  29.38938           & 46.760040           &   -1.3033806        & -23.07728           & 45.44861            & 2462.8923           & 75.78548            & ...                 & 46.44784            & 281.9405            & 1793.424            & 39.87404            & A                   & Low                 & -99.000000          & 0.4724430           & 24.51290            &  6.242050          \\\\\n",
       "\t26949 & WM\\_38441          & 2019-09-09 04:13:20 &   19.90549          &  11.66558           & 45.029645           & -146.2595427        &  43.09589           & 42.98405            &  820.0955           & 40.22810            & ...                 & 41.74974            & 265.4704            & 1249.299            & 13.93055            & AC                  & Low                 &   3.113394          & 0.4779521           & 30.70911            &  5.640274          \\\\\n",
       "\\end{tabular}\n"
      ],
      "text/markdown": [
       "\n",
       "| <!--/--> | tracking_id | datetime | speed_wind | atmospheric_temperature | shaft_temperature | blades_angle | gearbox_temperature | engine_temperature | motor_torque | generator_temperature | ... | body_temperature_windmill | direction_wind | resistance | rotor_torque | turbine_status | cloud_level | blade_length | blade_breadth | height_windmill | windmill_generated_power |\n",
       "|---|---|---|---|---|---|---|---|---|---|---|---|---|---|---|---|---|---|---|---|---|---|\n",
       "| 26192 | WM_24537            | 2019-05-25 12:53:20 |   17.72478          | -99.00000           | -7.188719           |    0.1414163        |  40.25473           | 42.43052            |  822.4819           | 38.47305            | ...                 | 42.70092            | 218.2293            | 1246.371            | 13.20723            | AB                  | Low                 |   8.300782          | 0.3814347           | 26.53865            |  5.327000           |\n",
       "| 17516 | WM_11995            | 2019-02-02 12:53:20 |   96.82917          |  17.55623           | 43.230546           |   14.3595777        |  49.45086           | 43.94813            | 2839.8185           | 92.68765            | ...                 | 46.51208            | 313.8371            | 1953.055            | 47.48195            | BB                  | Medium              |   3.935231          | 0.4718723           | 24.94531            | 13.769339           |\n",
       "| 24567 | WM_23214            | 2019-05-16 03:43:20 | -136.21533          |  12.22514           | 41.908392           |  -99.0000000        |  41.28349           | 42.78060            |  783.3366           | 38.38925            | ...                 | 42.15207            | 211.4183            | 1213.762            | 75.87272            | BA                  | Medium              |   3.634979          | 0.4235379           | 27.17957            |  4.653317           |\n",
       "| 4803 | WM_2835             | 2018-11-24 16:33:20 |   96.77077          |  29.38938           | 46.760040           |   -1.3033806        | -23.07728           | 45.44861            | 2462.8923           | 75.78548            | ...                 | 46.44784            | 281.9405            | 1793.424            | 39.87404            | A                   | Low                 | -99.000000          | 0.4724430           | 24.51290            |  6.242050           |\n",
       "| 26949 | WM_38441            | 2019-09-09 04:13:20 |   19.90549          |  11.66558           | 45.029645           | -146.2595427        |  43.09589           | 42.98405            |  820.0955           | 40.22810            | ...                 | 41.74974            | 265.4704            | 1249.299            | 13.93055            | AC                  | Low                 |   3.113394          | 0.4779521           | 30.70911            |  5.640274           |\n",
       "\n"
      ],
      "text/plain": [
       "      tracking_id datetime            speed_wind atmospheric_temperature\n",
       "26192 WM_24537    2019-05-25 12:53:20   17.72478 -99.00000              \n",
       "17516 WM_11995    2019-02-02 12:53:20   96.82917  17.55623              \n",
       "24567 WM_23214    2019-05-16 03:43:20 -136.21533  12.22514              \n",
       "4803  WM_2835     2018-11-24 16:33:20   96.77077  29.38938              \n",
       "26949 WM_38441    2019-09-09 04:13:20   19.90549  11.66558              \n",
       "      shaft_temperature blades_angle gearbox_temperature engine_temperature\n",
       "26192 -7.188719            0.1414163  40.25473           42.43052          \n",
       "17516 43.230546           14.3595777  49.45086           43.94813          \n",
       "24567 41.908392          -99.0000000  41.28349           42.78060          \n",
       "4803  46.760040           -1.3033806 -23.07728           45.44861          \n",
       "26949 45.029645         -146.2595427  43.09589           42.98405          \n",
       "      motor_torque generator_temperature ... body_temperature_windmill\n",
       "26192  822.4819    38.47305              ... 42.70092                 \n",
       "17516 2839.8185    92.68765              ... 46.51208                 \n",
       "24567  783.3366    38.38925              ... 42.15207                 \n",
       "4803  2462.8923    75.78548              ... 46.44784                 \n",
       "26949  820.0955    40.22810              ... 41.74974                 \n",
       "      direction_wind resistance rotor_torque turbine_status cloud_level\n",
       "26192 218.2293       1246.371   13.20723     AB             Low        \n",
       "17516 313.8371       1953.055   47.48195     BB             Medium     \n",
       "24567 211.4183       1213.762   75.87272     BA             Medium     \n",
       "4803  281.9405       1793.424   39.87404     A              Low        \n",
       "26949 265.4704       1249.299   13.93055     AC             Low        \n",
       "      blade_length blade_breadth height_windmill windmill_generated_power\n",
       "26192   8.300782   0.3814347     26.53865         5.327000               \n",
       "17516   3.935231   0.4718723     24.94531        13.769339               \n",
       "24567   3.634979   0.4235379     27.17957         4.653317               \n",
       "4803  -99.000000   0.4724430     24.51290         6.242050               \n",
       "26949   3.113394   0.4779521     30.70911         5.640274               "
      ]
     },
     "metadata": {},
     "output_type": "display_data"
    }
   ],
   "source": [
    "df_train_3 = df_train[!is.na(df_train$atmospheric_pressure),]\n",
    "head(df_train_3,5)"
   ]
  },
  {
   "cell_type": "code",
   "execution_count": 35,
   "id": "23d2adf7",
   "metadata": {
    "vscode": {
     "languageId": "r"
    }
   },
   "outputs": [
    {
     "data": {
      "text/plain": [
       "    Min.  1st Qu.   Median     Mean  3rd Qu.     Max. \n",
       "-1021642    16793    18208    53480   118112  1272552 "
      ]
     },
     "metadata": {},
     "output_type": "display_data"
    }
   ],
   "source": [
    "summary(df_train_3$atmospheric_pressure)"
   ]
  },
  {
   "cell_type": "markdown",
   "id": "a3d64f98",
   "metadata": {},
   "source": [
    "- As seen in the above summary, atmospheric pressure is ranging from -1021642 to 1272552, which is an impractical range for pressure as it cannot be negative and also atmospheric temperature at sea level is 101000 pascals. So we will rescale the entire pressure range from an impractical range of (-1021642, 1272552) to a practical range of (90000, 101000), without changing the distribution of atmospheric pressure. We will impute the missing values using mean of the distribution."
   ]
  },
  {
   "cell_type": "code",
   "execution_count": 36,
   "id": "051df692",
   "metadata": {
    "vscode": {
     "languageId": "r"
    }
   },
   "outputs": [
    {
     "data": {
      "text/html": [
       "0"
      ],
      "text/latex": [
       "0"
      ],
      "text/markdown": [
       "0"
      ],
      "text/plain": [
       "[1] 0"
      ]
     },
     "metadata": {},
     "output_type": "display_data"
    },
    {
     "data": {
      "text/plain": [
       "   Min. 1st Qu.  Median    Mean 3rd Qu.    Max. \n",
       "    0.0   238.0   271.1   306.0   398.7   570.0 "
      ]
     },
     "metadata": {},
     "output_type": "display_data"
    }
   ],
   "source": [
    "df_train_4 = df_train[!is.na(df_train$direction_wind),]\n",
    "sum(is.na(df_train_4$direction_wind))\n",
    "summary(df_train_4$direction_wind)"
   ]
  },
  {
   "cell_type": "markdown",
   "id": "aabcf02a",
   "metadata": {},
   "source": [
    "- Wind direction of 570 degress doesn’t make any sense hence we will convert all values from 0 to 360 by taking remainder as new value after dividing each element by 360."
   ]
  },
  {
   "cell_type": "code",
   "execution_count": 37,
   "id": "e21c38e3",
   "metadata": {
    "vscode": {
     "languageId": "r"
    }
   },
   "outputs": [
    {
     "data": {
      "text/plain": [
       "   Min. 1st Qu.  Median    Mean 3rd Qu.    Max.    NA's \n",
       "-136.73   13.77   33.09   25.86   41.60  236.88     454 "
      ]
     },
     "metadata": {},
     "output_type": "display_data"
    }
   ],
   "source": [
    "summary(df_train$rotor_torque, breaks = 25)"
   ]
  },
  {
   "cell_type": "markdown",
   "id": "fe2c6357",
   "metadata": {},
   "source": [
    "- Negative values of rotor torque doesn’t make any sense as our generated power is positive throughout so updating it with the absolute values of rotor torque."
   ]
  },
  {
   "cell_type": "code",
   "execution_count": 38,
   "id": "2c8b2269",
   "metadata": {
    "vscode": {
     "languageId": "r"
    }
   },
   "outputs": [
    {
     "data": {
      "text/plain": [
       "    Min.  1st Qu.   Median     Mean  3rd Qu.     Max.     NA's \n",
       "  0.0222  16.3133  34.8880  34.5145  43.0337 236.8833      454 "
      ]
     },
     "metadata": {},
     "output_type": "display_data"
    }
   ],
   "source": [
    "df_train$rotor_torque = abs(df_train$rotor_torque)\n",
    "summary(df_train$rotor_torque, breaks = 25)"
   ]
  },
  {
   "cell_type": "markdown",
   "id": "8c533eb0",
   "metadata": {},
   "source": [
    "## Imputations:"
   ]
  },
  {
   "cell_type": "code",
   "execution_count": 39,
   "id": "e1ddbf15",
   "metadata": {
    "vscode": {
     "languageId": "r"
    }
   },
   "outputs": [
    {
     "data": {
      "text/plain": [
       "   Min. 1st Qu.  Median    Mean 3rd Qu.    Max. \n",
       "  3.167  41.912  43.519  42.598  45.178  50.000 "
      ]
     },
     "metadata": {},
     "output_type": "display_data"
    },
    {
     "data": {
      "text/plain": [
       "   Min. 1st Qu.  Median    Mean 3rd Qu.    Max. \n",
       "  3.568  41.913  43.543  42.660  45.143  49.827 "
      ]
     },
     "metadata": {},
     "output_type": "display_data"
    },
    {
     "data": {
      "text/html": [
       "0"
      ],
      "text/latex": [
       "0"
      ],
      "text/markdown": [
       "0"
      ],
      "text/plain": [
       "[1] 0"
      ]
     },
     "metadata": {},
     "output_type": "display_data"
    },
    {
     "data": {
      "text/html": [
       "0"
      ],
      "text/latex": [
       "0"
      ],
      "text/markdown": [
       "0"
      ],
      "text/plain": [
       "[1] 0"
      ]
     },
     "metadata": {},
     "output_type": "display_data"
    }
   ],
   "source": [
    "#imputation of the 8 missing values in the engine temp with median values\n",
    "df_train$engine_temperature[is.na(df_train$engine_temperature)] = median(df_train$engine_temperature, na.rm = T)\n",
    "summary(df_train$engine_temperature)\n",
    "\n",
    "#imputation of the missig values in the engine temp with median values for test data\n",
    "df_test$engine_temperature[is.na(df_test$engine_temperature)] = median(df_train$engine_temperature, na.rm = T)\n",
    "summary(df_test$engine_temperature)\n",
    "\n",
    "sum(is.na(df_train$engine_temperature))\n",
    "sum(is.na(df_test$engine_temperature))"
   ]
  },
  {
   "cell_type": "code",
   "execution_count": 40,
   "id": "7717bf1d",
   "metadata": {
    "vscode": {
     "languageId": "r"
    }
   },
   "outputs": [
    {
     "data": {
      "text/plain": [
       "   Min. 1st Qu.  Median    Mean 3rd Qu.    Max. \n",
       "-99.000   1.467   3.048 -15.907   4.151  16.393 "
      ]
     },
     "metadata": {},
     "output_type": "display_data"
    },
    {
     "data": {
      "text/plain": [
       "   Min. 1st Qu.  Median    Mean 3rd Qu.    Max. \n",
       " 0.7508  3.0049  3.5882  3.7292  4.1508 16.3928 "
      ]
     },
     "metadata": {},
     "output_type": "display_data"
    }
   ],
   "source": [
    "#impute the variable blade length with median in the df_train in all the values < 0.75 and null values.\n",
    "summary(df_train$blade_length)\n",
    "df_train$blade_length[is.na(df_train$blade_length)] = -99\n",
    "df_train$blade_length[df_train$blade_length < 0.75] = median(df_train_2$blade_length, na.rm = T) #replacing by median of df_train_2 as it contains values above 0.75\n",
    "summary(df_train$blade_length)"
   ]
  },
  {
   "cell_type": "code",
   "execution_count": 41,
   "id": "b66b1c03",
   "metadata": {
    "vscode": {
     "languageId": "r"
    }
   },
   "outputs": [
    {
     "data": {
      "text/html": [
       "1036"
      ],
      "text/latex": [
       "1036"
      ],
      "text/markdown": [
       "1036"
      ],
      "text/plain": [
       "[1] 1036"
      ]
     },
     "metadata": {},
     "output_type": "display_data"
    },
    {
     "data": {
      "text/plain": [
       "   Min. 1st Qu.  Median    Mean 3rd Qu.    Max. \n",
       " 0.7735  3.0498  3.5882  3.7624  4.1811 18.2098 "
      ]
     },
     "metadata": {},
     "output_type": "display_data"
    }
   ],
   "source": [
    "#for test\n",
    "sum(is.na(df_test$blade_length))\n",
    "df_test$blade_length[is.na(df_test$blade_length)] = -99\n",
    "df_test$blade_length[df_test$blade_length < 0.75] = median(df_train_2$blade_length, na.rm = T)\n",
    "summary(df_test$blade_length)"
   ]
  },
  {
   "cell_type": "code",
   "execution_count": 42,
   "id": "7005338a",
   "metadata": {
    "vscode": {
     "languageId": "r"
    }
   },
   "outputs": [
    {
     "data": {
      "text/plain": [
       "   Min. 1st Qu.  Median    Mean 3rd Qu.    Max.    NA's \n",
       "  33.89   41.26   70.78   65.13   79.00   99.73       9 "
      ]
     },
     "metadata": {},
     "output_type": "display_data"
    },
    {
     "data": {
      "text/plain": [
       "   Min. 1st Qu.  Median    Mean 3rd Qu.    Max. \n",
       "  33.89   41.26   70.77   65.13   79.00   99.73 "
      ]
     },
     "metadata": {},
     "output_type": "display_data"
    },
    {
     "data": {
      "text/plain": [
       "   Min. 1st Qu.  Median    Mean 3rd Qu.    Max.    NA's \n",
       "  34.02   41.03   70.49   64.55   78.63  100.00       3 "
      ]
     },
     "metadata": {},
     "output_type": "display_data"
    },
    {
     "data": {
      "text/plain": [
       "   Min. 1st Qu.  Median    Mean 3rd Qu.    Max. \n",
       "  34.02   41.03   70.49   64.55   78.62  100.00 "
      ]
     },
     "metadata": {},
     "output_type": "display_data"
    }
   ],
   "source": [
    "# imputing the generator_temperature\n",
    "\n",
    "summary(df_train$generator_temperature)\n",
    "df_train$generator_temperature[is.na(df_train$generator_temperature)] = mean(df_train$generator_temperature, na.rm = T)\n",
    "summary(df_train$generator_temperature)\n",
    "\n",
    "summary(df_test$generator_temperature)\n",
    "df_test$generator_temperature[is.na(df_test$generator_temperature)] = mean(df_train$generator_temperature, na.rm = T)\n",
    "summary(df_test$generator_temperature)"
   ]
  },
  {
   "cell_type": "code",
   "execution_count": 43,
   "id": "ee858772",
   "metadata": {
    "vscode": {
     "languageId": "r"
    }
   },
   "outputs": [
    {
     "data": {
      "text/plain": [
       "   Min. 1st Qu.  Median    Mean 3rd Qu.    Max.    NA's \n",
       "  500.0   872.5  2033.3  1713.5  2464.4  3000.0      20 "
      ]
     },
     "metadata": {},
     "output_type": "display_data"
    },
    {
     "data": {
      "text/plain": [
       "   Min. 1st Qu.  Median    Mean 3rd Qu.    Max. \n",
       "  500.0   872.8  2033.3  1713.8  2464.0  3000.0 "
      ]
     },
     "metadata": {},
     "output_type": "display_data"
    },
    {
     "data": {
      "text/plain": [
       "   Min. 1st Qu.  Median    Mean 3rd Qu.    Max.    NA's \n",
       "  500.0   863.6  2026.4  1698.2  2441.4  2987.7       4 "
      ]
     },
     "metadata": {},
     "output_type": "display_data"
    },
    {
     "data": {
      "text/plain": [
       "   Min. 1st Qu.  Median    Mean 3rd Qu.    Max. \n",
       "  500.0   863.9  2026.4  1698.5  2441.1  2987.7 "
      ]
     },
     "metadata": {},
     "output_type": "display_data"
    }
   ],
   "source": [
    "#imputation for motor_torque   \n",
    "summary(df_train$motor_torque)\n",
    "df_train$motor_torque[is.na(df_train$motor_torque)] = median(df_train$motor_torque, na.rm = T)\n",
    "summary(df_train$motor_torque)\n",
    "\n",
    "summary(df_test$motor_torque)\n",
    "df_test$motor_torque[is.na(df_test$motor_torque)] = median(df_train$motor_torque, na.rm = T)\n",
    "summary(df_test$motor_torque)"
   ]
  },
  {
   "cell_type": "code",
   "execution_count": 44,
   "id": "eb1f7691",
   "metadata": {
    "vscode": {
     "languageId": "r"
    }
   },
   "outputs": [
    {
     "data": {
      "text/plain": [
       "    Min.  1st Qu.   Median     Mean  3rd Qu.     Max.     NA's \n",
       "  0.0222  16.3133  34.8880  34.5145  43.0337 236.8833      454 "
      ]
     },
     "metadata": {},
     "output_type": "display_data"
    },
    {
     "data": {
      "text/plain": [
       "     Min.   1st Qu.    Median      Mean   3rd Qu.      Max. \n",
       "  0.02223  16.49154  34.88799  34.52204  42.87457 236.88326 "
      ]
     },
     "metadata": {},
     "output_type": "display_data"
    },
    {
     "data": {
      "text/plain": [
       "   Min. 1st Qu.  Median    Mean 3rd Qu.    Max.    NA's \n",
       "-120.91   13.54   32.44   25.81   41.29  170.71     113 "
      ]
     },
     "metadata": {},
     "output_type": "display_data"
    },
    {
     "data": {
      "text/plain": [
       "   Min. 1st Qu.  Median    Mean 3rd Qu.    Max. \n",
       "-120.91   13.65   33.17   25.99   41.03  170.71 "
      ]
     },
     "metadata": {},
     "output_type": "display_data"
    }
   ],
   "source": [
    "#imputation for rotor_torque \n",
    "summary(df_train$rotor_torque)\n",
    "df_train$rotor_torque[is.na(df_train$rotor_torque)] = median(df_train$rotor_torque, na.rm = T)\n",
    "summary(df_train$rotor_torque)\n",
    "\n",
    "summary(df_test$rotor_torque)\n",
    "df_test$rotor_torque[is.na(df_test$rotor_torque)] = median(df_train$rotor_torque, na.rm = T)\n",
    "summary(df_test$rotor_torque)"
   ]
  },
  {
   "cell_type": "code",
   "execution_count": 45,
   "id": "26be74af",
   "metadata": {
    "vscode": {
     "languageId": "r"
    }
   },
   "outputs": [
    {
     "data": {
      "text/html": [
       "432"
      ],
      "text/latex": [
       "432"
      ],
      "text/markdown": [
       "432"
      ],
      "text/plain": [
       "[1] 432"
      ]
     },
     "metadata": {},
     "output_type": "display_data"
    },
    {
     "data": {
      "text/plain": [
       "   Min. 1st Qu.  Median    Mean 3rd Qu.    Max.    NA's \n",
       " -99.00   41.65   43.68   40.21   45.69  169.82       1 "
      ]
     },
     "metadata": {},
     "output_type": "display_data"
    },
    {
     "data": {
      "text/plain": [
       "   Min. 1st Qu.  Median    Mean 3rd Qu.    Max. \n",
       " -75.87   41.84   43.68   42.96   45.69  169.82 "
      ]
     },
     "metadata": {},
     "output_type": "display_data"
    },
    {
     "data": {
      "text/plain": [
       "   Min. 1st Qu.  Median    Mean 3rd Qu.    Max.    NA's \n",
       " -99.00   41.60   43.69   39.56   45.60  149.69       1 "
      ]
     },
     "metadata": {},
     "output_type": "display_data"
    },
    {
     "data": {
      "text/plain": [
       "   Min. 1st Qu.  Median    Mean 3rd Qu.    Max. \n",
       " -76.27   41.86   43.69   42.69   45.60  149.69 "
      ]
     },
     "metadata": {},
     "output_type": "display_data"
    }
   ],
   "source": [
    "###imputation for shaft_temperature\n",
    "\n",
    "nrow(df_train[(df_train$shaft_temperature < -80), ])\n",
    "summary(df_train$shaft_temperature)\n",
    "df_train$shaft_temperature[is.na(df_train$shaft_temperature)]  = median(df_train$shaft_temperature,na.rm = T)\n",
    "df_train$shaft_temperature[df_train$shaft_temperature < -80]  = median(df_train$shaft_temperature,na.rm = T)\n",
    "summary(df_train$shaft_temperature)\n",
    "\n",
    "summary(df_test$shaft_temperature)\n",
    "df_test$shaft_temperature[is.na(df_test$shaft_temperature)]  = median(df_train$shaft_temperature,na.rm = T)\n",
    "df_test$shaft_temperature[df_test$shaft_temperature < -80]  = median(df_train$shaft_temperature,na.rm = T)\n",
    "summary(df_test$shaft_temperature)"
   ]
  },
  {
   "cell_type": "code",
   "execution_count": 46,
   "id": "9cdac864",
   "metadata": {
    "vscode": {
     "languageId": "r"
    }
   },
   "outputs": [
    {
     "data": {
      "text/plain": [
       "   Min. 1st Qu.  Median    Mean 3rd Qu.    Max.    NA's \n",
       "    0.0   153.4   234.3   208.3   268.5   360.0    4023 "
      ]
     },
     "metadata": {},
     "output_type": "display_data"
    },
    {
     "data": {
      "text/plain": [
       "   Min. 1st Qu.  Median    Mean 3rd Qu.    Max. \n",
       "    0.0   169.0   234.3   212.9   261.4   360.0 "
      ]
     },
     "metadata": {},
     "output_type": "display_data"
    },
    {
     "data": {
      "text/plain": [
       "   Min. 1st Qu.  Median    Mean 3rd Qu.    Max.    NA's \n",
       "    0.0   155.3   236.4   209.5   268.4   359.9    1035 "
      ]
     },
     "metadata": {},
     "output_type": "display_data"
    },
    {
     "data": {
      "text/plain": [
       "   Min. 1st Qu.  Median    Mean 3rd Qu.    Max. \n",
       "    0.0   171.3   234.3   214.1   261.7   359.9 "
      ]
     },
     "metadata": {},
     "output_type": "display_data"
    }
   ],
   "source": [
    "#imputation for direction_wind\n",
    "df_train$direction_wind = (df_train$direction_wind)%%360\n",
    "df_test$direction_wind = (df_test$direction_wind)%%360\n",
    "\n",
    "summary(df_train$direction_wind)\n",
    "df_train$direction_wind[is.na(df_train$direction_wind)]  = median(df_train$direction_wind,na.rm = T)\n",
    "summary(df_train$direction_wind)\n",
    "\n",
    "summary(df_test$direction_wind)\n",
    "df_test$direction_wind[is.na(df_test$direction_wind)]  = median(df_train$direction_wind,na.rm = T)\n",
    "summary(df_test$direction_wind)"
   ]
  },
  {
   "cell_type": "code",
   "execution_count": 47,
   "id": "5131bc68",
   "metadata": {
    "vscode": {
     "languageId": "r"
    }
   },
   "outputs": [
    {
     "data": {
      "text/html": [
       "558"
      ],
      "text/latex": [
       "558"
      ],
      "text/markdown": [
       "558"
      ],
      "text/plain": [
       "[1] 558"
      ]
     },
     "metadata": {},
     "output_type": "display_data"
    },
    {
     "data": {
      "text/plain": [
       "   Min. 1st Qu.  Median    Mean 3rd Qu.    Max.    NA's \n",
       " -30.30   24.46   25.97   25.95   27.49   78.35     441 "
      ]
     },
     "metadata": {},
     "output_type": "display_data"
    },
    {
     "data": {
      "text/plain": [
       "    Min.  1st Qu.   Median     Mean  3rd Qu.     Max. \n",
       " 0.02649 24.48284 26.02998 26.02000 27.45837 78.35134 "
      ]
     },
     "metadata": {},
     "output_type": "display_data"
    },
    {
     "data": {
      "text/plain": [
       "   Min. 1st Qu.  Median    Mean 3rd Qu.    Max.    NA's \n",
       " -19.33   24.39   25.89   25.63   27.43   60.46      97 "
      ]
     },
     "metadata": {},
     "output_type": "display_data"
    },
    {
     "data": {
      "text/plain": [
       "    Min.  1st Qu.   Median     Mean  3rd Qu.     Max. \n",
       " 0.04542 24.41989 25.94306 25.72535 27.41150 60.45584 "
      ]
     },
     "metadata": {},
     "output_type": "display_data"
    }
   ],
   "source": [
    "#imputation for height_windmill\n",
    "nrow(df_train[(df_train$height_windmill < 0),])\n",
    "summary(df_train$height_windmill)\n",
    "df_train$height_windmill[is.na(df_train$height_windmill)] = 500\n",
    "df_train$height_windmill[(df_train$height_windmill < 0)] = df_train$height_windmill[(df_train$height_windmill < 0)] * -1\n",
    "df_train$height_windmill[(df_train$height_windmill == 500)] = median(df_train$height_windmill,na.rm = T)\n",
    "summary(df_train$height_windmill)\n",
    "\n",
    "summary(df_test$height_windmill)\n",
    "df_test$height_windmill[is.na(df_test$height_windmill)] = 500\n",
    "df_test$height_windmill[(df_test$height_windmill < 0)] = df_test$height_windmill[(df_test$height_windmill < 0)] * -1\n",
    "df_test$height_windmill[(df_test$height_windmill == 500)] = median(df_train$height_windmill,na.rm = T)\n",
    "summary(df_test$height_windmill)"
   ]
  },
  {
   "cell_type": "code",
   "execution_count": 48,
   "id": "f53e0862",
   "metadata": {
    "vscode": {
     "languageId": "r"
    }
   },
   "outputs": [
    {
     "data": {
      "text/plain": [
       "     Min.   1st Qu.    Median      Mean   3rd Qu.      Max.      NA's \n",
       "-146.2595   -1.1974   -0.4883   -9.5606    5.6891  165.1694       173 "
      ]
     },
     "metadata": {},
     "output_type": "display_data"
    },
    {
     "data": {
      "text/plain": [
       "     Min.   1st Qu.    Median      Mean   3rd Qu.      Max. \n",
       "-146.2595   -1.1942   -0.4883   -9.4905    5.5570  165.1694 "
      ]
     },
     "metadata": {},
     "output_type": "display_data"
    },
    {
     "data": {
      "text/plain": [
       "    Min.  1st Qu.   Median     Mean  3rd Qu.     Max.     NA's \n",
       "-99.0000  -1.1982  -0.5306 -10.0404   4.7045 165.9321       39 "
      ]
     },
     "metadata": {},
     "output_type": "display_data"
    },
    {
     "data": {
      "text/plain": [
       "    Min.  1st Qu.   Median     Mean  3rd Qu.     Max. \n",
       "-99.0000  -1.1948  -0.4995  -9.9739   4.5870 165.9321 "
      ]
     },
     "metadata": {},
     "output_type": "display_data"
    }
   ],
   "source": [
    "#imputation for blades_angle \n",
    "summary(df_train$blades_angle)\n",
    "df_train$blades_angle[is.na(df_train$blades_angle)]  = median(df_train$blades_angle,na.rm = T)\n",
    "summary(df_train$blades_angle)\n",
    "\n",
    "summary(df_test$blades_angle)\n",
    "df_test$blades_angle[is.na(df_test$blades_angle)]  = median(df_train$blades_angle,na.rm = T)\n",
    "summary(df_test$blades_angle)"
   ]
  },
  {
   "cell_type": "code",
   "execution_count": 49,
   "id": "92d5269d",
   "metadata": {
    "vscode": {
     "languageId": "r"
    }
   },
   "outputs": [
    {
     "data": {
      "text/plain": [
       "   Min. 1st Qu.  Median    Mean 3rd Qu.    Max.    NA's \n",
       " -825.2  1267.2  1677.8  1573.4  1826.8  4693.5       1 "
      ]
     },
     "metadata": {},
     "output_type": "display_data"
    },
    {
     "data": {
      "text/plain": [
       "    Min.  1st Qu.   Median     Mean  3rd Qu.     Max. \n",
       "   1.451 1291.019 1682.554 1610.690 1826.815 4693.482 "
      ]
     },
     "metadata": {},
     "output_type": "display_data"
    },
    {
     "data": {
      "text/plain": [
       "   Min. 1st Qu.  Median    Mean 3rd Qu.    Max. \n",
       "  -1005    1270    1680    1584    1834    4389 "
      ]
     },
     "metadata": {},
     "output_type": "display_data"
    },
    {
     "data": {
      "text/plain": [
       "    Min.  1st Qu.   Median     Mean  3rd Qu.     Max. \n",
       "   4.148 1290.729 1682.554 1616.003 1833.580 4389.365 "
      ]
     },
     "metadata": {},
     "output_type": "display_data"
    }
   ],
   "source": [
    "#imputation for resistance with median and converting negative values to positive\n",
    "summary(df_train$resistance)\n",
    "df_train$resistance[df_train$resistance ==-99] = NA\n",
    "df_train$resistance[is.na(df_train$resistance)] = 111111\n",
    "df_train$resistance[df_train$resistance < 0] = df_train$resistance[df_train$resistance < 0] * -1\n",
    "df_train$resistance[df_train$resistance == 111111] = NA\n",
    "df_train$resistance[is.na(df_train$resistance)] = median(df_train$resistance,na.rm = T)\n",
    "summary(df_train$resistance)\n",
    "\n",
    "summary(df_test$resistance)\n",
    "df_test$resistance[df_test$resistance ==-99] = NA\n",
    "df_test$resistance[is.na(df_test$resistance)] = 111111\n",
    "df_test$resistance[df_test$resistance < 0] = df_test$resistance[df_test$resistance < 0] * -1\n",
    "df_test$resistance[df_test$resistance == 111111] = NA\n",
    "df_test$resistance[is.na(df_test$resistance)] = median(df_train$resistance,na.rm = T)\n",
    "summary(df_test$resistance)"
   ]
  },
  {
   "cell_type": "code",
   "execution_count": 50,
   "id": "939d7e7d",
   "metadata": {
    "vscode": {
     "languageId": "r"
    }
   },
   "outputs": [
    {
     "data": {
      "text/html": [
       "1430"
      ],
      "text/latex": [
       "1430"
      ],
      "text/markdown": [
       "1430"
      ],
      "text/plain": [
       "[1] 1430"
      ]
     },
     "metadata": {},
     "output_type": "display_data"
    },
    {
     "data": {
      "text/html": [
       "1098"
      ],
      "text/latex": [
       "1098"
      ],
      "text/markdown": [
       "1098"
      ],
      "text/plain": [
       "[1] 1098"
      ]
     },
     "metadata": {},
     "output_type": "display_data"
    },
    {
     "data": {
      "text/plain": [
       "   Min. 1st Qu.  Median    Mean 3rd Qu.    Max. \n",
       "-201.17   40.55   43.23   41.12   45.91  999.00 "
      ]
     },
     "metadata": {},
     "output_type": "display_data"
    },
    {
     "data": {
      "text/plain": [
       "     Min.   1st Qu.    Median      Mean   3rd Qu.      Max. \n",
       "  0.00185  41.25807  43.41032  44.72424  45.63986 119.93030 "
      ]
     },
     "metadata": {},
     "output_type": "display_data"
    },
    {
     "data": {
      "text/plain": [
       "   Min. 1st Qu.  Median    Mean 3rd Qu.    Max.    NA's \n",
       "-244.97   40.63   43.17   40.53   45.75  348.69       1 "
      ]
     },
     "metadata": {},
     "output_type": "display_data"
    },
    {
     "data": {
      "text/plain": [
       "     Min.   1st Qu.    Median      Mean   3rd Qu.      Max. \n",
       "  0.05664  41.22193  43.41032  44.70034  45.63005 119.94582 "
      ]
     },
     "metadata": {},
     "output_type": "display_data"
    }
   ],
   "source": [
    "#imputation for gearbox_temperature.\n",
    "length(df_train$gearbox_temperature[df_train$gearbox_temperature <= -30]) - sum(is.na(df_train$gearbox_temperature))\n",
    "length(df_train$gearbox_temperature[df_train$gearbox_temperature >= 120]) - sum(is.na(df_train$gearbox_temperature))\n",
    "summary(df_train$gearbox_temperature)\n",
    "df_train$gearbox_temperature[(df_train$gearbox_temperature <=-99) | (df_train$gearbox_temperature >=120) ] = NA\n",
    "df_train$gearbox_temperature[is.na(df_train$gearbox_temperature)] = 111111\n",
    "df_train$gearbox_temperature[df_train$gearbox_temperature < 0]= df_train$gearbox_temperature[df_train$gearbox_temperature < 0] * -1\n",
    "df_train$gearbox_temperature[df_train$gearbox_temperature == 111111] = NA\n",
    "df_train$gearbox_temperature[is.na(df_train$gearbox_temperature)] = median(df_train$gearbox_temperature,na.rm = T)\n",
    "summary(df_train$gearbox_temperature)\n",
    "\n",
    "summary(df_test$gearbox_temperature)\n",
    "df_test$gearbox_temperature[(df_test$gearbox_temperature <=-99) | (df_test$gearbox_temperature >=120) ] = NA\n",
    "df_test$gearbox_temperature[is.na(df_test$gearbox_temperature)] = 111111\n",
    "df_test$gearbox_temperature[df_test$gearbox_temperature < 0] = df_test$gearbox_temperature[df_test$gearbox_temperature < 0] * -1\n",
    "df_test$gearbox_temperature[df_test$gearbox_temperature == 111111] = NA\n",
    "df_test$gearbox_temperature[is.na(df_test$gearbox_temperature)] = median(df_train$gearbox_temperature,na.rm = T)\n",
    "summary(df_test$gearbox_temperature)"
   ]
  },
  {
   "cell_type": "code",
   "execution_count": 51,
   "id": "55a11401",
   "metadata": {
    "vscode": {
     "languageId": "r"
    }
   },
   "outputs": [
    {
     "data": {
      "text/plain": [
       "   Min. 1st Qu.  Median    Mean 3rd Qu.    Max.    NA's \n",
       "-999.00   40.44   42.78   20.72   44.50  160.29    1893 "
      ]
     },
     "metadata": {},
     "output_type": "display_data"
    },
    {
     "data": {
      "text/plain": [
       "   Min. 1st Qu.  Median    Mean 3rd Qu.    Max. \n",
       " -72.27   42.29   43.28   42.55   44.33  160.29 "
      ]
     },
     "metadata": {},
     "output_type": "display_data"
    },
    {
     "data": {
      "text/plain": [
       "   Min. 1st Qu.  Median    Mean 3rd Qu.    Max.    NA's \n",
       " -99.00   40.41   42.81   20.94   44.47  323.00     459 "
      ]
     },
     "metadata": {},
     "output_type": "display_data"
    },
    {
     "data": {
      "text/plain": [
       "   Min. 1st Qu.  Median    Mean 3rd Qu.    Max. \n",
       " -67.84   42.31   43.28   42.82   44.30  323.00 "
      ]
     },
     "metadata": {},
     "output_type": "display_data"
    }
   ],
   "source": [
    "#imputation for body_temperature_windmill\n",
    "summary(df_train$body_temperature_windmill)\n",
    "df_train$body_temperature_windmill[df_train$body_temperature_windmill <= -99] = NA\n",
    "df_train$body_temperature_windmill[is.na(df_train$body_temperature_windmill)]= median(df_train$body_temperature_windmill,na.rm = T)\n",
    "summary(df_train$body_temperature_windmill)\n",
    "\n",
    "summary(df_test$body_temperature_windmill)\n",
    "df_test$body_temperature_windmill[df_test$body_temperature_windmill <= -99] = NA\n",
    "df_test$body_temperature_windmill[is.na(df_test$body_temperature_windmill)]  = median(df_train$body_temperature_windmill,na.rm = T)\n",
    "summary(df_test$body_temperature_windmill)"
   ]
  },
  {
   "cell_type": "code",
   "execution_count": 52,
   "id": "b8fec7ce",
   "metadata": {
    "vscode": {
     "languageId": "r"
    }
   },
   "outputs": [
    {
     "data": {
      "text/plain": [
       "   Min. 1st Qu.  Median    Mean 3rd Qu.    Max.    NA's \n",
       "-496.21   21.13   93.31   69.36   95.29  601.46     209 "
      ]
     },
     "metadata": {},
     "output_type": "display_data"
    },
    {
     "data": {
      "text/html": [
       "0"
      ],
      "text/latex": [
       "0"
      ],
      "text/markdown": [
       "0"
      ],
      "text/plain": [
       "[1] 0"
      ]
     },
     "metadata": {},
     "output_type": "display_data"
    },
    {
     "data": {
      "text/plain": [
       "   Min. 1st Qu.  Median    Mean 3rd Qu.    Max. \n",
       " 0.1768  3.5124  9.3632  8.4153  9.5604 60.1456 "
      ]
     },
     "metadata": {},
     "output_type": "display_data"
    },
    {
     "data": {
      "text/plain": [
       "   Min. 1st Qu.  Median    Mean 3rd Qu.    Max.    NA's \n",
       "-318.08   20.07   93.26   67.73   95.18  513.08      62 "
      ]
     },
     "metadata": {},
     "output_type": "display_data"
    },
    {
     "data": {
      "text/plain": [
       "   Min. 1st Qu.  Median    Mean 3rd Qu.    Max. \n",
       " 0.3555  3.0331  9.3536  8.2208  9.5498 51.3079 "
      ]
     },
     "metadata": {},
     "output_type": "display_data"
    }
   ],
   "source": [
    "#imputation for body_temperature_windmill\n",
    "summary(df_train$speed_wind)\n",
    "length(df_train$speed_wind[df_train$speed_wind == -99 ]) - sum(is.na(df_train$speed_wind))\n",
    "df_train$speed_wind[is.na(df_train$speed_wind)] = 111111\n",
    "df_train$speed_wind[df_train$speed_wind < 0] = df_train$speed_wind[df_train$speed_wind < 0] * -1\n",
    "df_train$speed_wind[df_train$speed_wind == 111111] = NA\n",
    "df_train$speed_wind[is.na(df_train$speed_wind)] = median(df_train$speed_wind,na.rm = T)\n",
    "df_train$speed_wind = df_train$speed_wind/10\n",
    "summary(df_train$speed_wind)\n",
    "\n",
    "summary(df_test$speed_wind)\n",
    "df_test$speed_wind[is.na(df_test$speed_wind)] = 111111\n",
    "df_test$speed_wind[df_test$speed_wind < 0] = df_test$speed_wind[df_test$speed_wind < 0] * -1\n",
    "df_test$speed_wind[df_test$speed_wind == 111111] = NA\n",
    "df_test$speed_wind[is.na(df_test$speed_wind)] = median(df_train$speed_wind,na.rm = T)\n",
    "df_test$speed_wind = df_test$speed_wind/10\n",
    "summary(df_test$speed_wind)"
   ]
  },
  {
   "cell_type": "code",
   "execution_count": 56,
   "id": "ede1f5b8",
   "metadata": {
    "vscode": {
     "languageId": "r"
    }
   },
   "outputs": [],
   "source": [
    "#install.packages(\"VIM\")\n",
    "library(VIM)"
   ]
  },
  {
   "cell_type": "code",
   "execution_count": null,
   "id": "e0008ff8",
   "metadata": {
    "vscode": {
     "languageId": "r"
    }
   },
   "outputs": [],
   "source": [
    "#   generator_temperature, area_temperature will be used in KNN to do missing value  imputation of atmospheric_temperature as they have high correlation.\n",
    "summary(df_train$atmospheric_temperature)\n",
    "nrow(df_train[(df_train$atmospheric_temperature == -99), ])\n",
    "df_train$atmospheric_temperature[(df_train$atmospheric_temperature == -99)] = NA\n",
    "df_train = kNN(df_train, variable = \"atmospheric_temperature\", k = 1, dist_var = c(\"generator_temperature\", \"area_temperature\") )\n",
    "summary(df_train$atmospheric_temperature)\n",
    "\n",
    "summary(df_test$atmospheric_temperature)\n",
    "df_test$atmospheric_temperature[(df_test$atmospheric_temperature == -99)] = NA\n",
    "df_test = kNN(df_test, variable = \"atmospheric_temperature\", k = 1, dist_var = c(\"generator_temperature\", \"area_temperature\") )\n",
    "summary(df_test$atmospheric_temperature)"
   ]
  },
  {
   "cell_type": "code",
   "execution_count": null,
   "id": "0a0a4307",
   "metadata": {
    "vscode": {
     "languageId": "r"
    }
   },
   "outputs": [],
   "source": [
    "# imputation for cloud_level\n",
    "summary(as.factor(df_train$cloud_level))\n",
    "df_train$cloud_level[df_train$cloud_level ==''] = 'Low'\n",
    "summary(as.factor(df_train$cloud_level))\n",
    "\n",
    "summary(df_test$cloud_level)\n",
    "df_test$cloud_level[df_test$cloud_level ==''] = 'Low'\n",
    "summary(df_test$cloud_level)"
   ]
  },
  {
   "cell_type": "markdown",
   "id": "4a7cc5e6",
   "metadata": {},
   "source": [
    "- Atmospheric pressure is ranging from -1021642 to 1272552, which is an impractical range for pressure as it cannot be negative and also atmospheric temperature at sea level is 101000 pascals. So we will rescale the entire pressure range from an impractical range of (-1021642, 1272552) to a practical range of (90000, 101000), without changing the distribution of atmospheric pressure. We will impute the missing values using mean of the distribution."
   ]
  },
  {
   "cell_type": "code",
   "execution_count": null,
   "id": "63f3e3fb",
   "metadata": {
    "vscode": {
     "languageId": "r"
    }
   },
   "outputs": [],
   "source": [
    "#imputation for atmospheric_pressure \n",
    "summary(df_train$atmospheric_pressure)\n",
    "summary(df_test$atmospheric_pressure)\n",
    "df_train$atmospheric_pressure [is.na(df_train$atmospheric_pressure )] = mean(df_train$atmospheric_pressure ,na.rm = T)\n",
    "df_test$atmospheric_pressure [is.na(df_test$atmospheric_pressure )] = mean(df_train$atmospheric_pressure ,na.rm = T)\n",
    "\n",
    "mu = mean(df_train$atmospheric_pressure)  #mean of atmospheric_pressure\n",
    "sigma = sd(df_train$atmospheric_pressure)  # standard deviation of atmospheric_pressure\n",
    "n = length(df_train$atmospheric_pressure)  # length of atmospheric_pressure\n",
    "z = (df_train$atmospheric_pressure - mu)/(sigma/n**0.5) #converting to z-distribution having 0 mean and 1 standard deviation\n",
    "z1 = (df_test$atmospheric_pressure - mu)/(sigma/n**0.5) #converting to z-distribution having 0 mean and 1 standard deviation\n",
    "\n",
    "Zmin = min(z) #minimum value of z distribution\n",
    "Zmax = max(z) ##maximum value of z distribution\n",
    "e_11 = 1\n",
    "e_12 = 1\n",
    "e_21 = Zmin/n**0.5\n",
    "e_22 = Zmax/n**0.5\n",
    "\n",
    "#90000 = (zmin-mu)/(sigma/n**0.5)\n",
    "#101000 = (zmax-mu)/(sigma/n**0.5)\n",
    "#solving two linear equations to find out the values of mu and sigma for which above distribution will be followed and min = 90000 and max=101000.\n",
    "\n",
    "A = matrix(c(e_11,e_12,e_21,e_22),2,2)\n",
    "b = c(90000,101000)\n",
    "a = solve(A, b, fractions = TRUE) #solving two linear equations\n",
    "mu_ = a[1]    #answer from solving two linear equations\n",
    "sigma_ = a[2] ##answer from solving two linear equations\n",
    "\n",
    "df_train$atmospheric_pressure = mu_ + z*sigma_/n**0.5 #train distribution with minimum value as 90000 and maximum value as 101000\n",
    "df_test$atmospheric_pressure = mu_ + z1*sigma_/n**0.5 \n",
    "summary(df_train$atmospheric_pressure)\n",
    "summary(df_test$atmospheric_pressure)"
   ]
  },
  {
   "cell_type": "code",
   "execution_count": null,
   "id": "57ecd33b",
   "metadata": {
    "vscode": {
     "languageId": "r"
    }
   },
   "outputs": [],
   "source": [
    "write.csv(df_train,'Windmill_train_clean.csv',row.names = F) #Writing the cleaned train csv file to local system\n",
    "write.csv(df_test,'Windmill_test_clean.csv',row.names = F)   #Writing the cleaned test csv file to local system"
   ]
  }
 ],
 "metadata": {
  "kernelspec": {
   "display_name": "R",
   "language": "R",
   "name": "ir"
  },
  "language_info": {
   "codemirror_mode": "r",
   "file_extension": ".r",
   "mimetype": "text/x-r-source",
   "name": "R",
   "pygments_lexer": "r",
   "version": "3.6.1"
  }
 },
 "nbformat": 4,
 "nbformat_minor": 5
}
